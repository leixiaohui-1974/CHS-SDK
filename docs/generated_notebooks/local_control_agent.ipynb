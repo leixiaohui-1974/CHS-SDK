{
 "cells": [
  {
   "cell_type": "markdown",
   "metadata": {},
   "source": [
    "# Agent Component: Local Control Agent\n",
    "\n",
    "The `LocalControlAgent` is a **Control Agent** that acts as the bridge between a control algorithm (like a `PIDController`) and the `MessageBus`. It is a purely event-driven agent; its logic is triggered by incoming messages, not by a `run()` loop.\n",
    "\n",
    "Its primary functions are:\n",
    "1. **Subscribe** to an `observation_topic` to receive state updates (e.g., from a `DigitalTwinAgent`).\n",
    "2. **Pass** the relevant information from the message to its internal controller.\n",
    "3. **Publish** the controller's computed action to an `action_topic`, which a physical component (like a `Gate` or `Valve`) can then listen to."
   ]
  },
  {
   "cell_type": "markdown",
   "metadata": {},
   "source": [
    "## Simulation Example\n",
    "\n",
    "In this simulation, we will create a `LocalControlAgent` that wraps a `PIDController`. We will then act as the 'rest of the system' by:\n",
    "1. Manually publishing state messages to the agent's observation topic, simulating a `DigitalTwinAgent`.\n",
    "2. Listening on the agent's action topic to capture the control signals it publishes in response."
   ]
  },
  {
   "cell_type": "code",
   "execution_count": null,
   "metadata": {},
   "outputs": [],
   "source": [
    "import pandas as pd\n",
    "from swp.local_agents.control.local_control_agent import LocalControlAgent\n",
    "from swp.local_agents.control.pid_controller import PIDController\n",
    "from swp.central_coordination.collaboration.message_bus import MessageBus\n",
    "\n",
    "# 1. Setup components\n",
    "message_bus = MessageBus()\n",
    "OBSERVATION_TOPIC = \"sensor.water_level\"\n",
    "ACTION_TOPIC = \"actuator.gate.opening\"\n",
    "\n",
    "# The controller this agent will use\n",
    "pid_controller = PIDController(Kp=-0.5, Ki=-0.1, Kd=0.0, setpoint=10.0, min_output=0.0, max_output=1.0)\n",
    "\n",
    "# The agent itself\n",
    "lca = LocalControlAgent(\n",
    "    agent_id=\"gate_controller_agent\",\n",
    "    controller=pid_controller,\n",
    "    message_bus=message_bus,\n",
    "    observation_topic=OBSERVATION_TOPIC,\n",
    "    observation_key='level', # It will look for the 'level' key in the message\n",
    "    action_topic=ACTION_TOPIC,\n",
    "    dt=1.0\n",
    ")\n",
    "\n",
    "# 2. Create a listener for the agent's output\n",
    "captured_actions = []\n",
    "def action_listener(message):\n",
    "    captured_actions.append(message)\n",
    "\n",
    "message_bus.subscribe(ACTION_TOPIC, action_listener)\n",
    "\n",
    "# 3. Simulation loop: manually publish sensor readings\n",
    "print(\"--- Manually publishing sensor readings ---\")\n",
    "process_variable_history = [15.0, 14.0, 12.5, 11.0, 10.1, 10.0]\n",
    "\n",
    "for pv in process_variable_history:\n",
    "    print(f\"Publishing observation: {{'level': {pv}}}\")\n",
    "    # This message simulates a DigitalTwinAgent's broadcast\n",
    "    message_bus.publish(OBSERVATION_TOPIC, {'level': pv, 'timestamp': '...'}) \n",
    "\n",
    "print(\"\\n--- Simulation Finished ---\")"
   ]
  },
  {
   "cell_type": "markdown",
   "metadata": {},
   "source": [
    "## Results\n",
    "\n",
    "Below are the action messages captured by our listener. For each observation we published, the `LocalControlAgent` was triggered, ran its PID controller, and published the resulting `control_signal` to the action topic. This demonstrates the complete event-driven workflow."
   ]
  },
  {
   "cell_type": "code",
   "execution_count": null,
   "metadata": {},
   "outputs": [],
   "source": [
    "if not captured_actions:\n",
    "    print(\"No actions were captured.\")\n",
    "else:\n",
al_agent` was triggered, ran its PID controller, and published the resulting `control_signal` to the action topic. This demonstrates the complete event-driven workflow."
   ]
  },
  {
   "cell_type": "code",
   "execution_count": null,
   "metadata": {},
   "outputs": [],
   "source": [
    "if not captured_actions:\n",
    "    print(\"No actions were captured.\")\n",
    "else:\n",
    "    print(f\"Captured {len(captured_actions)} actions from topic '{ACTION_TOPIC}':\\n\")\n",
    "    # Create a DataFrame for nice formatting\n",
    "    df = pd.DataFrame(captured_actions)\n",
    "    df['observed_level'] = process_variable_history\n",
    "    print(df[['observed_level', 'control_signal']])"
   ]
  }
 ],
 "metadata": {
  "kernelspec": {
   "display_name": "Python 3",
   "language": "python",
   "name": "python3"
  },
  "language_info": {
   "codemirror_mode": {
    "name": "ipython",
    "version": 3
   },
   "file_extension": ".py",
   "mimetype": "text/x-python",
   "name": "python",
   "nbconvert_exporter": "python",
   "pygments_lexer": "ipython3",
   "version": "3.12.1"
  }
 },
 "nbformat": 4,
 "nbformat_minor": 2
}
