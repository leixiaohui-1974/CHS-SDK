{
 "cells": [
  {
   "cell_type": "markdown",
   "metadata": {},
   "source": [
    "# Core Component: Message Bus\n",
    "\n",
    "The `MessageBus` is the central communication backbone for the multi-agent system. It implements the **publish-subscribe** design pattern, which allows agents to communicate without being directly aware of each other. This decoupling is a critical feature for building complex, scalable, and maintainable agent-based systems.\n",
    "\n",
    "### How it Works\n",
    "1. **Topics**: Messages are organized by topics, which are simple strings (e.g., `\"state.reservoir.level\"`).\n",
    "2. **Publishing**: An agent can send a `message` (a Python dictionary) to a specific `topic`.\n",
    "3. **Subscribing**: An agent can register a `listener` function (a callback) to a specific `topic`. \n",
    "\n",
    "When a message is published to a topic, the message bus immediately invokes all listener functions that are subscribed to that exact topic, passing the message to them.\n",
    "\n",
    "**Note:** This is a simple implementation and does not support advanced features like wildcard subscriptions."
   ]
  },
  {
   "cell_type": "markdown",
   "metadata": {},
   "source": [
    "## Demonstration\n",
    "\n",
    "In the example below, we will create a message bus and several listeners. We will subscribe them to different topics and then publish a series of messages. The output will show which listener received which message, demonstrating the topic-based routing."
   ]
  },
  {
   "cell_type": "code",
   "execution_count": null,
   "metadata": {},
   "outputs": [],
   "source": [
    "from swp.central_coordination.collaboration.message_bus import MessageBus, Message\n",
    "\n",
    "# 1. Create the Message Bus\n",
    "bus = MessageBus()\n",
    "\n",
    "# 2. Define some listener functions\n",
    "def reservoir_level_listener(message: Message):\n",
    "    print(f\"[RESERVOIR LISTENER] Received: {message}\")\n",
    "\n",
    "def gate_listener(message: Message):\n",
    "    print(f\"[GATE LISTENER] Received: {message}\")\n",
    "    \n",
    "def all_commands_listener(message: Message):\n",
    "    print(f\"[COMMANDS LISTENER] Received: {message}\")\n",
    "\n",
    "# 3. Subscribe listeners to topics\n",
    "print(\"--- Subscribing Listeners ---\")\n",
    "bus.subscribe(\"state.reservoir.level\", reservoir_level_listener)\n",
    "bus.subscribe(\"state.gate.opening\", gate_listener)\n",
    "bus.subscribe(\"command.gate.setpoint\", all_commands_listener)\n",
    "bus.subscribe(\"command.pump.status\", all_commands_listener)\n",
    "print(\"----------------------------\\n\")\n",
    "\n",
    "# 4. Publish messages\n",
    "print(\"--- Publishing Messages ---\")\n",
    "print(\"Publishing a reservoir level...\")\n",
    "bus.publish(\"state.reservoir.level\", {'value': 15.2, 'units': 'm'})\n",
    "\n",
    "print(\"\\nPublishing a gate command...\")\n",
    "bus.publish(\"command.gate.setpoint\", {'value': 0.8, 'units': 'percent'})\n",
    "\n",
    "print(\"\\nPublishing a gate state (no active listener)...\")\n",
    "bus.publish(\"state.gate.opening\", {'value': 0.75})\n",
    "\n",
    "print(\"\\nPublishing a pump command...\")\n",
    "bus.publish(\"command.pump.status\", {'value': 1, 'note': 'turn on'})\n",
    "print(\"---------------------------\")"
   ]
  },
  {
   "cell_type": "markdown",
   "metadata": {},
   "source": [
    "### Analysis of Output\n",
    "\n",
    "As the output shows:\n",
    "- The `reservoir_level_listener` only received the message published to `state.reservoir.level`.\n",
    "- The `gate_listener` only received the message for `state.gate.opening`.\n",
    "- The `all_commands_listener` received messages published to both `command.gate.setpoint` and `command.pump.status`, because we subscribed it to both topics individually.\n",
    "- No listener was invoked for the `state.gate.opening` message because the `gate_listener` was subscribed *after* the message was published. This demonstrates that subscriptions are not retroactive."
   ]
  }
 ],
 "metadata": {
  "kernelspec": {
   "display_name": "Python 3",
   "language": "python",
   "name": "python3"
  },
  "language_info": {
   "codemirror_mode": {
    "name": "ipython",
    "version": 3
   },
   "file_extension": ".py",
   "mimetype": "text/x-python",
   "name": "python",
   "nbconvert_exporter": "python",
   "pygments_lexer": "ipython3",
   "version": "3.12.1"
  }
 },
 "nbformat": 4,
 "nbformat_minor": 2
}
