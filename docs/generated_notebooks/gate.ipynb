{
 "cells": [
  {
   "cell_type": "markdown",
   "metadata": {},
   "source": [
    "# Physical Object: Gate\n",
    "\n",
    "The `Gate` class models a controllable gate in a water system. Its outflow is calculated using the orifice equation based on the upstream and downstream water levels and the area of the gate opening.\n",
    "\n",
    "A key feature of this model is the `max_rate_of_change` parameter, which simulates the physical limitation of how quickly a gate can open or close. The gate's opening will ramp towards its target value (`control_signal`) at this limited rate."
   ]
  },
  {
   "cell_type": "markdown",
   "metadata": {},
   "source": [
    "### State Variables\n",
    "- `opening` (float): The current opening of the gate (e.g., in meters or as a percentage).\n",
    "- `outflow` (float): The calculated outflow through the gate (m^3/s).\n",
    "\n",
    "### Parameters\n",
    "- `discharge_coefficient` (float): A dimensionless factor C in the orifice equation.\n",
    "- `width` (float): The width of the gate opening (m).\n",
    "- `max_opening` (float): The maximum possible opening value.\n",
    "- `max_rate_of_change` (float): The maximum speed at which the gate opening can change per second."
   ]
  },
  {
   "cell_type": "markdown",
   "metadata": {},
   "source": [
    "## Simulation Example\n",
    "\n",
    "The following example simulates a gate being given a series of target openings. We can observe how the actual opening ramps towards the target and how this affects the outflow. Upstream and downstream water levels are held constant to isolate the gate's behavior."
   ]
  },
  {
   "cell_type": "code",
   "execution_count": null,
   "metadata": {},
   "outputs": [],
   "source": [
    "import matplotlib.pyplot as plt\n",
    "import pandas as pd\n",
    "import numpy as np\n",
    "from swp.simulation_identification.physical_objects.gate import Gate\n",
    "from swp.core.interfaces import State, Parameters\n",
    "\n",
    "# 1. Define initial state and parameters\n",
    "initial_state = State(opening=0.1)\n",
    "parameters = Parameters(\n",
    "    discharge_coefficient=0.6,\n",
    "    width=10.0,\n",
    "    max_opening=1.0,\n",
    "    max_rate_of_change=0.05 # Can only change by 5% per second\n",
    ")\n",
    "\n",
    "# 2. Create a Gate instance\n",
    "gate = Gate(name=\"control_gate\", initial_state=initial_state, parameters=parameters)\n",
    "\n",
    "# 3. Simulation settings\n",
    "dt = 1.0\n",
    "simulation_duration = 100\n",
    "num_steps = int(simulation_duration / dt)\n",
    "history = []\n",
    "target_openings = []\n",
    "\n",
    "# 4. Run the simulation loop\n",
    "for t in range(num_steps):\n",
    "    # Create a varying control signal for the target opening\n",
    "    if t < 20:\n",
    "        target = 0.8\n",
    "    elif t < 60:\n",
    "        target = 0.2\n",
    "    else:\n",
    "        target = 1.0\n",
    "    target_openings.append(target)\n",
    "    \n",
    "    action = {\n",
    "        'control_signal': target,\n",
    "        'upstream_head': 10.0, # Constant upstream water level\n",
    "        'downstream_head': 8.0  # Constant downstream water level\n",
    "    }\n",
    "    \n",
    "    current_state = gate.step(action=action, dt=dt)\n",
    "    history.append(current_state.copy())\n",
    "\n",
    "print(\"Gate simulation complete.\")"
   ]
  },
  {
   "cell_type": "markdown",
   "metadata": {},
   "source": [
    "## Results and Visualization\n",
    "\n",
    "The plots show the `target_opening` (the control signal) versus the actual `opening` of the gate. The ramping behavior due to the `max_rate_of_change` is clearly visible. The `outflow` plot shows how the flow changes as a result of the gate's movement."
   ]
  },
  {
   "cell_type": "code",
   "execution_count": null,
   "metadata": {},
   "outputs": [],
   "source": [
    "# Extract data from history\n",
    "time = [i * dt for i in range(num_steps)]\n",
    "openings = [h['opening'] for h in history]\n",
    "outflows = [h['outflow'] for h in history]\n",
    "\n",
    "# Create a DataFrame\n",
    "df = pd.DataFrame({\n",
    "    'Time': time,\n",
    "    'Target Opening': target_openings,\n",
    "    'Actual Opening': openings,\n",
    "    'Outflow': outflows\n",
    "})\n",
    "\n",
    "print(df.head())\n",
    "\n",
    "# Plot the results\n",
    "fig, (ax1, ax2) = plt.subplots(2, 1, figsize=(12, 10), sharex=True)\n",
    "\n",
    "# Gate Opening\n",
    "ax1.plot(df['Time'], df['Target Opening'], label='Target Opening (Control Signal)', color='red', linestyle='--')\n",
    "ax1.plot(df['Time'], df['Actual Opening'], label='Actual Opening', color='blue')\n",
    "ax1.set_ylabel('Opening (%)')\n",
    "ax1.set_title('Gate Dynamics')\n",
    "ax1.grid(True)\n",
    "ax1.legend()\n",
    "\n",
    "# Outflow\n",
    "ax2.plot(df['Time'], df['Outflow'], label='Outflow', color='green')\n",
    "ax2.set_xlabel('Time (s)')\n",
    "ax2.set_ylabel('Outflow (m^3/s)')\n",
    "ax2.grid(True)\n",
    "ax2.legend()\n",
    "\n",
    "plt.tight_layout()\n",
    "plt.show()"
   ]
  }
 ],
 "metadata": {
  "kernelspec": {
   "display_name": "Python 3",
   "language": "python",
   "name": "python3"
  },
  "language_info": {
   "codemirror_mode": {
    "name": "ipython",
    "version": 3
   },
   "file_extension": ".py",
   "mimetype": "text/x-python",
   "name": "python",
   "nbconvert_exporter": "python",
   "pygments_lexer": "ipython3",
   "version": "3.12.1"
  }
 },
 "nbformat": 4,
 "nbformat_minor": 2
}
