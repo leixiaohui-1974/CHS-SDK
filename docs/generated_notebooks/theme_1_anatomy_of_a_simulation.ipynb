{
 "cells": [
  {
   "cell_type": "markdown",
   "metadata": {},
   "source": [
    "# Anatomy of a Simulation: A Deep Dive into the SWP Core Engine\n",
    "\n",
    "Welcome to this deep dive into the core of the Smart Water Platform (SWP). The purpose of this notebook is to explain the fundamental components that drive any simulation within the platform. Understanding these core concepts is key to building, extending, and debugging your own water system simulations.\n",
    "\n",
    "We will explore the key players in any simulation:\n",
    "- The **`SimulationHarness`**: The central conductor of our orchestra.\n",
    "- **Components**: The individual instruments, representing physical objects like reservoirs and gates.\n",
    "- **Agents**: The musicians, representing autonomous entities that perceive and act.\n",
    "- The **`MessageBus`**: The sheet music and cues that allow everyone to communicate."
   ]
  },
  {
   "cell_type": "markdown",
   "metadata": {},
   "source": [
    "## Section 1: The `SimulationHarness` - The Conductor\n",
    "\n",
    "The `SimulationHarness` is the most important object for running a simulation. It acts as the central manager, responsible for:\n",
    "\n",
    "- **Holding all the components and agents** that are part of the simulation.\n",
    "- **Managing the simulation's configuration**, such as its duration (`duration`) and time step (`dt`).\n",
    "- **Running the main simulation loop**, stepping through time and orchestrating the interactions between all parts.\n",
    "- **Providing a `MessageBus`** for agents to communicate without being directly coupled to each other."
   ]
  },
  {
   "cell_type": "markdown",
   "metadata": {},
   "source": [
    "## Section 2: The Components - The Orchestra\n",
    "\n",
    "Every object that changes over time in the simulation (like a reservoir, a gate, or even a controller) is a **Component**. To ensure they all work together, they must follow a contract.\n",
    "\n",
    "This contract is defined by the `Simulatable` interface in `swp.core.interfaces`. Any `Simulatable` object must have:\n",
    "\n",
    "- A `step(action, dt)` method: This is the core of the component. It takes an `action` (e.g., a new gate opening) and a time duration `dt`, and calculates its new state.\n",
    "- A `get_state()` method: This returns a dictionary representing the component's current state (e.g., `{'volume': 1000, 'water_level': 10.5}`).\n",
    "- `Parameters`: Each component is initialized with a dictionary of parameters that define its physical properties (e.g., a pipe's length and diameter)."
   ]
  },
  {
   "cell_type": "markdown",
   "metadata": {},
   "source": [
    "## Section 3: The Topology - Connecting the Pieces\n",
    "\n",
    "Water systems are networks. A reservoir flows into a pipe, which flows into a turbine. The `SimulationHarness` needs to understand this physical network, which we call the **topology**.\n",
    "\n",
    "We build the topology by:\n",
    "1. Adding each component to the harness: `harness.add_component(...)`\n",
    "2. Defining the directional links between them: `harness.add_connection(\"upstream_component\", \"downstream_component\")`\n",
    "\n",
    "When `harness.build()` is called, it performs a **topological sort** on this network. This creates a specific update order to ensure that when we calculate the state of a downstream component, the state of its upstream source has already been calculated for the current time step. This avoids circular dependencies and ensures a stable simulation."
   ]
  },
  {
   "cell_type": "markdown",
   "metadata": {},
   "source": [
    "## Section 4: The `MessageBus` - The Communication Channel\n",
    "\n",
    "In a simple simulation, the harness can directly control the components. But in a **Multi-Agent System (MAS)**, components and agents need to be decoupled. An agent controlling a gate shouldn't need a direct reference to the gate object; it should just send a message with the intent to change the gate's opening.\n",
    "\n",
    "This is achieved with the `MessageBus`. It uses a simple **publish-subscribe** pattern:\n",
    "- An agent can **publish** a message to a specific topic (e.g., `bus.publish(\"action.gate.opening\", {'control_signal': 0.5})`).\n",
    "- A component or another agent can **subscribe** to that topic (`bus.subscribe(\"action.gate.opening\", self.handle_action_message)`). When a message is published to the topic, the subscriber's handler method is automatically called.\n",
    "\n",
    "This keeps the system modular and allows new agents and components to be added without rewriting existing ones."
   ]
  },
  {
   "cell_type": "markdown",
   "metadata": {},
   "source": [
    "## Section 5: Case Study - A Simple MAS Control Loop\n",
    "\n",
    "Let's put all these concepts together. The code below sets up and runs a complete multi-agent simulation. \n",
    "\n",
    "**Scenario**: A `Reservoir`'s water level needs to be maintained at a setpoint of 12.0m. The outflow is controlled by a `Gate`.\n",
    "\n",
    "**The MAS**:\n",
    "1. A `DigitalTwinAgent` for the reservoir perceives its state and **publishes** its `water_level` to the topic `\"state.reservoir.level\"`.\n",
    "2. A `LocalControlAgent` **subscribes** to this topic. When it receives a new water level, its internal `PIDController` computes a new desired gate opening.\n",
    "3. The `LocalControlAgent` then **publishes** this new opening to the topic `\"action.gate.opening\"`.\n",
    "4. The `Gate` itself is **subscribed** to this action topic and adjusts its opening accordingly."
   ]
  },
  {
   "cell_type": "code",
   "execution_count": null,
   "metadata": {},
   "outputs": [],
   "source": [
    "import matplotlib.pyplot as plt\n",
    "import pandas as pd\n",
    "from swp.simulation_identification.physical_objects.reservoir import Reservoir\n",
    "from swp.simulation_identification.physical_objects.gate import Gate\n",
    "from swp.local_agents.control.pid_controller import PIDController\n",
    "from swp.local_agents.control.local_control_agent import LocalControlAgent\n",
    "from swp.local_agents.perception.digital_twin_agent import DigitalTwinAgent\n",
    "from swp.core_engine.testing.simulation_harness import SimulationHarness\n",
    "\n",
    "# 1. Create the Harness and get the MessageBus\n",
    "simulation_config = {'duration': 300, 'dt': 1.0}\n",
    "harness = SimulationHarness(config=simulation_config)\n",
    "message_bus = harness.message_bus\n",
    "\n",
    "# 2. Define communication topics\n",
    "RESERVOIR_STATE_TOPIC = \"state.reservoir.level\"\n",
    "GATE_ACTION_TOPIC = \"action.gate.opening\"\n",
    "\n",
    "# 3. Create the Physical Components\n",
    "gate_params = {'max_rate_of_change': 0.1, 'discharge_coefficient': 0.6, 'width': 10, 'max_opening': 1.0}\n",
    "reservoir = Reservoir(name=\"reservoir_1\", initial_state={'volume': 21e6, 'water_level': 14.0}, parameters={'surface_area': 1.5e6})\n",
    "# Note: The gate is subscribed to the message bus for its actions\n",
    "gate = Gate(name=\"gate_1\", initial_state={'opening': 0.1}, parameters=gate_params, message_bus=message_bus, action_topic=GATE_ACTION_TOPIC)\n",
    "\n",
    "# 4. Create the Agents\n",
    "twin_agent = DigitalTwinAgent(agent_id=\"twin_agent_reservoir_1\", simulated_object=reservoir, message_bus=message_bus, state_topic=RESERVOIR_STATE_TOPIC)\n",
    "pid_controller = PIDController(Kp=-0.5, Ki=-0.01, Kd=-0.1, setpoint=12.0, min_output=0.0, max_output=gate_params['max_opening'])\n",
    "control_agent = LocalControlAgent(agent_id=\"control_agent_gate_1\", controller=pid_controller, message_bus=message_bus, observation_topic=RESERVOIR_STATE_TOPIC, observation_key='water_level', action_topic=GATE_ACTION_TOPIC, dt=harness.dt)\n",
    "\n",
    "# 5. Add all components and agents to the harness\n",
    "harness.add_component(reservoir)\n",
    "harness.add_component(gate)\n",
    "harness.add_agent(twin_agent)\n",
    "harness.add_agent(control_agent)\n",
    "\n",
    "# 6. Define the physical topology\n",
    "harness.add_connection(\"reservoir_1\", \"gate_1\")\n",
    "\n",
    "# 7. Build and run the simulation\n",
    "import sys\n",
    "original_stdout = sys.stdout\n",
    "with open('simulation_log.txt', 'w') as f:\n",
    "    sys.stdout = f\n",
    "    harness.build()\n",
    "    # Use run_mas_simulation for agent-based simulations\n",
    "    harness.run_mas_simulation()\n",
    "sys.stdout = original_stdout\n",
    "\n",
    "print(\"Case study simulation complete.\")"
   ]
  },
  {
   "cell_type": "markdown",
   "metadata": {},
   "source": [
    "## Section 6: Visualizing the Results\n",
    "\n",
    "Now that the simulation is complete, we can use the `harness.history` (which we added in a previous step) to plot the results. The plots below show the classic behavior of a feedback control system: the controller modulates the gate opening to drive the reservoir's water level towards the desired setpoint of 12.0m."
   ]
  },
  {
   "cell_type": "code",
   "execution_count": null,
   "metadata": {},
   "outputs": [],
   "source": [
    "# Extract data from history\n",
    "time = [h['time'] for h in harness.history]\n",
    "reservoir_levels = [h['reservoir_1']['water_level'] for h in harness.history]\n",
    "gate_openings = [h['gate_1']['opening'] for h in harness.history]\n",
    "\n",
    "# Create a DataFrame for easy viewing and plotting\n",
    "df = pd.DataFrame({\n",
    "    'Time': time,\n",
    "    'Reservoir Level': reservoir_levels,\n",
    "    'Gate Opening': gate_openings\n",
    "})\n",
    "\n",
    "print(\"First 5 steps of the simulation history:\")\n",
    "print(df.head())\n",
    "\n",
    "# Plot the results\n",
    "fig, (ax1, ax2) = plt.subplots(2, 1, figsize=(12, 10), sharex=True)\n",
    "\n",
    "ax1.plot(df['Time'], df['Reservoir Level'], label='Reservoir Water Level')\n",
    "ax1.axhline(y=12.0, color='r', linestyle='--', label='Setpoint (12.0m)')\n",
    "ax1.set_ylabel('Water Level (m)')\n",
    "ax1.set_title('MAS Feedback Control Simulation')\n",
    "ax1.grid(True)\n",
    "ax1.legend()\n",
    "\n",
    "ax2.plot(df['Time'], df['Gate Opening'], label='Gate Opening', color='purple')\n",
    "ax2.set_xlabel('Time (s)')\n",
    "ax2.set_ylabel('Gate Opening (%)')\n",
    "ax2.grid(True)\n",
    "ax2.legend()\n",
    "\n",
    "plt.tight_layout()\n",
    "plt.show()"
   ]
  },
  {
   "cell_type": "markdown",
   "metadata": {},
   "source": [
    "## Conclusion\n",
    "\n",
    "You now understand the key building blocks of the Smart Water Platform. By combining a `SimulationHarness`, `Simulatable` components, a physical `topology`, and a `MessageBus` for `Agent` communication, we can create complex, decoupled, and powerful simulations of water systems."
   ]
  }
 ],
 "metadata": {
  "kernelspec": {
   "display_name": "Python 3",
   "language": "python",
   "name": "python3"
  },
  "language_info": {
   "codemirror_mode": {
    "name": "ipython",
    "version": 3
   },
   "file_extension": ".py",
   "mimetype": "text/x-python",
   "name": "python",
   "nbconvert_exporter": "python",
   "pygments_lexer": "ipython3",
   "version": "3.12.1"
  }
 },
 "nbformat": 4,
 "nbformat_minor": 2
}
