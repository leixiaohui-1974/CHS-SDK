{
 "cells": [
  {
   "cell_type": "markdown",
   "metadata": {},
   "source": [
    "# Anatomy of a Simulation\n",
    "\n",
    "Welcome to the Smart Water Platform! This notebook is the first in a series designed to introduce you to the core concepts of building and running simulations. Here, we will dissect the fundamental components of the simulation engine: the `SimulationHarness` and the `MessageBus`."
   ]
  },
  {
   "cell_type": "markdown",
   "metadata": {},
   "source": [
    "## The SimulationHarness: The Conductor of the Orchestra\n",
    "\n",
    "The `SimulationHarness` is the central coordinator for any simulation. Its primary job is to manage all the different components of a water system, understand how they are connected, and execute the simulation step-by-step in the correct order.\n",
    "\n",
    "Setting up a simulation involves a few key steps with the harness:"
   ]
  },
  {
   "cell_type": "markdown",
   "metadata": {},
   "source": [
    "### 1. Initialization\n",
    "First, we create an instance of the harness, giving it a basic configuration dictionary that specifies the simulation's `duration` and the time step `dt` (both in seconds)."
   ]
  },
  {
   "cell_type": "code",
   "execution_count": null,
   "metadata": {},
   "outputs": [],
   "source": [
    "from swp.core_engine.testing.simulation_harness import SimulationHarness\n",
    "\n",
    "simulation_config = {'duration': 600, 'dt': 1.0}\n",
    "harness = SimulationHarness(config=simulation_config)"
   ]
  },
  {
   "cell_type": "markdown",
   "metadata": {},
   "source": [
    "### 2. Adding Components\n",
    "Next, we create instances of our physical components (like reservoirs, pipes, and gates) and add them to the harness using the `add_component` method. Each component must have a unique name."
   ]
  },
  {
   "cell_type": "code",
   "execution_count": null,
   "metadata": {},
   "outputs": [],
   "source": [
    "from swp.simulation_identification.physical_objects.reservoir import Reservoir\n",
    "from swp.simulation_identification.physical_objects.gate import Gate\n",
    "from swp.simulation_identification.physical_objects.pipe import Pipe\n",
    "\n",
    "# Define the components\n",
    "reservoir = Reservoir(name=\"res1\", initial_state={'volume': 25e6, 'water_level': 15.0}, parameters={'surface_area': 1.5e6})\n",
    "pipe = Pipe(name=\"pipe1\", initial_state={'outflow': 0}, parameters={'length': 1000, 'diameter': 1.5, 'friction_factor': 0.02})\n",
    "gate = Gate(name=\"g1\", initial_state={'opening': 0.3}, parameters={'width': 10, 'max_opening': 1.0, 'discharge_coefficient': 0.6})\n",
    "\n",
    "# Add them to the harness\n",
    "harness.add_component(reservoir)\n",
    "harness.add_component(pipe)\n",
    "harness.add_component(gate)"
   ]
  },
  {
   "cell_type": "markdown",
   "metadata": {},
   "source": [
    "### 3. Defining the Topology\n",
    "Once the components are added, we tell the harness how they are connected using `add_connection`. This defines the network's **topology** (the directed graph of how water flows). The harness stores this topology to determine the simulation order."
   ]
  },
  {
   "cell_type": "code",
   "execution_count": null,
   "metadata": {},
   "outputs": [],
   "source": [
    "harness.add_connection(\"res1\", \"pipe1\")\n",
    "harness.add_connection(\"pipe1\", \"g1\")"
   ]
  },
  {
   "cell_type": "markdown",
   "metadata": {},
   "source": [
    "### 4. Visualizing the Topology\n",
    "The harness stores the connections in its `topology` attribute. We can use a library like `NetworkX` to quickly visualize the system we've just defined."
   ]
  },
  {
   "cell_type": "code",
   "execution_count": null,
   "metadata": {},
   "outputs": [],
   "source": [
    "import networkx as nx\n",
    "import matplotlib.pyplot as plt\n",
    "\n",
    "# The harness topology is a dictionary suitable for creating a directed graph\n",
    "G = nx.DiGraph(harness.topology)\n",
    "\n",
    "plt.figure(figsize=(8, 4))\n",
    "pos = nx.spring_layout(G, seed=42)\n",
    "nx.draw(G, pos, with_labels=True, node_size=3000, node_color='lightblue', font_size=12, font_weight='bold', arrows=True, arrowsize=20)\n",
    "plt.title('Simulation Network Topology')\n",
    "plt.show()"
   ]
  },
  {
   "cell_type": "markdown",
   "metadata": {},
   "source": [
    "### 5. Building and Running\n",
    "- **`build()`**: This crucial method prepares the harness for execution. Its main job is to perform a **topological sort** on the component graph. This ensures that when the simulation runs, upstream components are always calculated before their downstream counterparts.\n",
    "- **`run_simulation()`**: This method executes the main simulation loop. At each time step, it iterates through the sorted components, calling their `step` methods with the appropriate inputs. \n",
    "\n",
    "After running, the results are stored in the `harness.history` attribute, which we can use for analysis and plotting."
   ]
  },
  {
   "cell_type": "code",
   "execution_count": null,
   "metadata": {},
   "outputs": [],
   "source": [
    "# Build and run the simulation\n",
    "# We redirect the verbose simulation log to a file to keep the notebook output clean\n",
    "import sys\n",
    "original_stdout = sys.stdout\n",
    "with open('simulation_log.txt', 'w') as f:\n",
    "    sys.stdout = f\n",
    "    harness.build()\n",
    "    harness.run_simulation()\n",
    "sys.stdout = original_stdout # Restore stdout\n",
    "\n",
    "print(\"Simulation complete. Results are stored in harness.history.\")"
   ]
  },
  {
   "cell_type": "markdown",
   "metadata": {},
   "source": [
    "## The MessageBus: The Nervous System\n",
    "\n",
    "You may have noticed that the `SimulationHarness` also creates a `message_bus`. While not used in this simple, centralized simulation, the message bus is the backbone of all agent-based control. It allows components and agents to communicate in a decoupled way by publishing and subscribing to messages on named 'topics'.\n",
    "\n",
    "This powerful concept will be the focus of our next notebook, **\"Guide to Feedback Control\"**."
   ]
  },
  {
   "cell_type": "markdown",
   "metadata": {},
   "source": [
    "## Analyzing the Results\n",
    "\n",
    "Finally, we can inspect the `harness.history` to see what happened during the simulation. Let's plot the water level in the reservoir."
   ]
  },
  {
   "cell_type": "code",
   "execution_count": null,
   "metadata": {},
   "outputs": [],
   "source": [
    "import pandas as pd\n",
    "\n",
    "time = [h['time'] for h in harness.history]\n",
    "res_level = [h['res1']['water_level'] for h in harness.history]\n",
    "\n",
    "df = pd.DataFrame({'Time (s)': time, 'Reservoir Level (m)': res_level})\n",
    "\n",
    "df.plot(x='Time (s)', y='Reservoir Level (m)', figsize=(12, 6), grid=True, title='Reservoir Water Level During Simulation')"
   ]
  }
 ],
 "metadata": {
  "kernelspec": {
   "display_name": "Python 3",
   "language": "python",
   "name": "python3"
  },
  "language_info": {
   "codemirror_mode": {
    "name": "ipython",
    "version": 3
   },
   "file_extension": ".py",
   "mimetype": "text/x-python",
   "name": "python",
   "nbconvert_exporter": "python",
   "pygments_lexer": "ipython3",
   "version": "3.12.1"
  }
 },
 "nbformat": 4,
 "nbformat_minor": 2
}
