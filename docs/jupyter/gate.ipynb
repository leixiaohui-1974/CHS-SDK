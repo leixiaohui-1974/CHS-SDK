{
 "cells": [
  {
   "cell_type": "markdown",
   "metadata": {},
   "source": [
    "# Gate Model"
   ]
  },
  {
   "cell_type": "markdown",
   "metadata": {},
   "source": [
    "The `Gate` class represents a controllable gate in a water management system. It models the outflow based on the upstream and downstream water levels, and the gate's opening height. This notebook explains how to use the `Gate` model and simulates its behavior under changing control signals."
   ]
  },
  {
   "cell_type": "markdown",
   "metadata": {},
   "source": [
    "## State Variables\n",
    "\n",
    "The state of the gate is described by:\n",
    "\n",
    "- `opening` (float): The current opening height of the gate (m).\n",
    "- `outflow` (float): The outflow rate through the gate (m^3/s)."
   ]
  },
  {
   "cell_type": "markdown",
   "metadata": {},
   "source": [
    "## Parameters\n",
    "\n",
    "The gate's physical and operational characteristics are defined by:\n",
    "\n",
    "- `discharge_coefficient` (float): A dimensionless coefficient representing the efficiency of the gate's flow.\n",
    "- `width` (float): The width of the gate (m).\n",
    "- `max_opening` (float): The maximum possible opening height of the gate (m).\n",
    "- `max_rate_of_change` (float): The maximum speed at which the gate opening can change (m/s)."
   ]
  },
  {
   "cell_type": "markdown",
   "metadata": {},
   "source": [
    "## Simulation Example\n",
    "\n",
    "The following example demonstrates how to create a `Gate` instance and simulate its operation. The simulation shows the gate opening to a target level, and then closing. The outflow is calculated at each step based on assumed constant water levels.\n",
    "\n",
    "**Note:** To run this notebook, ensure you have `matplotlib` installed (`pip install matplotlib`) and that you are running the Jupyter server from the root directory of the project."
   ]
  },
  {
   "cell_type": "code",
   "execution_count": null,
   "metadata": {},
   "outputs": [],
   "source": [
    "import matplotlib.pyplot as plt\n",
    "from swp.simulation_identification.physical_objects.gate import Gate\n",
    "from swp.core.interfaces import State, Parameters\n",
    "\n",
    "# Initial state and parameters for the gate\n",
    "initial_state = State(opening=0.0, outflow=0.0)\n",
    "parameters = Parameters(\n",
    "    discharge_coefficient=0.61,\n",
    "    width=5.0,              # meters\n",
    "    max_opening=2.0,        # meters\n",
    "    max_rate_of_change=0.05 # m/s\n",
    ")\n",
    "\n",
    "# Create a Gate instance\n",
    "gate = Gate(name=\"control_gate\", initial_state=initial_state, parameters=parameters)\n",
    "\n",
    "# Simulation settings\n",
    "dt = 1  # time step in seconds\n",
    "simulation_duration = 120  # 2 minutes\n",
    "num_steps = int(simulation_duration / dt)\n",
    "\n",
    "# Store results for plotting\n",
    "history = []\n",
    "\n",
    "# Define external conditions and control signals for the simulation\n",
    "upstream_water_level = 10.0  # constant upstream water level (m)\n",
    "downstream_water_level = 8.0   # constant downstream water level (m)\n",
    "\n",
    "# Run the simulation loop\n",
    "for t in range(num_steps):\n",
    "    # Define the control signal based on time\n",
    "    if t < 20:\n",
    "        target_opening = 1.5  # Command to open\n",
    "    elif t > 80:\n",
    "        target_opening = 0.5  # Command to partially close\n",
    "    else:\n",
    "        target_opening = 1.5 # Maintain opening\n",
    "        \n",
    "    action = {\n",
    "        'control_signal': target_opening,\n",
    "        'upstream_head': upstream_water_level,\n",
    "        'downstream_head': downstream_water_level\n",
    "    }\n",
    "    \n",
    "    current_state = gate.step(action=action, dt=dt)\n",
    "    history.append(current_state.copy())\n",
    "\n",
    "# Print the final state\n",
    "print(\"Final State:\", gate.get_state())\n",
    "\n",
    "# Prepare data for plotting\n",
    "time_steps = [i * dt for i in range(num_steps)]\n",
    "openings = [s['opening'] for s in history]\n",
    "outflows = [s['outflow'] for s in history]\n",
    "\n",
    "# Plot the results\n",
    "fig, (ax1, ax2) = plt.subplots(2, 1, figsize=(10, 8), sharex=True)\n",
    "\n",
    "ax1.plot(time_steps, openings, label='Gate Opening')\n",
    "ax1.set_ylabel('Opening (m)')\n",
    "ax1.set_title('Gate Operation Simulation')\n",
    "ax1.axhline(1.5, color='r', linestyle='--', label='Target Opening (1.5m)')\n",
    "ax1.axhline(0.5, color='g', linestyle='--', label='Target Opening (0.5m)')\n",
    "ax1.grid(True)\n",
    "ax1.legend()\n",
    "\n",
    "ax2.plot(time_steps, outflows, label='Outflow', color='orange')\n",
    "ax2.set_xlabel('Time (seconds)')\n",
    "ax2.set_ylabel('Outflow (m^3/s)')\n",
    "ax2.grid(True)\n",
    "ax2.legend()\n",
    "\n",
    "plt.tight_layout()\n",
    "plt.show()\n"
   ]
  }
 ],
 "metadata": {
  "kernelspec": {
   "display_name": "Python 3",
   "language": "python",
   "name": "python3"
  },
  "language_info": {
   "codemirror_mode": {
    "name": "ipython",
    "version": 3
   },
   "file_extension": ".py",
   "mimetype": "text/x-python",
   "name": "python",
   "nbconvert_exporter": "python",
   "pygments_lexer": "ipython3",
   "version": "3.12.1"
  }
 },
 "nbformat": 4,
 "nbformat_minor": 2
}
