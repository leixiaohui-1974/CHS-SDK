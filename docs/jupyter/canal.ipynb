{
 "cells": [
  {
   "cell_type": "markdown",
   "metadata": {},
   "source": [
    "# Canal Model"
   ]
  },
  {
   "cell_type": "markdown",
   "metadata": {},
   "source": [
    "The `Canal` class represents a canal with a trapezoidal cross-section. It uses Manning's equation to model the water flow. This notebook demonstrates how to use the `Canal` class to simulate the water dynamics in a canal segment."
   ]
  },
  {
   "cell_type": "markdown",
   "metadata": {},
   "source": [
    "## State Variables\n",
    "\n",
    "The state of the canal is defined by the following variables:\n",
    "\n",
    "- `volume` (float): The current volume of water in the canal (m^3).\n",
    "- `water_level` (float): The current water level in the canal (m).\n",
    "- `outflow` (float): The calculated outflow from the canal for the current step (m^3/s)."
   ]
  },
  {
   "cell_type": "markdown",
   "metadata": {},
   "source": [
    "## Parameters\n",
    "\n",
    "The physical characteristics of the canal are defined by these parameters:\n",
    "\n",
    "- `bottom_width` (float): The width of the bottom of the canal (m).\n",
    "- `length` (float): The length of the canal segment (m).\n",
    "- `slope` (float): The longitudinal slope of the canal bed (dimensionless).\n",
    "- `side_slope_z` (float): The slope of the canal sides (z in z:1, horizontal:vertical).\n",
    "- `manning_n` (float): Manning's roughness coefficient."
   ]
  },
  {
   "cell_type": "markdown",
   "metadata": {},
   "source": [
    "## Simulation Example\n",
    "\n",
    "The following code sets up and runs a simulation of a canal. It initializes the canal with a starting volume and physical parameters, then applies a constant inflow over a period of time. The results, including volume, water level, and outflow, are plotted.\n",
    "\n",
    "**Note:** To run this notebook, ensure you have `matplotlib` installed (`pip install matplotlib`) and that you are running the Jupyter server from the root directory of the project."
   ]
  },
  {
   "cell_type": "code",
   "execution_count": null,
   "metadata": {},
   "outputs": [],
   "source": [
    "import matplotlib.pyplot as plt\n",
    "from swp.simulation_identification.physical_objects.canal import Canal\n",
    "from swp.core.interfaces import State\n",
    "\n",
    "# Define the initial state and parameters for the canal\n",
    "initial_state = State(volume=1000.0, water_level=0.0, outflow=0.0)\n",
    "parameters = {\n",
    "    'bottom_width': 10.0,    # meters\n",
    "    'length': 1000.0,        # meters\n",
    "    'slope': 0.001,          # dimensionless\n",
    "    'side_slope_z': 2.0,     # z:1, horizontal:vertical\n",
    "    'manning_n': 0.03        # Manning's roughness coefficient\n",
    "}\n",
    "\n",
    "# Create an instance of the Canal model\n",
    "canal = Canal(name=\"main_canal\", initial_state=initial_state, parameters=parameters)\n",
    "\n",
    "# Simulation settings\n",
    "dt = 60  # time step in seconds (1 minute)\n",
    "simulation_duration = 3600 * 2  # 2 hours\n",
    "num_steps = int(simulation_duration / dt)\n",
    "inflow_rate = 5.0  # constant inflow in m^3/s\n",
    "\n",
    "# Store results for plotting\n",
    "history = []\n",
    "\n",
    "# Run the simulation loop\n",
    "for _ in range(num_steps):\n",
    "    canal.set_inflow(inflow_rate)\n",
    "    current_state = canal.step(action=None, dt=dt)\n",
    "    history.append(current_state.copy()) # Store a copy of the state at each step\n",
    "\n",
    "# Print the final state of the canal\n",
    "print(\"Final State:\")\n",
    "print(canal.get_state())\n",
    "\n",
    "# Prepare data for plotting\n",
    "time_in_hours = [i * dt / 3600 for i in range(num_steps)]\n",
    "volumes = [s['volume'] for s in history]\n",
    "water_levels = [s['water_level'] for s in history]\n",
    "outflows = [s['outflow'] for s in history]\n",
    "\n",
    "# Plot the results\n",
    "fig, (ax1, ax2, ax3) = plt.subplots(3, 1, figsize=(12, 10), sharex=True)\n",
    "\n",
    "ax1.plot(time_in_hours, volumes, label='Volume')\n",
    "ax1.set_ylabel('Volume (m^3)')\n",
    "ax1.set_title('Canal Dynamics Simulation')\n",
    "ax1.grid(True)\n",
    "ax1.legend()\n",
    "\n",
    "ax2.plot(time_in_hours, water_levels, label='Water Level', color='orange')\n",
    "ax2.set_ylabel('Water Level (m)')\n",
    "ax2.grid(True)\n",
    "ax2.legend()\n",
    "\n",
    "ax3.plot(time_in_hours, outflows, label='Outflow', color='green')\n",
    "ax3.set_xlabel('Time (hours)')\n",
    "ax3.set_ylabel('Outflow (m^3/s)')\n",
    "ax3.grid(True)\n",
    "ax3.legend()\n",
    "\n",
    "plt.tight_layout()\n",
    "plt.show()\n"
   ]
  }
 ],
 "metadata": {
  "kernelspec": {
   "display_name": "Python 3",
   "language": "python",
   "name": "python3"
  },
  "language_info": {
   "codemirror_mode": {
    "name": "ipython",
    "version": 3
   },
   "file_extension": ".py",
   "mimetype": "text/x-python",
   "name": "python",
   "nbconvert_exporter": "python",
   "pygments_lexer": "ipython3",
   "version": "3.12.1"
  }
 },
 "nbformat": 4,
 "nbformat_minor": 2
}
