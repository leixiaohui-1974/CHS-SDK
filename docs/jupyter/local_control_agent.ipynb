{
 "cells": [
  {
   "cell_type": "markdown",
   "metadata": {},
   "source": [
    "# Local Control Agent"
   ]
  },
  {
   "cell_type": "markdown",
   "metadata": {},
   "source": [
    "The `LocalControlAgent` is a key component in the multi-agent system (MAS). It acts as a wrapper for a specific control algorithm (like a PID controller), enabling it to operate within the broader system by handling communication through the `MessageBus`. Its primary role is to listen for sensor data, process it using its encapsulated controller, and publish a control action."
   ]
  },
  {
   "cell_type": "markdown",
   "metadata": {},
   "source": [
    "## Core Concepts\n",
    "\n",
    "- **Encapsulation:** It hides the complexity of the control logic inside a dedicated `Controller` object.\n",
    "- **Event-Driven:** The agent doesn't run in a continuous loop. Instead, it reacts to messages. Its core logic is triggered when a new message arrives on its subscribed `observation_topic`.\n",
    "- **Communication:** It uses a `MessageBus` to subscribe to topics (for sensor data and commands) and publish to topics (for control actions)."
   ]
  },
  {
   "cell_type": "markdown",
   "metadata": {},
   "source": [
    "## Key Parameters\n",
    "\n",
    "- `agent_id`: A unique identifier for the agent.\n",
    "- `controller`: An instance of a class that implements the `Controller` interface.\n",
    "- `message_bus`: The shared message bus for the system.\n",
    "- `observation_topic`: The topic the agent listens to for sensor readings.\n",
    "- `observation_key`: The specific key within the observation message that contains the process variable (e.g., 'water_level').\n",
    "- `action_topic`: The topic where the agent publishes its calculated control signal."
   ]
  },
  {
   "cell_type": "markdown",
   "metadata": {},
   "source": [
    "## Simulation Example\n",
    "\n",
    "The following example demonstrates how to set up and use a `LocalControlAgent`. We create a mock controller, a message bus, and the agent itself. We then simulate a sensor publishing a new measurement, and we'll see how the agent processes this information and publishes a corresponding control action, which is received by a mock actuator.\n",
    "\n",
    "**Note:** To run this notebook, you need to be running the Jupyter server from the root directory of the project."
   ]
  },
  {
   "cell_type": "code",
   "execution_count": null,
   "metadata": {},
   "outputs": [],
   "source": [
    "import time\n",
    "from swp.core.interfaces import Agent, Controller, State\n",
    "from swp.central_coordination.collaboration.message_bus import MessageBus, Message\n",
    "from swp.local_agents.control.local_control_agent import LocalControlAgent\n",
    "\n",
    "# 1. Mock Controller for demonstration\n",
    "class MockProportionalController(Controller):\n",
    "    def __init__(self, gain):\n",
    "        self.gain = gain\n",
    "        self.setpoint = 5.0 # Target value\n",
    "        \n",
    "    def compute_control_action(self, state: State, dt: float) -> any:\n",
    "        error = self.setpoint - state['process_variable']\n",
    "        return self.gain * error\n",
    "\n",
    "    def set_setpoint(self, new_setpoint: float):\n",
    "        self.setpoint = new_setpoint\n",
    "\n",
    "# 2. Setup the communication bus\n",
    "bus = MessageBus()\n",
    "\n",
    "# 3. Mock Actuator to receive control signals\n",
    "received_actions = []\n",
    "def actuator_callback(message: Message):\n",
    "    print(f\"Actuator received: {message}\")\n",
    "    received_actions.append(message)\n",
    "\n",
    "bus.subscribe('gate_control_topic', actuator_callback)\n",
    "\n",
    "# 4. Instantiate the Controller and the Agent\n",
    "p_controller = MockProportionalController(gain=0.5)\n",
    "control_agent = LocalControlAgent(\n",
    "    agent_id=\"gate_controller_1\",\n",
    "    controller=p_controller,\n",
    "    message_bus=bus,\n",
    "    observation_topic='reservoir_level_topic',\n",
    "    observation_key='water_level',\n",
    "    action_topic='gate_control_topic',\n",
    "    dt=1.0\n",
    ")\n",
    "\n",
    "# 5. Simulate a sensor publishing data\n",
    "print(\"--- Sensor Publishing Data ---\")\n",
    "sensor_data = {'water_level': 4.8, 'timestamp': time.time()}\n",
    "bus.publish('reservoir_level_topic', sensor_data)\n",
    "\n",
    "# The message bus processes messages immediately\n",
    "print(\"--- Verification ---\")\n",
    "assert len(received_actions) == 1\n",
    "# Corrected assertion for floating point comparison\n",
    "assert abs(received_actions[0]['control_signal'] - (0.5 * (5.0 - 4.8))) < 1e-9\n",
    "print(\"Successfully received the correct control signal.\")"
   ]
  }
 ],
 "metadata": {
  "kernelspec": {
   "display_name": "Python 3",
   "language": "python",
   "name": "python3"
  },
  "language_info": {
   "codemirror_mode": {
    "name": "ipython",
    "version": 3
   },
   "file_extension": ".py",
   "mimetype": "text/x-python",
   "name": "python",
   "nbconvert_exporter": "python",
   "pygments_lexer": "ipython3",
   "version": "3.12.1"
  }
 },
 "nbformat": 4,
 "nbformat_minor": 2
}
