{
 "cells": [
  {
   "cell_type": "markdown",
   "metadata": {},
   "source": [
    "# Pump Model"
   ]
  },
  {
   "cell_type": "markdown",
   "metadata": {},
   "source": [
    "The `Pump` class represents a controllable pump in a water system. It can be turned on or off to provide a specific flow rate, provided it can overcome the head difference between the upstream and downstream points. This notebook explains the `Pump` model and demonstrates its use in a simulation."
   ]
  },
  {
   "cell_type": "markdown",
   "metadata": {},
   "source": [
    "## State Variables\n",
    "\n",
    "The state of the pump is described by:\n",
    "\n",
    "- `status` (int): The operational status of the pump (0 for off, 1 for on).\n",
    "- `outflow` (float): The flow rate produced by the pump (m^3/s).\n",
    "- `power_draw_kw` (float): The electrical power consumed by the pump (kW)."
   ]
  },
  {
   "cell_type": "markdown",
   "metadata": {},
   "source": [
    "## Parameters\n",
    "\n",
    "The pump's operational characteristics are defined by:\n",
    "\n",
    "- `max_head` (float): The maximum pressure head the pump can overcome (m).\n",
    "- `max_flow_rate` (float): The flow rate of the pump when it is on and the head is within limits (m^3/s).\n",
    "- `power_consumption_kw` (float): The power consumed by the pump when it is running (kW)."
   ]
  },
  {
   "cell_type": "markdown",
   "metadata": {},
   "source": [
    "## Simulation Example\n",
    "\n",
    "The following example simulates the operation of a pump. The pump is turned on and off during the simulation, and the upstream and downstream water levels are defined. The simulation tracks the pump's status, outflow, and power consumption, which are then plotted.\n",
    "\n",
    "**Note:** To run this notebook, ensure you have `matplotlib` installed (`pip install matplotlib`) and that you are running the Jupyter server from the root directory of the project."
   ]
  },
  {
   "cell_type": "code",
   "execution_count": null,
   "metadata": {},
   "outputs": [],
   "source": [
    "import matplotlib.pyplot as plt\n",
    "from swp.simulation_identification.physical_objects.pump import Pump\n",
    "from swp.core.interfaces import State, Parameters\n",
    "\n",
    "# Initial state and parameters for the pump\n",
    "initial_state = State(status=0, outflow=0.0, power_draw_kw=0.0)\n",
    "parameters = Parameters(\n",
    "    max_head=25.0,             # meters\n",
    "    max_flow_rate=2.0,         # m^3/s\n",
    "    power_consumption_kw=150.0 # kW\n",
    ")\n",
    "\n",
    "# Create a Pump instance\n",
    "pump = Pump(name=\"main_pump\", initial_state=initial_state, parameters=parameters)\n",
    "\n",
    "# Simulation settings\n",
    "dt = 1  # time step in seconds\n",
    "simulation_duration = 100\n",
    "num_steps = int(simulation_duration / dt)\n",
    "\n",
    "# Store results for plotting\n",
    "history = []\n",
    "\n",
    "# Define external conditions\n",
    "upstream_head = 10.0\n",
    "downstream_head = 30.0\n",
    "\n",
    "# Run the simulation loop\n",
    "for t in range(num_steps):\n",
    "    # Turn the pump on for a period, then off\n",
    "    if 20 <= t < 80:\n",
    "        control_signal = 1  # On\n",
    "    else:\n",
    "        control_signal = 0  # Off\n",
    "    \n",
    "    action = {\n",
    "        'control_signal': control_signal,\n",
    "        'upstream_head': upstream_head,\n",
    "        'downstream_head': downstream_head\n",
    "    }\n",
    "    \n",
    "    current_state = pump.step(action=action, dt=dt)\n",
    "    history.append(current_state.copy())\n",
    "\n",
    "# Print the final state\n",
    "print(\"Final State:\", pump.get_state())\n",
    "\n",
    "# Prepare data for plotting\n",
    "time_steps = [i * dt for i in range(num_steps)]\n",
    "statuses = [s['status'] for s in history]\n",
    "outflows = [s['outflow'] for s in history]\n",
    "power_draws = [s['power_draw_kw'] for s in history]\n",
    "\n",
    "# Plot the results\n",
    "fig, (ax1, ax2, ax3) = plt.subplots(3, 1, figsize=(12, 10), sharex=True)\n",
    "\n",
    "ax1.plot(time_steps, statuses, label='Pump Status', drawstyle='steps-post')\n",
    "ax1.set_ylabel('Status (0=Off, 1=On)')\n",
    "ax1.set_title('Pump Operation Simulation')\n",
    "ax1.grid(True)\n",
    "ax1.legend()\n",
    "\n",
    "ax2.plot(time_steps, outflows, label='Outflow', color='orange')\n",
    "ax2.set_ylabel('Outflow (m^3/s)')\n",
    "ax2.grid(True)\n",
    "ax2.legend()\n",
    "\n",
    "ax3.plot(time_steps, power_draws, label='Power Draw', color='green')\n",
    "ax3.set_xlabel('Time (seconds)')\n",
    "ax3.set_ylabel('Power (kW)')\n",
    "ax3.grid(True)\n",
    "ax3.legend()\n",
    "\n",
    "plt.tight_layout()\n",
    "plt.show()\n"
   ]
  }
 ],
 "metadata": {
  "kernelspec": {
   "display_name": "Python 3",
   "language": "python",
   "name": "python3"
  },
  "language_info": {
   "codemirror_mode": {
    "name": "ipython",
    "version": 3
   },
   "file_extension": ".py",
   "mimetype": "text/x-python",
   "name": "python",
   "nbconvert_exporter": "python",
   "pygments_lexer": "ipython3",
   "version": "3.12.1"
  }
 },
 "nbformat": 4,
 "nbformat_minor": 2
}
