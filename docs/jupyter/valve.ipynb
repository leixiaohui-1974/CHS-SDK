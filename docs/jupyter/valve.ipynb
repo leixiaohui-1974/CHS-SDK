{
 "cells": [
  {
   "cell_type": "markdown",
   "metadata": {},
   "source": [
    "# Valve Model"
   ]
  },
  {
   "cell_type": "markdown",
   "metadata": {},
   "source": [
    "The `Valve` class represents a controllable valve in a water distribution system. Its primary function is to regulate flow based on an opening percentage. The flow rate is calculated using a modified orifice equation, which considers the head difference across the valve. This notebook provides an overview of the `Valve` model and a simulation of its operation."
   ]
  },
  {
   "cell_type": "markdown",
   "metadata": {},
   "source": [
    "## State Variables\n",
    "\n",
    "The state of the valve is described by:\n",
    "\n",
    "- `opening` (float): The current opening of the valve, as a percentage (0-100).\n",
    "- `outflow` (float): The calculated flow rate through the valve (m^3/s)."
   ]
  },
  {
   "cell_type": "markdown",
   "metadata": {},
   "source": [
    "## Parameters\n",
    "\n",
    "The physical properties of the valve are defined by:\n",
    "\n",
    "- `discharge_coefficient` (float): The maximum discharge coefficient (when the valve is 100% open).\n",
    "- `diameter` (float): The diameter of the valve's pipe (m)."
   ]
  },
  {
   "cell_type": "markdown",
   "metadata": {},
   "source": [
    "## Simulation Example\n",
    "\n",
    "The following example simulates a valve under varying control signals. The valve's opening is adjusted over time, and the resulting outflow is calculated based on a constant head difference. The simulation results, including the opening percentage and outflow, are then plotted.\n",
    "\n",
    "**Note:** To run this notebook, ensure you have `matplotlib` installed (`pip install matplotlib`) and that you are running the Jupyter server from the root directory of the project."
   ]
  },
  {
   "cell_type": "code",
   "execution_count": null,
   "metadata": {},
   "outputs": [],
   "source": [
    "import matplotlib.pyplot as plt\n",
    "from swp.simulation_identification.physical_objects.valve import Valve\n",
    "from swp.core.interfaces import State, Parameters\n",
    "\n",
    "# Initial state and parameters for the valve\n",
    "initial_state = State(opening=0.0, outflow=0.0)\n",
    "parameters = Parameters(\n",
    "    discharge_coefficient=0.85,\n",
    "    diameter=0.3 # 300mm\n",
    ")\n",
    "\n",
    "# Create a Valve instance\n",
    "valve = Valve(name=\"control_valve\", initial_state=initial_state, parameters=parameters)\n",
    "\n",
    "# Simulation settings\n",
    "dt = 1  # time step in seconds\n",
    "simulation_duration = 120\n",
    "num_steps = int(simulation_duration / dt)\n",
    "\n",
    "# Store results for plotting\n",
    "history = []\n",
    "\n",
    "# Define external conditions\n",
    "upstream_head = 20.0\n",
    "downstream_head = 15.0\n",
    "\n",
    "# Run the simulation loop\n",
    "for t in range(num_steps):\n",
    "    # Vary the valve opening over time\n",
    "    if t < 30:\n",
    "        control_signal = 75 # Open to 75%\n",
    "    elif t > 90:\n",
    "        control_signal = 25 # Close to 25%\n",
    "    else:\n",
    "        control_signal = 100 # Fully open\n",
    "\n",
    "    action = {\n",
    "        'control_signal': control_signal,\n",
    "        'upstream_head': upstream_head,\n",
    "        'downstream_head': downstream_head\n",
    "    }\n",
    "    \n",
    "    current_state = valve.step(action=action, dt=dt)\n",
    "    history.append(current_state.copy())\n",
    "\n",
    "# Print the final state\n",
    "print(\"Final State:\", valve.get_state())\n",
    "\n",
    "# Prepare data for plotting\n",
    "time_steps = [i * dt for i in range(num_steps)]\n",
    "openings = [s['opening'] for s in history]\n",
    "outflows = [s['outflow'] for s in history]\n",
    "\n",
    "# Plot the results\n",
    "fig, (ax1, ax2) = plt.subplots(2, 1, figsize=(12, 8), sharex=True)\n",
    "\n",
    "ax1.plot(time_steps, openings, label='Valve Opening', drawstyle='steps-post')\n",
    "ax1.set_ylabel('Opening (%)')\n",
    "ax1.set_title('Valve Operation Simulation')\n",
    "ax1.grid(True)\n",
    "ax1.legend()\n",
    "\n",
    "ax2.plot(time_steps, outflows, label='Outflow', color='orange')\n",
    "ax2.set_xlabel('Time (seconds)')\n",
    "ax2.set_ylabel('Outflow (m^3/s)')\n",
    "ax2.grid(True)\n",
    "ax2.legend()\n",
    "\n",
    "plt.tight_layout()\n",
    "plt.show()\n"
   ]
  }
 ],
 "metadata": {
  "kernelspec": {
   "display_name": "Python 3",
   "language": "python",
   "name": "python3"
  },
  "language_info": {
   "codemirror_mode": {
    "name": "ipython",
    "version": 3
   },
   "file_extension": ".py",
   "mimetype": "text/x-python",
   "name": "python",
   "nbconvert_exporter": "python",
   "pygments_lexer": "ipython3",
   "version": "3.12.1"
  }
 },
 "nbformat": 4,
 "nbformat_minor": 2
}
