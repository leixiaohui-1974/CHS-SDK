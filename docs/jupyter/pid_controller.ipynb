{
 "cells": [
  {
   "cell_type": "markdown",
   "metadata": {},
   "source": [
    "# PID Controller"
   ]
  },
  {
   "cell_type": "markdown",
   "metadata": {},
   "source": [
    "The `PIDController` class provides a standard implementation of a Proportional-Integral-Derivative controller. PID control is a ubiquitous feedback control mechanism used in industrial control systems and a wide variety of other applications requiring continuously modulated control. This notebook explains the components of the PID controller and demonstrates its effectiveness in controlling a simple simulated system."
   ]
  },
  {
   "cell_type": "markdown",
   "metadata": {},
   "source": [
    "## How PID Control Works\n",
    "\n",
    "A PID controller continuously calculates an `error` value as the difference between a desired `setpoint` and a measured `process_variable`. It attempts to minimize the error over time by adjusting a `control_signal`.\n",
    "\n",
    "- **Proportional (P) term:** The output is proportional to the current error. A high P gain results in a strong response to the error, but can lead to instability.\n",
    "- **Integral (I) term:** This term accumulates past errors. It is designed to eliminate the steady-state error that can occur with a P-only controller.\n",
    "- **Derivative (D) term:** This term responds to the rate of change of the error. It has a damping effect and can reduce overshoot and improve stability.\n",
    "\n",
    "### Anti-Windup\n",
    "This implementation includes an important feature called **anti-windup**. When the controller's output is saturated (at its maximum or minimum limit), the integral term can grow uncontrollably, a phenomenon known as 'windup'. This can cause significant overshoot when the system finally moves away from the limit. Our controller prevents this by stopping the integration when the output is saturated."
   ]
  },
  {
   "cell_type": "markdown",
   "metadata": {},
   "source": [
    "## Simulation Example\n",
    "\n",
    "In this example, we will use the `PIDController` to manage the water level in a simple simulated tank. The tank has an inflow (controlled by the PID) and a constant outflow (a leak). The goal is to maintain the water level at a specific setpoint. We will also introduce a disturbance (a sudden increase in the leak) to see how the controller adapts.\n",
    "\n",
    "**Note:** To run this notebook, ensure you have `matplotlib` and `numpy` installed (`pip install matplotlib numpy`) and that you are running the Jupyter server from the root directory of the project."
   ]
  },
  {
   "cell_type": "code",
   "execution_count": null,
   "metadata": {},
   "outputs": [],
   "source": [
    "import matplotlib.pyplot as plt\n",
    "import numpy as np\n",
    "from swp.local_agents.control.pid_controller import PIDController\n",
    "from swp.core.interfaces import State\n",
    "\n",
    "# A simple simulation of a tank (our 'plant')\n",
    "class SimpleTank:\n",
    "    def __init__(self, initial_level, area, leak_rate):\n",
    "        self.level = initial_level\n",
    "        self.area = area\n",
    "        self.leak_rate = leak_rate\n",
    "        \n",
    "    def update(self, inflow, dt):\n",
    "        delta_level = (inflow - self.leak_rate) / self.area * dt\n",
    "        self.level += delta_level\n",
    "        return self.level\n",
    "\n",
    "# --- Simulation Setup ---\n",
    "setpoint = 10.0 # Target water level (m)\n",
    "pid = PIDController(\n",
    "    Kp=1.2, Ki=0.1, Kd=0.5,\n",
    "    setpoint=setpoint,\n",
    "    min_output=0.0,  # Inflow can't be negative\n",
    "    max_output=10.0  # Max pump inflow rate\n",
    ")\n",
    "\n",
    "tank = SimpleTank(initial_level=0.0, area=100.0, leak_rate=2.0)\n",
    "\n",
    "# --- Simulation Loop ---\n",
    "dt = 1.0\n",
    "duration = 200\n",
    "history = {'time': [], 'level': [], 'control_signal': [], 'setpoint': []}\n",
    "\n",
    "for t in range(int(duration/dt)):\n",
    "    # Introduce a disturbance halfway through\n",
    "    if t * dt > duration / 2:\n",
    "        tank.leak_rate = 4.0\n",
    "        \n",
    "    # Controller computes action\n",
    "    current_state = State(process_variable=tank.level)\n",
    "    control_signal = pid.compute_control_action(current_state, dt)\n",
    "    \n",
    "    # Plant is updated\n",
    "    tank.update(control_signal, dt)\n",
    "    \n",
    "    # Record history\n",
    "    history['time'].append(t * dt)\n",
    "    history['level'].append(tank.level)\n",
    "    history['control_signal'].append(control_signal)\n",
    "    history['setpoint'].append(setpoint)\n",
    "\n",
    "# --- Plotting ---\n",
    "fig, ax1 = plt.subplots(figsize=(12, 6))\n",
    "ax1.plot(history['time'], history['level'], 'b-', label='Tank Level')\n",
    "ax1.plot(history['time'], history['setpoint'], 'k--', label='Setpoint')\n",
    "ax1.axvline(x=duration/2, color='r', linestyle='--', label='Disturbance (Increased Leak)')\n",
    "ax1.set_xlabel('Time (s)')\n",
    "ax1.set_ylabel('Water Level (m)', color='b')\n",
    "ax1.tick_params(axis='y', labelcolor='b')\n",
    "ax1.set_title('PID Control of a Water Tank')\n",
    "ax1.legend(loc='lower right')\n",
    "ax1.grid(True)\n",
    "\n",
    "ax2 = ax1.twinx()\n",
    "ax2.plot(history['time'], history['control_signal'], 'g:', label='Control Signal (Inflow)')\n",
    "ax2.set_ylabel('Inflow (m^3/s)', color='g')\n",
    "ax2.tick_params(axis='y', labelcolor='g')\n",
    "ax2.legend(loc='upper right')\n",
    "\n",
    "fig.tight_layout()\n",
    "plt.show()\n"
   ]
  }
 ],
 "metadata": {
  "kernelspec": {
   "display_name": "Python 3",
   "language": "python",
   "name": "python3"
  },
  "language_info": {
   "codemirror_mode": {
    "name": "ipython",
    "version": 3
   },
   "file_extension": ".py",
   "mimetype": "text/x-python",
   "name": "python",
   "nbconvert_exporter": "python",
   "pygments_lexer": "ipython3",
   "version": "3.12.1"
  }
 },
 "nbformat": 4,
 "nbformat_minor": 2
}
