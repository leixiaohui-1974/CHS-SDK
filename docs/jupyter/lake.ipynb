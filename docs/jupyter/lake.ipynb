{
 "cells": [
  {
   "cell_type": "markdown",
   "metadata": {},
   "source": [
    "# Lake Model"
   ]
  },
  {
   "cell_type": "markdown",
   "metadata": {},
   "source": [
    "The `Lake` class models a lake or reservoir with a constant surface area. It tracks the water volume and level, accounting for inflows, outflows, and evaporation. This notebook provides an overview of the `Lake` model and a simulation of its behavior."
   ]
  },
  {
   "cell_type": "markdown",
   "metadata": {},
   "source": [
    "## State Variables\n",
    "\n",
    "The state of the lake is defined by:\n",
    "\n",
    "- `volume` (float): The current volume of water in the lake (m^3).\n",
    "- `water_level` (float): The water level, calculated from the volume and surface area (m).\n",
    "- `outflow` (float): The outflow from the lake (m^3/s), which is typically determined by a downstream component."
   ]
  },
  {
   "cell_type": "markdown",
   "metadata": {},
   "source": [
    "## Parameters\n",
    "\n",
    "The physical properties of the lake are set using these parameters:\n",
    "\n",
    "- `surface_area` (float): The surface area of the lake (m^2).\n",
    "- `max_volume` (float): The maximum storage capacity of the lake (m^3).\n",
    "- `evaporation_rate_m_per_s` (float): The rate of water evaporation from the lake's surface (m/s)."
   ]
  },
  {
   "cell_type": "markdown",
   "metadata": {},
   "source": [
    "## Simulation Example\n",
    "\n",
    "The code below simulates a lake over time. It starts with an initial volume and applies a constant inflow. The outflow is varied during the simulation to demonstrate its effect on the lake's volume and water level. The results are then plotted.\n",
    "\n",
    "**Note:** To run this notebook, ensure you have `matplotlib` installed (`pip install matplotlib`) and that you are running the Jupyter server from the root directory of the project."
   ]
  },
  {
   "cell_type": "code",
   "execution_count": null,
   "metadata": {},
   "outputs": [],
   "source": [
    "import matplotlib.pyplot as plt\n",
    "from swp.simulation_identification.physical_objects.lake import Lake\n",
    "from swp.core.interfaces import State, Parameters\n",
    "\n",
    "# Initial state and parameters for the lake\n",
    "initial_state = State(volume=5e6, water_level=0.0, outflow=0.0)\n",
    "parameters = Parameters(\n",
    "    surface_area=1e6,      # 1 km^2\n",
    "    max_volume=10e6,       # 10 million m^3\n",
    "    evaporation_rate_m_per_s=1e-8 # approx. 0.864 mm/day\n",
    ")\n",
    "\n",
    "# Create a Lake instance\n",
    "lake = Lake(name=\"main_lake\", initial_state=initial_state, parameters=parameters)\n",
    "\n",
    "# Simulation settings\n",
    "dt = 3600  # time step in seconds (1 hour)\n",
    "simulation_duration = 3600 * 24 * 5  # 5 days\n",
    "num_steps = int(simulation_duration / dt)\n",
    "inflow_rate = 10.0  # constant inflow in m^3/s\n",
    "\n",
    "# Store results for plotting\n",
    "history = []\n",
    "\n",
    "# Run the simulation loop\n",
    "for t in range(num_steps):\n",
    "    # Assume outflow is requested by a downstream user\n",
    "    if t > num_steps // 2:\n",
    "        requested_outflow = 15.0 # Increased demand\n",
    "    else:\n",
    "        requested_outflow = 5.0 # Normal demand\n",
    "        \n",
    "    action = {'outflow': requested_outflow}\n",
    "    \n",
    "    lake.set_inflow(inflow_rate)\n",
    "    current_state = lake.step(action=action, dt=dt)\n",
    "    history.append(current_state.copy())\n",
    "\n",
    "# Print the final state\n",
    "print(\"Final State:\", lake.get_state())\n",
    "\n",
    "# Prepare data for plotting\n",
    "time_in_hours = [i * dt / 3600 for i in range(num_steps)]\n",
    "volumes = [s['volume'] for s in history]\n",
    "water_levels = [s['water_level'] for s in history]\n",
    "outflows = [s['outflow'] for s in history]\n",
    "\n",
    "# Plot the results\n",
    "fig, (ax1, ax2) = plt.subplots(2, 1, figsize=(12, 8), sharex=True)\n",
    "\n",
    "ax1.plot(time_in_hours, [v / 1e6 for v in volumes], label='Volume')\n",
    "ax1.set_ylabel('Volume (million m^3)')\n",
    "ax1.set_title('Lake Simulation')\n",
    "ax1.grid(True)\n",
    "ax1.legend()\n",
    "\n",
    "ax2.plot(time_in_hours, water_levels, label='Water Level', color='orange')\n",
    "ax2.set_xlabel('Time (hours)')\n",
    "ax2.set_ylabel('Water Level (m)')\n",
    "ax2.grid(True)\n",
    "ax2.legend()\n",
    "\n",
    "plt.tight_layout()\n",
    "plt.show()\n"
   ]
  }
 ],
 "metadata": {
  "kernelspec": {
   "display_name": "Python 3",
   "language": "python",
   "name": "python3"
  },
  "language_info": {
   "codemirror_mode": {
    "name": "ipython",
    "version": 3
   },
   "file_extension": ".py",
   "mimetype": "text/x-python",
   "name": "python",
   "nbconvert_exporter": "python",
   "pygments_lexer": "ipython3",
   "version": "3.12.1"
  }
 },
 "nbformat": 4,
 "nbformat_minor": 2
}
