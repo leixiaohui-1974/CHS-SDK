{
 "cells": [
  {
   "cell_type": "markdown",
   "metadata": {},
   "source": [
    "# Pipe Model"
   ]
  },
  {
   "cell_type": "markdown",
   "metadata": {},
   "source": [
    "The `Pipe` class models the flow of water through a pipe. It uses the Darcy-Weisbach equation to calculate flow based on the pressure difference (head) between its ends. This notebook explains the `Pipe` model's functionality and provides a simulation example."
   ]
  },
  {
   "cell_type": "markdown",
   "metadata": {},
   "source": [
    "## State Variables\n",
    "\n",
    "The state of the pipe is described by:\n",
    "\n",
    "- `outflow` (float): The calculated flow rate through the pipe (m^3/s).\n",
    "- `head_loss` (float): The loss of pressure head due to friction in the pipe (m)."
   ]
  },
  {
   "cell_type": "markdown",
   "metadata": {},
   "source": [
    "## Parameters\n",
    "\n",
    "The physical properties of the pipe are defined by:\n",
    "\n",
    "- `length` (float): The length of the pipe (m).\n",
    "- `diameter` (float): The diameter of the pipe (m).\n",
    "- `friction_factor` (float): The Darcy friction factor for the pipe (dimensionless)."
   ]
  },
  {
   "cell_type": "markdown",
   "metadata": {},
   "source": [
    "## Simulation Example\n",
    "\n",
    "The following example simulates a pipe connecting two points with a varying head difference. The simulation demonstrates how the outflow changes in response to the changing upstream head. The results are plotted to visualize the relationship.\n",
    "\n",
    "**Note:** To run this notebook, ensure you have `matplotlib` and `numpy` installed (`pip install matplotlib numpy`) and that you are running the Jupyter server from the root directory of the project."
   ]
  },
  {
   "cell_type": "code",
   "execution_count": null,
   "metadata": {},
   "outputs": [],
   "source": [
    "import matplotlib.pyplot as plt\n",
    "import numpy as np\n",
    "from swp.simulation_identification.physical_objects.pipe import Pipe\n",
    "from swp.core.interfaces import State, Parameters\n",
    "\n",
    "# Initial state and parameters for the pipe\n",
    "initial_state = State(outflow=0.0, head_loss=0.0)\n",
    "parameters = Parameters(\n",
    "    length=500.0,           # meters\n",
    "    diameter=0.5,           # meters\n",
    "    friction_factor=0.02    # dimensionless\n",
    ")\n",
    "\n",
    "# Create a Pipe instance\n",
    "pipe = Pipe(name=\"main_pipe\", initial_state=initial_state, parameters=parameters)\n",
    "\n",
    "# Simulation settings\n",
    "dt = 1  # time step in seconds\n",
    "simulation_duration = 100\n",
    "num_steps = int(simulation_duration / dt)\n",
    "\n",
    "# Store results for plotting\n",
    "history = []\n",
    "\n",
    "# Define external conditions\n",
    "downstream_head = 50.0  # Constant downstream head (m)\n",
    "\n",
    "# Run the simulation loop\n",
    "for t in range(num_steps):\n",
    "    # Vary the upstream head over time using a sine wave for demonstration\n",
    "    upstream_head = 55.0 + 5.0 * np.sin(2 * np.pi * t / simulation_duration)\n",
    "    \n",
    "    action = {\n",
    "        'upstream_head': upstream_head,\n",
    "        'downstream_head': downstream_head\n",
    "    }\n",
    "    \n",
    "    current_state = pipe.step(action=action, dt=dt)\n",
    "    history.append(current_state.copy())\n",
    "\n",
    "# Print the final state\n",
    "print(\"Final State:\", pipe.get_state())\n",
    "\n",
    "# Prepare data for plotting\n",
    "time_steps = [i * dt for i in range(num_steps)]\n",
    "outflows = [s['outflow'] for s in history]\n",
    "head_losses = [s['head_loss'] for s in history]\n",
    "upstream_heads = [55.0 + 5.0 * np.sin(2 * np.pi * t / simulation_duration) for t in time_steps]\n",
    "\n",
    "# Plot the results\n",
    "fig, (ax1, ax2) = plt.subplots(2, 1, figsize=(12, 8), sharex=True)\n",
    "\n",
    "ax1.plot(time_steps, outflows, label='Outflow')\n",
    "ax1.set_ylabel('Outflow (m^3/s)')\n",
    "ax1.set_title('Pipe Flow Simulation')\n",
    "ax1.grid(True)\n",
    "ax1.legend()\n",
    "\n",
    "ax2.plot(time_steps, upstream_heads, label='Upstream Head', linestyle='--')\n",
    "ax2.axhline(downstream_head, color='r', linestyle='--', label='Downstream Head')\n",
    "ax2.set_xlabel('Time (seconds)')\n",
    "ax2.set_ylabel('Head (m)')\n",
    "ax2.grid(True)\n",
    "ax2.legend()\n",
    "\n",
    "plt.tight_layout()\n",
    "plt.show()\n"
   ]
  }
 ],
 "metadata": {
  "kernelspec": {
   "display_name": "Python 3",
   "language": "python",
   "name": "python3"
  },
  "language_info": {
   "codemirror_mode": {
    "name": "ipython",
    "version": 3
   },
   "file_extension": ".py",
   "mimetype": "text/x-python",
   "name": "python",
   "nbconvert_exporter": "python",
   "pygments_lexer": "ipython3",
   "version": "3.12.1"
  }
 },
 "nbformat": 4,
 "nbformat_minor": 2
}
