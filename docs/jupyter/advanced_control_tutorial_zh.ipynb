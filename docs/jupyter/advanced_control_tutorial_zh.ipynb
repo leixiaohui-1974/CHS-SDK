{
 "cells": [
  {
   "cell_type": "markdown",
   "metadata": {},
   "source": [
    "# 高级控制教程：结合预测与MPC实现智能调度\n",
    "\n",
    "在本教程中，我们将演示如何将预测模型与模型预测控制（MPC）相结合，以实现比传统控制器更优越的系统性能。\n",
    "\n",
    "我们将对比两种控制策略：\n",
    "1.  **PID控制器**: 一种经典的的被动式反馈控制器，它只根据当前的误差（例如，当前水位与目标水位的差距）来做出反应。\n",
    "2.  **MPC控制器**: 一种先进的主动式控制策略，它利用对未来的预测来提前规划最优的控制动作。\n",
    "\n",
    "**目标**: 证明在有显著外部扰动（如变化的入库流量）的情况下，MPC能够更好地维持水库水位的稳定。"
   ]
  },
  {
   "cell_type": "markdown",
   "metadata": {},
   "source": [
    "### 准备工作"
   ]
  },
  {
   "cell_type": "code",
   "execution_count": null,
   "metadata": {},
   "outputs": [],
   "source": [
    "import numpy as np\n",
    "import pandas as pd\n",
    "import matplotlib.pyplot as plt\n",
    "\n",
    "# 导入平台组件\n",
    "from swp.core_engine.testing.simulation_harness import SimulationHarness\n",
    "from swp.central_coordination.collaboration.message_bus import MessageBus\n",
    "from swp.simulation_identification.physical_objects.reservoir import Reservoir\n",
    "from swp.simulation_identification.physical_objects.gate import Gate\n",
    "from swp.local_agents.control.pid_controller import PIDController\n",
    "from swp.local_agents.control.mpc_controller import MPCController\n",
    "from swp.local_agents.control.local_control_agent import LocalControlAgent\n",
    "\n",
    "# 设置 Matplotlib 样式\n",
    "plt.style.use('seaborn-v0_8-whitegrid')"
   ]
  },
  {
   "cell_type": "markdown",
   "metadata": {},
   "source": [
    "### 场景设置\n",
    "\n",
    "我们有一个水库，其目标是维持水位在 **10米**。水库的入流是随时间变化的（模拟一个洪水过程）。我们需要设计一个控制器来操作闸门，以稳定水位。"
   ]
  },
  {
   "cell_type": "code",
   "execution_count": null,
   "metadata": {},
   "outputs": [],
   "source": [
    "# 定义一个模拟的洪水过程作为入流预测\n",
    "# 这代表了我们的ARIMAForecaster能够提供的完美预测\n",
    "sim_duration_steps = 100\n",
    "inflow_forecast = 50 + 80 * np.sin(np.linspace(0, 2 * np.pi, sim_duration_steps))\n",
    "inflow_forecast[inflow_forecast < 50] = 50 # 确保基线流量不小于50\n",
    "\n",
    "plt.figure(figsize=(10, 4))\n",
    "plt.plot(inflow_forecast)\n",
    "plt.title('预测的入库流量 (洪水过程)')\n",
    "plt.xlabel('时间步')\n",
    "plt.ylabel('流量 (m^3/s)')\n",
    "plt.show()"
   ]
  },
  {
   "cell_type": "markdown",
   "metadata": {},
   "source": [
    "### 运行仿真 A: PID 控制器"
   ]
  },
  {
   "cell_type": "code",
   "execution_count": null,
   "metadata": {},
   "outputs": [],
   "source": [
    "def run_simulation(controller, inflow_forecast):\n",
    "    harness = SimulationHarness(config={'dt': 3600, 'duration': 3600 * len(inflow_forecast)})\n",
    "    \n",
    "    # 组件\n",
    "    reservoir = Reservoir(\"res\", {'volume': 10e6, 'water_level': 10.0}, {'surface_area': 1e6})\n",
    "    gate = Gate(\"gate\", {'opening': 0.5}, {'width': 5, 'discharge_coeff': 0.8})\n",
    "    control_agent = LocalControlAgent(\n",
    "        agent_id=\"control_agent\",\n",
    "        controlled_object=gate,\n",
    "        controller=controller,\n",
    "        setpoint_key='opening',\n",
    "        observation_map={'water_level': 'water_level'},\n",
    "        actuator_map={'opening': 'opening'}\n",
    "    )\n",
    "    \n",
    "    harness.add_component(reservoir)\n",
    "    harness.add_component(gate)\n",
    "    harness.add_agent(control_agent)\n",
    "    harness.add_connection(\"res\", \"gate\")\n",
    "    harness.build()\n",
    "    \n",
    "    history = []\n",
    "    for inflow in inflow_forecast:\n",
    "        reservoir.set_inflow(inflow)\n",
    "        # 在MPC的情况下，我们需要将预测传递给控制器\n",
    "        if isinstance(controller, MPCController):\n",
    "            obs_for_mpc = reservoir.get_state()\n",
    "            obs_for_mpc['inflow_forecast'] = inflow_forecast # 简化：提供完整的未来预测\n",
    "            control_agent.set_observation_override(obs_for_mpc)\n",
    "        \n",
    "        harness.step()\n",
    "        history.append(reservoir.get_state())\n",
    "        \n",
    "    return pd.DataFrame(history)\n",
    "\n",
    "# 1. 设置 PID 控制器\n",
    "pid_controller = PIDController(kp=0.5, ki=0.1, kd=0.05, setpoint=10.0)\n",
    "\n",
    "# 2. 运行仿真\n",
    "print(\"正在运行 PID 控制器仿真...\")\n",
    "pid_results = run_simulation(pid_controller, inflow_forecast)\n",
    "print(\"PID 仿真完成！\")"
   ]
  },
  {
   "cell_type": "markdown",
   "metadata": {},
   "source": [
    "### 运行仿真 B: MPC 控制器"
   ]
  },
  {
   "cell_type": "code",
   "execution_count": null,
   "metadata": {},
   "outputs": [],
   "source": [
    "# 1. 设置 MPC 控制器\n",
    "mpc_config = {\n",
    "    \"target_level\": 10.0,\n",
    "    \"q_weight\": 1.0,\n",
    "    \"r_weight\": 0.2,\n",
    "    \"bounds\": (0.0, 1.0),\n",
    "    \"max_outflow\": 200.0\n",
    "}\n",
    "mpc_controller = MPCController(horizon=15, dt=3600, config=mpc_config)\n",
    "\n",
    "# 2. 运行仿真\n",
    "print(\"\\n正在运行 MPC 控制器仿真...\")\n",
    "mpc_results = run_simulation(mpc_controller, inflow_forecast)\n",
    "print(\"MPC 仿真完成！\")"
   ]
  },
  {
   "cell_type": "markdown",
   "metadata": {},
   "source": [
    "### 结果对比与分析"
   ]
  },
  {
   "cell_type": "code",
   "execution_count": null,
   "metadata": {},
   "outputs": [],
   "source": [
    "plt.figure(figsize=(14, 7))\n",
    "\n",
    "plt.plot(pid_results['water_level'], label='PID Controller', color='blue', linestyle='--')\n",
    "plt.plot(mpc_results['water_level'], label='MPC Controller', color='green', linewidth=2)\n",
    "plt.axhline(y=10.0, color='r', linestyle=':', label='目标水位 (Target Level)')\n",
    "\n",
    "plt.title('PID vs MPC: 水位控制性能对比', fontsize=16)\n",
    "plt.xlabel('时间步')\n",
    "plt.ylabel('水库水位 (m)')\n",
    "plt.legend()\n",
    "plt.ylim(8, 12) # 限制y轴范围以便观察\n",
    "plt.show()\n",
    "\n",
    "pid_deviation = np.std(pid_results['water_level'])\n",
    "mpc_deviation = np.std(mpc_results['water_level'])\n",
    "\n",
    "print(f\"PID 控制下水位的标准差: {pid_deviation:.3f}\")\n",
    "print(f\"MPC 控制下水位的标准差: {mpc_deviation:.3f}\")"
   ]
  },
  {
   "cell_type": "markdown",
   "metadata": {},
   "source": [
    "从上图可以清晰地看到：\n",
    "\n",
    "- **PID 控制器** 的表现有明显的滞后性。当洪水（高入流）来临时，水位已经显著上升后，它才开始大幅开闸放水，导致水位超调严重。而在洪水退去后，它又关闸太慢，导致水位降得过低。\n",
    "- **MPC 控制器** 因为能够“预见”到未来的入流变化，所以在洪水到达之前就开始逐渐开大闸门，为即将到来的水量预腾库容。因此，它的水位波动范围要小得多，控制效果远比PID稳定。\n",
    "\n",
    "这充分证明了将预测能力与先进控制算法相结合在现代水务管理中的巨大价值。"
   ]
  }
 ],
 "metadata": {
  "kernelspec": {
   "display_name": "Python 3",
   "language": "python",
   "name": "python3"
  },
  "language_info": {
   "name": "python",
   "version": "3.12.1"
  }
 },
 "nbformat": 4,
 "nbformat_minor": 2
}
