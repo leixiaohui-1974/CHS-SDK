{
 "cells": [
  {
   "cell_type": "markdown",
   "metadata": {},
   "source": [
    "# Digital Twin Agent"
   ]
  },
  {
   "cell_type": "markdown",
   "metadata": {},
   "source": [
    "The `DigitalTwinAgent` is a type of perception agent. Its core responsibility is to act as a bridge between a simulated physical object (like a reservoir or a pipe) and the wider multi-agent system. It effectively creates a 'digital twin' of a physical asset within the simulation environment."
   ]
  },
  {
   "cell_type": "markdown",
   "metadata": {},
   "source": [
    "## Role and Function\n",
    "\n",
    "In a real-world system, you would have physical sensors (e.g., a water level sensor) that broadcast their readings. In our simulation, the `DigitalTwinAgent` plays the role of this sensor.\n",
    "\n",
    "1.  **Wraps a Model:** It holds an instance of a physical object model (e.g., `Reservoir`, `Canal`).\n",
    "2.  **Publishes State:** At each simulation time step, it queries the state of its wrapped model.\n",
    "3.  **Broadcasts:** It then publishes this state onto the `MessageBus` on a designated topic.\n",
    "\n",
    "This allows other agents, such as `LocalControlAgent`s, to subscribe to these state topics and receive the 'sensor' data they need to make decisions, without needing to have direct access to the physical models themselves. This promotes a decoupled and scalable architecture."
   ]
  },
  {
   "cell_type": "markdown",
   "metadata": {},
   "source": [
    "## Simulation Example\n",
    "\n",
    "In this example, we'll create a simple `Reservoir` model. We will then wrap it with a `DigitalTwinAgent`. We will also create a 'monitoring station' that listens for state updates. We will manually advance the reservoir's state and then call the agent's `run()` method, which should trigger a state publication that our monitoring station receives.\n",
    "\n",
    "**Note:** To run this notebook, you need to be running the Jupyter server from the root directory of the project."
   ]
  },
  {
   "cell_type": "code",
   "execution_count": null,
   "metadata": {},
   "outputs": [],
   "source": [
    "from swp.local_agents.perception.digital_twin_agent import DigitalTwinAgent\n",
    "from swp.simulation_identification.physical_objects.reservoir import Reservoir\n",
    "from swp.central_coordination.collaboration.message_bus import MessageBus, Message\n",
    "from swp.core.interfaces import State, Parameters\n",
    "\n",
    "# 1. A mock monitoring station to listen for state updates\n",
    "received_states = []\n",
    "def monitoring_station_callback(message: Message):\n",
    "    print(f\"Monitoring station received state: {message}\")\n",
    "    received_states.append(message)\n",
    "\n",
    "# 2. Setup the message bus and the physical model\n",
    "bus = MessageBus()\n",
    "bus.subscribe('reservoir_A_state_topic', monitoring_station_callback)\n",
    "\n",
    "reservoir_model = Reservoir(\n",
    "    name=\"Reservoir_A\",\n",
    "    initial_state=State(volume=5000, outflow=10),\n",
    "    parameters=Parameters(surface_area=1000)\n",
    ")\n",
    "\n",
    "# 3. Create the Digital Twin Agent\n",
    "twin_agent = DigitalTwinAgent(\n",
    "    agent_id=\"twin_for_reservoir_A\",\n",
    "    simulated_object=reservoir_model,\n",
    "    message_bus=bus,\n",
    "    state_topic='reservoir_A_state_topic'\n",
    ")\n",
    "\n",
    "# 4. Simulate a time step\n",
    "print(\"--- Initial State Publication ---\")\n",
    "# In a real simulation, a harness would call run() periodically\n",
    "twin_agent.run(current_time=0)\n",
    "\n",
    "print(\"\\n--- Simulating a change in the reservoir ---\")\n",
    "# Manually update the reservoir's state for demonstration\n",
    "reservoir_model.set_inflow(20)\n",
    "reservoir_model.step(action={'outflow': 12}, dt=3600)\n",
    "print(f\"Reservoir's internal state updated to: {reservoir_model.get_state()}\")\n",
    "\n",
    "print(\"\\n--- Second State Publication ---\")\n",
    "# The agent now runs again and publishes the *new* state\n",
    "twin_agent.run(current_time=3600)\n",
    "\n",
    "# --- Verification ---\n",
    "assert len(received_states) == 2\n",
    "assert received_states[0]['volume'] == 5000\n",
    "assert received_states[1]['volume'] > 5000 # Check that the updated volume was received\n",
    "print(\"\\nSuccessfully verified that the agent published the initial and updated states.\")"
   ]
  }
 ],
 "metadata": {
  "kernelspec": {
   "display_name": "Python 3",
   "language": "python",
   "name": "python3"
  },
  "language_info": {
   "codemirror_mode": {
    "name": "ipython",
    "version": 3
   },
   "file_extension": ".py",
   "mimetype": "text/x-python",
   "name": "python",
   "nbconvert_exporter": "python",
   "pygments_lexer": "ipython3",
   "version": "3.12.1"
  }
 },
 "nbformat": 4,
 "nbformat_minor": 2
}
