{
 "cells": [
  {
   "cell_type": "markdown",
   "metadata": {},
   "source": [
    "# River Channel Model"
   ]
  },
  {
   "cell_type": "markdown",
   "metadata": {},
   "source": [
    "The `RiverChannel` class models a segment of a river using a linear reservoir model. In this model, the outflow from the river reach is directly proportional to the volume of water currently stored in it. This is a common and effective method for simulating flow routing in rivers. This notebook demonstrates the setup and simulation of a `RiverChannel`."
   ]
  },
  {
   "cell_type": "markdown",
   "metadata": {},
   "source": [
    "## State Variables\n",
    "\n",
    "The state of the river channel is defined by:\n",
    "\n",
    "- `volume` (float): The current volume of water stored in the river segment (m^3).\n",
    "- `outflow` (float): The outflow from the end of the river segment (m^3/s)."
   ]
  },
  {
   "cell_type": "markdown",
   "metadata": {},
   "source": [
    "## Parameters\n",
    "\n",
    "The behavior of the river channel is controlled by a single parameter:\n",
    "\n",
    "- `k` (float): The storage coefficient (s^-1), which determines the relationship between storage and outflow (`outflow = k * volume`). A smaller `k` results in more attenuation and lag."
   ]
  },
  {
   "cell_type": "markdown",
   "metadata": {},
   "source": [
    "## Simulation Example\n",
    "\n",
    "The following example simulates a river channel responding to a flood wave (a pulse of high inflow). The simulation shows how the river channel attenuates (reduces the peak of) and lags (delays) the flood wave as it passes through. The inflow hydrograph and the resulting outflow hydrograph are plotted for comparison.\n",
    "\n",
    "**Note:** To run this notebook, ensure you have `matplotlib` and `numpy` installed (`pip install matplotlib numpy`) and that you are running the Jupyter server from the root directory of the project."
   ]
  },
  {
   "cell_type": "code",
   "execution_count": null,
   "metadata": {},
   "outputs": [],
   "source": [
    "import matplotlib.pyplot as plt\n",
    "import numpy as np\n",
    "from swp.simulation_identification.physical_objects.river_channel import RiverChannel\n",
    "from swp.core.interfaces import State, Parameters\n",
    "\n",
    "# Initial state and parameters for the river channel\n",
    "initial_state = State(volume=10000.0, outflow=0.0)\n",
    "parameters = Parameters(k=0.00002) # Storage coefficient\n",
    "\n",
    "# Create a RiverChannel instance\n",
    "river_channel = RiverChannel(name=\"main_river\", initial_state=initial_state, parameters=parameters)\n",
    "\n",
    "# Simulation settings\n",
    "dt = 3600  # time step in seconds (1 hour)\n",
    "simulation_duration = 3600 * 24 * 3  # 3 days\n",
    "num_steps = int(simulation_duration / dt)\n",
    "\n",
    "# Generate a flood wave inflow hydrograph\n",
    "base_inflow = 10.0 # m^3/s\n",
    "peak_inflow = 100.0 # m^3/s\n",
    "inflow_hydrograph = base_inflow + (peak_inflow - base_inflow) * np.exp(-((np.arange(num_steps) - 24)**2) / 100))\n",
    "\n",
    "# Store results for plotting\n",
    "history = []\n",
    "\n",
    "# Run the simulation loop\n",
    "for i in range(num_steps):\n",
    "    inflow = inflow_hydrograph[i]\n",
    "    river_channel.set_inflow(inflow)\n",
    "    current_state = river_channel.step(action=None, dt=dt)\n",
    "    history.append(current_state.copy())\n",
    "\n",
    "# Print the final state\n",
    "print(\"Final State:\", river_channel.get_state())\n",
    "\n",
    "# Prepare data for plotting\n",
    "time_in_hours = [i * dt / 3600 for i in range(num_steps)]\n",
    "volumes = [s['volume'] for s in history]\n",
    "outflows = [s['outflow'] for s in history]\n",
    "\n",
    "# Plot the results\n",
    "fig, ax1 = plt.subplots(figsize=(12, 6))\n",
    "\n",
    "ax1.plot(time_in_hours, inflow_hydrograph, 'b--', label='Inflow')\n",
    "ax1.plot(time_in_hours, outflows, 'r-', label='Outflow')\n",
    "ax1.set_xlabel('Time (hours)')\n",
    "ax1.set_ylabel('Flow Rate (m^3/s)')\n",
    "ax1.set_title('River Channel Flow Routing')\n",
    "ax1.grid(True)\n",
    "ax1.legend()\n",
    "\n",
    "ax2 = ax1.twinx()\n",
    "ax2.plot(time_in_hours, [v/1e6 for v in volumes], 'g:', label='Storage Volume')\n",
    "ax2.set_ylabel('Storage (million m^3)', color='g')\n",
    "ax2.tick_params(axis='y', labelcolor='g')\n",
    "fig.tight_layout()\n",
    "plt.show()\n"
   ]
  }
 ],
 "metadata": {
  "kernelspec": {
   "display_name": "Python 3",
   "language": "python",
   "name": "python3"
  },
  "language_info": {
   "codemirror_mode": {
    "name": "ipython",
    "version": 3
   },
   "file_extension": ".py",
   "mimetype": "text/x-python",
   "name": "python",
   "nbconvert_exporter": "python",
   "pygments_lexer": "ipython3",
   "version": "3.12.1"
  }
 },
 "nbformat": 4,
 "nbformat_minor": 2
}
