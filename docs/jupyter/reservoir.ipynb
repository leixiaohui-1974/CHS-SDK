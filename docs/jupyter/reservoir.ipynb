{
 "cells": [
  {
   "cell_type": "markdown",
   "metadata": {},
   "source": [
    "# Reservoir Model"
   ]
  },
  {
   "cell_type": "markdown",
   "metadata": {},
   "source": [
    "The `Reservoir` class models a simple water reservoir. Its primary function is to track water storage based on inflows and outflows. The water level is calculated from the volume and a fixed surface area. This notebook demonstrates how to set up and run a simulation with the `Reservoir` model."
   ]
  },
  {
   "cell_type": "markdown",
   "metadata": {},
   "source": [
    "## State Variables\n",
    "\n",
    "The state of the reservoir is defined by:\n",
    "\n",
    "- `volume` (float): The current volume of water in the reservoir (m^3).\n",
    "- `water_level` (float): The water level, calculated as volume divided by surface area (m).\n",
    "- `outflow` (float): The outflow from the reservoir (m^3/s), determined by downstream demand."
   ]
  },
  {
   "cell_type": "markdown",
   "metadata": {},
   "source": [
    "## Parameters\n",
    "\n",
    "The physical properties of the reservoir are set using:\n",
    "\n",
    "- `surface_area` (float): The surface area of the reservoir (m^2)."
   ]
  },
  {
   "cell_type": "markdown",
   "metadata": {},
   "source": [
    "## Simulation Example\n",
    "\n",
    "The following code simulates a reservoir over several days. It is initialized with a starting volume and receives a constant inflow. The outflow is varied to simulate changing demand. The simulation tracks the reservoir's volume and water level, which are then plotted.\n",
    "\n",
    "**Note:** To run this notebook, ensure you have `matplotlib` installed (`pip install matplotlib`) and that you are running the Jupyter server from the root directory of the project."
   ]
  },
  {
   "cell_type": "code",
   "execution_count": null,
   "metadata": {},
   "outputs": [],
   "source": [
    "import matplotlib.pyplot as plt\n",
    "from swp.simulation_identification.physical_objects.reservoir import Reservoir\n",
    "from swp.core.interfaces import State, Parameters\n",
    "\n",
    "# Initial state and parameters for the reservoir\n",
    "initial_state = State(volume=2e7, water_level=0.0, outflow=0.0)\n",
    "parameters = Parameters(surface_area=2e6) # 2 km^2\n",
    "\n",
    "# Create a Reservoir instance\n",
    "reservoir = Reservoir(name=\"main_reservoir\", initial_state=initial_state, parameters=parameters)\n",
    "\n",
    "# Simulation settings\n",
    "dt = 3600  # time step in seconds (1 hour)\n",
    "simulation_duration = 3600 * 24 * 10  # 10 days\n",
    "num_steps = int(simulation_duration / dt)\n",
    "inflow_rate = 20.0  # constant inflow in m^3/s\n",
    "\n",
    "# Store results for plotting\n",
    "history = []\n",
    "\n",
    "# Run the simulation loop\n",
    "for t in range(num_steps):\n",
    "    # Simulate changing outflow demand\n",
    "    if (t // 24) % 2 == 0: # Alternate demand every other day\n",
    "        requested_outflow = 25.0\n",
    "    else:\n",
    "        requested_outflow = 15.0\n",
    "        \n",
    "    action = {'outflow': requested_outflow}\n",
    "    \n",
    "    reservoir.set_inflow(inflow_rate)\n",
    "    current_state = reservoir.step(action=action, dt=dt)\n",
    "    history.append(current_state.copy())\n",
    "\n",
    "# Print the final state\n",
    "print(\"Final State:\", reservoir.get_state())\n",
    "\n",
    "# Prepare data for plotting\n",
    "time_in_days = [i * dt / (3600*24) for i in range(num_steps)]\n",
    "volumes = [s['volume'] / 1e6 for s in history] # in million m^3\n",
    "water_levels = [s['water_level'] for s in history]\n",
    "\n",
    "# Plot the results\n",
    "fig, (ax1, ax2) = plt.subplots(2, 1, figsize=(12, 8), sharex=True)\n",
    "\n",
    "ax1.plot(time_in_days, volumes, label='Volume')\n",
    "ax1.set_ylabel('Volume (million m^3)')\n",
    "ax1.set_title('Reservoir Simulation')\n",
    "ax1.grid(True)\n",
    "ax1.legend()\n",
    "\n",
    "ax2.plot(time_in_days, water_levels, label='Water Level', color='orange')\n",
    "ax2.set_xlabel('Time (days)')\n",
    "ax2.set_ylabel('Water Level (m)')\n",
    "ax2.grid(True)\n",
    "ax2.legend()\n",
    "\n",
    "plt.tight_layout()\n",
    "plt.show()\n"
   ]
  }
 ],
 "metadata": {
  "kernelspec": {
   "display_name": "Python 3",
   "language": "python",
   "name": "python3"
  },
  "language_info": {
   "codemirror_mode": {
    "name": "ipython",
    "version": 3
   },
   "file_extension": ".py",
   "mimetype": "text/x-python",
   "name": "python",
   "nbconvert_exporter": "python",
   "pygments_lexer": "ipython3",
   "version": "3.12.1"
  }
 },
 "nbformat": 4,
 "nbformat_minor": 2
}
