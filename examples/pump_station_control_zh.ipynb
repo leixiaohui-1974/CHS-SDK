{
 "cells": [
  {
   "cell_type": "markdown",
   "metadata": {},
   "source": [
    "# 案例 1.2: 泵站多机组协调控制\n",
    "\n",
    "本案例演示了泵站的多机组协调控制。一个智能体 (`PumpControlAgent`) 会监听流量需求，并通过开关一组水泵来满足该需求。"
   ]
  },
  {
   "cell_type": "markdown",
   "metadata": {},
   "source": [
    "### 1. 导入库并加载配置"
   ]
  },
  {
   "cell_type": "code",
   "execution_count": null,
   "metadata": {},
   "outputs": [],
   "source": [
    "import json\n",
    "from swp.central_coordination.collaboration.message_bus import MessageBus\n",
    "from swp.simulation_identification.physical_objects.pump import Pump, PumpStation\n",
    "from swp.local_agents.control.pump_control_agent import PumpControlAgent\n",
    "\n",
    "CONFIG_PATH = 'examples/pump_station_control.json'\n",
    "\n",
    "with open(CONFIG_PATH, 'r') as f:\n",
    "    config = json.load(f)\n",
    "\n",
    "print(\"配置加载成功！\")"
   ]
  },
  {
   "cell_type": "markdown",
   "metadata": {},
   "source": [
    "### 2. 定义仿真函数\n",
    "\n",
    "该函数根据配置搭建泵站、控制智能体，并模拟在不同流量需求下的响应。"
   ]
  },
  {
   "cell_type": "code",
   "execution_count": null,
   "metadata": {},
   "outputs": [],
   "source": [
    "def run_pump_station_simulation(cfg):\n",
    "    # 1. 初始化消息总线\n",
    "    bus = MessageBus()\n",
    "\n",
    "    # 2. 从配置中获取主题和参数\n",
    "    topics = cfg['messaging_topics']\n",
    "    demand_topic = topics['demand_topic']\n",
    "    control_topic_prefix = topics['control_topic_prefix']\n",
    "    station_cfg = cfg['pump_station']\n",
    "    pump_params = station_cfg['pump_params']\n",
    "    num_pumps = station_cfg['num_pumps']\n",
    "    \n",
    "    # 3. 创建水泵实例\n",
    "    pumps = []\n",
    "    for i in range(num_pumps):\n",
    "        pump_name = f\"pump_{i+1}\"\n",
    "        pump = Pump(\n",
    "            name=pump_name,\n",
    "            initial_state={'status': 0},\n",
    "            parameters=pump_params,\n",
    "            message_bus=bus,\n",
    "            action_topic=f\"{control_topic_prefix}.{pump_name}\"\n",
    "        )\n",
    "        pumps.append(pump)\n",
    "\n",
    "    # 4. 创建泵站来管理水泵\n",
    "    pump_station = PumpStation(name=\"main_pump_station\", initial_state={}, parameters={}, pumps=pumps)\n",
    "\n",
    "    # 5. 创建控制智能体\n",
    "    agent = PumpControlAgent(\n",
    "        agent_id=\"PumpController\",\n",
    "        message_bus=bus,\n",
    "        pump_station=pump_station,\n",
    "        demand_topic=demand_topic,\n",
    "        control_topic_prefix=control_topic_prefix\n",
    "    )\n",
    "\n",
    "    # 6. 仿真循环\n",
    "    print(\"\\n--- 开始仿真 ---\")\n",
    "    sim_cfg = cfg['simulation_run']\n",
    "    demands_to_test = sim_cfg['demands_to_test']\n",
    "    dummy_heads = sim_cfg['dummy_heads']\n",
    "\n",
    "    for step in range(sim_cfg['num_steps']):\n",
    "        print(f\"\\n--- 时间步 {step} ---\")\n",
    "\n",
    "        # 如果当前步有指定的流量需求，则发布消息\n",
    "        step_str = str(step)\n",
    "        if step_str in demands_to_test:\n",
    "            demand_value = demands_to_test[step_str]\n",
    "            demand_message = {'value': demand_value, 'sender': 'System'}\n",
    "            bus.publish(demand_topic, demand_message)\n",
    "\n",
    "        # 智能体根据最新需求执行控制逻辑\n",
    "        agent.execute_control_logic()\n",
    "\n",
    "        # 模拟泵站对控制信号的响应\n",
    "        station_action = {'upstream_head': dummy_heads['upstream'], 'downstream_head': dummy_heads['downstream']}\n",
    "        pump_station.step(station_action, dt=1)\n",
    "\n",
    "        station_state = pump_station.get_state()\n",
    "        print(f\"泵站状态: {station_state['active_pumps']} 台水泵运行, \"\n",
    "              f\"总流量: {station_state['total_outflow']:.2f} m^3/s\")"
   ]
  },
  {
   "cell_type": "markdown",
   "metadata": {},
   "source": [
    "### 3. 运行仿真"
   ]
  },
  {
   "cell_type": "code",
   "execution_count": null,
   "metadata": {},
   "outputs": [],
   "source": [
    "run_pump_station_simulation(config)"
   ]
  }
 ],
 "metadata": {
  "kernelspec": {
   "display_name": "Python 3",
   "language": "python",
   "name": "python3"
  },
  "language_info": {
   "name": "python",
   "version": "3.12.1"
  }
 },
 "nbformat": 4,
 "nbformat_minor": 2
}
