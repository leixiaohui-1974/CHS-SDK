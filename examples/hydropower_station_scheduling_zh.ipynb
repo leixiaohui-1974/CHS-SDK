{
 "cells": [
  {
   "cell_type": "markdown",
   "metadata": {},
   "source": [
    "# 案例 1.3: 水电站多设备联合调度\n",
    "\n",
    "本案例演示了水电站的多设备、多目标调度。一个智能体 (`HydropowerStationAgent`) 需要在防洪、供水和发电等多个目标之间取得平衡。"
   ]
  },
  {
   "cell_type": "markdown",
   "metadata": {},
   "source": [
    "### 1. 导入库并加载配置"
   ]
  },
  {
   "cell_type": "code",
   "execution_count": null,
   "metadata": {},
   "outputs": [],
   "source": [
    "import json\n",
    "import math\n",
    "from swp.central_coordination.collaboration.message_bus import MessageBus\n",
    "from swp.simulation_identification.physical_objects.reservoir import Reservoir\n",
    "from swp.simulation_identification.physical_objects.gate import Gate\n",
    "from swp.local_agents.control.hydropower_station_agent import HydropowerStationAgent\n",
    "\n",
    "CONFIG_PATH = 'examples/hydropower_station_scheduling.json'\n",
    "\n",
    "with open(CONFIG_PATH, 'r') as f:\n",
    "    config = json.load(f)\n",
    "\n",
    "print(\"配置加载成功！\")"
   ]
  },
  {
   "cell_type": "markdown",
   "metadata": {},
   "source": [
    "### 2. 定义仿真函数\n",
    "\n",
    "该函数将根据配置搭建水电站系统，并模拟一天（24小时）的调度过程，包括一次洪水脉冲事件。"
   ]
  },
  {
   "cell_type": "code",
   "execution_count": null,
   "metadata": {},
   "outputs": [],
   "source": [
    "def run_hydropower_simulation(cfg):\n",
    "    # 1. 初始化消息总线和仿真参数\n",
    "    bus = MessageBus()\n",
    "    sim_cfg = cfg['simulation']\n",
    "    dt = sim_cfg['dt']\n",
    "\n",
    "    # 2. 创建水库\n",
    "    res_cfg = cfg['reservoir']\n",
    "    initial_volume = res_cfg['initial_volume']\n",
    "    surface_area = res_cfg['surface_area']\n",
    "    initial_level = initial_volume / surface_area\n",
    "    reservoir = Reservoir(\n",
    "        name=\"main_reservoir\",\n",
    "        initial_state={'volume': initial_volume, 'water_level': initial_level},\n",
    "        parameters={'surface_area': surface_area}\n",
    "    )\n",
    "\n",
    "    # 3. 创建水闸和水轮机出口\n",
    "    out_cfg = cfg['outlets']\n",
    "    shared_params = out_cfg['shared_gate_params']\n",
    "    outlets = []\n",
    "    \n",
    "    tg_cfg = out_cfg['turbine_gate']\n",
    "    turbine_gates = [Gate(f\"turbine_gate_{i+1}\", {'opening': 0}, {**shared_params, 'width': tg_cfg['width']}, bus, f\"gates/tg{i+1}\") for i in range(tg_cfg['num_gates'])]\n",
    "    outlets.extend(turbine_gates)\n",
    "    \n",
    "    fg_cfg = out_cfg['flood_gate']\n",
    "    flood_gate = Gate(\"flood_gate\", {'opening': 0}, {**shared_params, 'width': fg_cfg['width']}, bus, \"gates/flood\")\n",
    "    outlets.append(flood_gate)\n",
    "\n",
    "    sg_cfg = out_cfg['supply_gate']\n",
    "    supply_gate = Gate(\"supply_gate\", {'opening': 0}, {**shared_params, 'width': sg_cfg['width']}, bus, \"gates/supply\")\n",
    "    outlets.append(supply_gate)\n",
    "    \n",
    "    # 4. 创建调度智能体\n",
    "    agent = HydropowerStationAgent(\n",
    "        agent_id=\"HydropowerMaster\",\n",
    "        message_bus=bus,\n",
    "        reservoir=reservoir,\n",
    "        flood_gate_topic=\"gates/flood\",\n",
    "        supply_gate_topic=\"gates/supply\",\n",
    "        turbine_gate_topics=[f\"gates/tg{i+1}\" for i in range(tg_cfg['num_gates'])],\n",
    "        config=cfg['agent_config']\n",
    "    )\n",
    "\n",
    "    # 5. 仿真循环\n",
    "    print(\"\\n--- 开始仿真 ---\")\n",
    "    dist_cfg = cfg['disturbance']\n",
    "    base_inflow = dist_cfg['base_inflow']\n",
    "    pulse_cfg = dist_cfg['flood_pulse']\n",
    "    \n",
    "    for step in range(sim_cfg['num_steps']):\n",
    "        # --- 计算扰动 (来水) ---\n",
    "        inflow = base_inflow\n",
    "        if pulse_cfg['start_hour'] <= step < pulse_cfg['start_hour'] + pulse_cfg['duration_hours']:\n",
    "            inflow += pulse_cfg['magnitude'] * math.sin((step - pulse_cfg['start_hour']) / pulse_cfg['duration_hours'] * math.pi)\n",
    "\n",
    "        print(f\"\\n--- 小时 {step}, 来水: {inflow:.2f} m^3/s ---\")\n",
    "\n",
    "        # --- 智能体决策 ---\n",
    "        agent.execute_control_logic()\n",
    "\n",
    "        # --- 系统物理状态更新 ---\n",
    "        total_outflow = 0\n",
    "        reservoir_level = reservoir.get_state()['water_level']\n",
    "        for outlet in outlets:\n",
    "            outlet_action = {'upstream_head': reservoir_level, 'downstream_head': 0} # 假设自由出流\n",
    "            outlet.step(outlet_action, dt)\n",
    "            total_outflow += outlet.get_state()['outflow']\n",
    "\n",
    "        reservoir.set_inflow(inflow)\n",
    "        reservoir.step({'outflow': total_outflow}, dt)\n",
    "\n",
    "        # --- 日志记录 ---\n",
    "        print(f\"水库水位: {reservoir.get_state()['water_level']:.2f} m\")\n",
    "        for i, tg in enumerate(turbine_gates):\n",
    "            print(f\"  - 发电闸门 {i+1} 开度: {tg.get_state()['opening']:.2f}, 流量: {tg.get_state()['outflow']:.2f}\")\n",
    "        print(f\"  - 泄洪闸开度: {flood_gate.get_state()['opening']:.2f}, 流量: {flood_gate.get_state()['outflow']:.2f}\")\n",
    "        print(f\"  - 供水闸开度: {supply_gate.get_state()['opening']:.2f}, 流量: {supply_gate.get_state()['outflow']:.2f}\")\n",
    "        print(f\"  - 总出库流量: {total_outflow:.2f} m^3/s\")"
   ]
  },
  {
   "cell_type": "markdown",
   "metadata": {},
   "source": [
    "### 3. 运行仿真"
   ]
  },
  {
   "cell_type": "code",
   "execution_count": null,
   "metadata": {},
   "outputs": [],
   "source": [
    "run_hydropower_simulation(config)"
   ]
  }
 ],
 "metadata": {
  "kernelspec": {
   "display_name": "Python 3",
   "language": "python",
   "name": "python3"
  },
  "language_info": {
   "name": "python",
   "version": "3.12.1"
  }
 },
 "nbformat": 4,
 "nbformat_minor": 2
}
