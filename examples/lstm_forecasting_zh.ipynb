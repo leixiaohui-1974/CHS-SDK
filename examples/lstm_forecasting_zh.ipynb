{
 "cells": [
  {
   "cell_type": "markdown",
   "metadata": {},
   "source": [
    "# 案例: 使用LSTM进行流量预测\n",
    "\n",
    "本案例演示了如何使用 `LSTMFlowForecaster` 智能体。LSTM（长短期记忆网络）是一种强大的深度学习模型，尤其擅长处理时间序列数据中的复杂模式。"
   ]
  },
  {
   "cell_type": "markdown",
   "metadata": {},
   "source": [
    "### 1. 导入库并加载配置"
   ]
  },
  {
   "cell_type": "code",
   "execution_count": null,
   "metadata": {},
   "outputs": [],
   "source": [
    "import json\n",
    "import numpy as np\n",
    "import matplotlib.pyplot as plt\n",
    "\n",
    "from swp.local_agents.prediction.lstm_forecaster import LSTMFlowForecaster\n",
    "from swp.central_coordination.collaboration.message_bus import MessageBus\n",
    "\n",
    "CONFIG_PATH = 'examples/lstm_forecasting.json'\n",
    "with open(CONFIG_PATH, 'r') as f:\n",
    "    config = json.load(f)\n",
    "\n",
    "print(\"配置加载成功！\")\n",
    "\n",
    "# 设置 Matplotlib 样式\n",
    "plt.style.use('seaborn-v0_8-whitegrid')\n",
    "plt.rcParams['font.sans-serif'] = ['SimHei']\n",
    "plt.rcParams['axes.unicode_minus'] = False"
   ]
  },
  {
   "cell_type": "markdown",
   "metadata": {},
   "source": [
    "### 2. 生成合成数据\n",
    "\n",
    "我们根据配置生成一个包含正弦波、上升趋势和一些随机噪声的合成时间序列，用于训练和测试模型。"
   ]
  },
  {
   "cell_type": "code",
   "execution_count": null,
   "metadata": {},
   "outputs": [],
   "source": [
    "def generate_data(cfg):\n",
    "    data_cfg = cfg['data_generation']\n",
    "    time_steps = np.linspace(0, data_cfg['time_steps_end'], data_cfg['total_points'])\n",
    "    data = (\n",
    "        data_cfg['sin_wave_multiplier'] * np.sin(time_steps) + \n",
    "        data_cfg['trend_multiplier'] * time_steps**2 + \n",
    "        np.random.randn(data_cfg['total_points']) * data_cfg['noise_multiplier'] + \n",
    "        data_cfg['base_value']\n",
    "    )\n",
    "    print(f\"成功生成 {data_cfg['total_points']} 个合成数据点。\")\n",
    "    return data\n",
    "\n",
    "data = generate_data(config)"
   ]
  },
  {
   "cell_type": "markdown",
   "metadata": {},
   "source": [
    "### 3. 训练模型并生成预测"
   ]
  },
  {
   "cell_type": "code",
   "execution_count": null,
   "metadata": {},
   "outputs": [],
   "source": [
    "# 1. 设置智能体\n",
    "bus = MessageBus()\n",
    "agent_cfg = config['agent_config']\n",
    "lstm_agent = LSTMFlowForecaster(\"lstm_forecaster_1\", bus, agent_cfg)\n",
    "\n",
    "# 2. 向智能体提供历史数据\n",
    "training_data = data[:agent_cfg[\"history_size\"]]\n",
    "for value in training_data:\n",
    "    lstm_agent.handle_observation_message({'value': value}) # 直接调用handler以简化\n",
    "\n",
    "# 3. 运行智能体以训练模型\n",
    "print(\"\\n--- 开始训练 LSTM 模型 ---\")\n",
    "lstm_agent.run(current_time=1)\n",
    "print(\"--- 训练完成 ---\")\n",
    "\n",
    "# 4. 生成预测\n",
    "print(\"\\n--- 开始生成预测 ---\")\n",
    "forecast = lstm_agent._forecast()\n",
    "print(f\"预测值: {np.round(forecast, 2)}\")"
   ]
  },
  {
   "cell_type": "markdown",
   "metadata": {},
   "source": [
    "### 4. 可视化结果"
   ]
  },
  {
   "cell_type": "code",
   "execution_count": null,
   "metadata": {},
   "outputs": [],
   "source": [
    "plt.figure(figsize=(15, 7))\n",
    "\n",
    "# 绘制用于训练的历史数据\n",
    "plt.plot(range(len(training_data)), training_data, label='训练数据', color='blue')\n",
    "\n",
    "# 绘制真实的未来数据以供对比\n",
    "output_window = agent_cfg[\"output_window_size\"]\n",
    "true_future_range = range(len(training_data), len(training_data) + output_window)\n",
    "true_future_values = data[len(training_data) : len(training_data) + output_window]\n",
    "plt.plot(true_future_range, true_future_values, 'go-', label='真实未来值')\n",
    "\n",
    "# 绘制模型的预测值\n",
    "plt.plot(true_future_range, forecast, 'ro--', label='LSTM 预测值')\n",
    "\n",
    "plt.title(\"LSTM 时间序列预测\", fontsize=16)\n",
    "plt.xlabel(\"时间步\")\n",
    "plt.ylabel(\"数值\")\n",
    "plt.legend()\n",
    "plt.grid(True)\n",
    "plt.show()"
   ]
  }
 ],
 "metadata": {
  "kernelspec": {
   "display_name": "Python 3",
   "language": "python",
   "name": "python3"
  },
  "language_info": {
   "name": "python",
   "version": "3.12.1"
  }
 },
 "nbformat": 4,
 "nbformat_minor": 2
}
