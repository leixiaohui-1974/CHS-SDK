{
 "cells": [
  {
   "cell_type": "markdown",
   "metadata": {},
   "source": [
    "# 案例说明：多闸门河流 PID 控制\n",
    "\n",
    "本案例模拟了一个带有反馈控制的河流系统。该系统由一个上游水库、一个中间河道以及两个分别位于水库下游和河道下游的闸门组成。两个闸门均由独立的PID控制器进行自动控制。\n",
    "\n",
    "这个案例的主要目的是：\n",
    "- 演示如何在一个仿真案例中配置和使用控制器 (`Controller`)。\n",
    "- 展示如何通过`config.json`文件定义控制器参数及其“接线”（即控制器观测哪个组件的哪个状态，并控制另一个组件）。\n",
    "- 验证`SimulationHarness`仿真器对闭环控制系统的支持能力。"
   ]
  },
  {
   "cell_type": "markdown",
   "metadata": {},
   "source": [
    "### 1. 导入库并加载配置"
   ]
  },
  {
   "cell_type": "code",
   "execution_count": null,
   "metadata": {},
   "outputs": [],
   "source": [
    "import json\n",
    "import os\n",
    "import pandas as pd\n",
    "import matplotlib.pyplot as plt\n",
    "\n",
    "from swp.simulation_identification.physical_objects.reservoir import Reservoir\n",
    "from swp.simulation_identification.physical_objects.gate import Gate\n",
    "from swp.simulation_identification.physical_objects.river_channel import RiverChannel\n",
    "from swp.local_agents.control.pid_controller import PIDController\n",
    "from swp.core_engine.testing.simulation_harness import SimulationHarness\n",
    "\n",
    "CONFIG_PATH = 'examples/multi_gate_river.json'\n",
    "with open(CONFIG_PATH, 'r') as f:\n",
    "    config = json.load(f)\n",
    "\n",
    "print(\"配置加载成功！\")\n",
    "\n",
    "plt.style.use('seaborn-v0_8-whitegrid')\n",
    "plt.rcParams['font.sans-serif'] = ['SimHei']\n",
    "plt.rcParams['axes.unicode_minus'] = False"
   ]
  },
  {
   "cell_type": "markdown",
   "metadata": {},
   "source": [
    "### 2. 定义并运行仿真"
   ]
  },
  {
   "cell_type": "code",
   "execution_count": null,
   "metadata": {},
   "outputs": [],
   "source": [
    "def run_multi_gate_river(cfg):\n",
    "    \"\"\"根据配置搭建并运行包含控制器的多闸门河流仿真。\"\"\"\n",
    "    print(f\"--- 开始从配置文件加载仿真: {CONFIG_PATH} ---\")\n",
    "\n",
    "    COMPONENT_CLASS_MAP = {\"Reservoir\": Reservoir, \"Gate\": Gate, \"RiverChannel\": RiverChannel}\n",
    "    CONTROLLER_CLASS_MAP = {\"PIDController\": PIDController}\n",
    "\n",
    "    # 1. 设置仿真平台\n",
    "    harness = SimulationHarness(config=cfg['simulation_settings'])\n",
    "\n",
    "    # 2. 实例化并添加物理组件\n",
    "    print(\"\\n--- 正在实例化物理组件 ---\")\n",
    "    for comp_conf in cfg['components']:\n",
    "        CompClass = COMPONENT_CLASS_MAP[comp_conf['type']]\n",
    "        instance = CompClass(name=comp_conf['id'], initial_state=comp_conf.get('initial_state', {}), parameters=comp_conf.get('params', {}))\n",
    "        harness.add_component(instance)\n",
    "    \n",
    "    # 3. 添加连接\n",
    "    print(\"\\n--- 正在连接组件 ---\")\n",
    "    for conn in cfg['connections']: harness.add_connection(conn['from'], conn['to'])\n",
    "\n",
    "    # 4. 实例化并添加控制器\n",
    "    print(\"\\n--- 正在实例化控制器 ---\")\n",
    "    for ctrl_conf in cfg.get('controllers', []):\n",
    "        CtrlClass = CONTROLLER_CLASS_MAP[ctrl_conf['type']]\n",
    "        controller = CtrlClass(**ctrl_conf['params'])\n",
    "        wiring = ctrl_conf['wiring']\n",
    "        harness.add_controller(ctrl_conf['id'], controller, wiring['controlled_id'], wiring['observed_id'], wiring['observation_key'])\n",
    "        print(f\"  - 已创建控制器: {ctrl_conf['id']}\")\n",
    "        \n",
    "    # 5. 构建并运行仿真\n",
    "    harness.build()\n",
    "    harness.run_simulation()\n",
    "\n",
    "    # 6. 保存结果\n",
    "    output_path = os.path.join(os.path.dirname(CONFIG_PATH), \"multi_gate_river_output.json\")\n",
    "    with open(output_path, 'w') as f: json.dump(harness.history, f, indent=4)\n",
    "    print(f\"\\n--- 结果已保存至 {output_path} ---\")\n",
    "    return harness.history\n",
    "\n",
    "history = run_multi_gate_river(config)"
   ]
  },
  {
   "cell_type": "markdown",
   "metadata": {},
   "source": [
    "### 3. 可视化结果"
   ]
  },
  {
   "cell_type": "code",
   "execution_count": null,
   "metadata": {},
   "outputs": [],
   "source": [
    "def plot_controller_results(simulation_history):\n",
    "    if not simulation_history:\n",
    "        print(\"没有历史数据可供绘制。\")\n",
    "        return\n",
    "\n",
    "    df = pd.DataFrame()\n",
    "    for step in simulation_history:\n",
    "        time = step['time']\n",
    "        row = {'time': time}\n",
    "        for comp, states in step.items():\n",
    "            if comp == 'time': continue\n",
    "            for state, value in states.items(): row[f\"{comp}.{state}\"] = value\n",
    "        df = pd.concat([df, pd.DataFrame([row])], ignore_index=True)\n",
    "    df = df.set_index('time')\n",
    "\n",
    "    fig, axes = plt.subplots(3, 1, figsize=(15, 15), sharex=True)\n",
    "    fig.suptitle('多闸门河流PID控制结果', fontsize=16)\n",
    "\n",
    "    # 图1: 上游水库水位与闸门1开度\n",
    "    ax1_twin = axes[0].twinx()\n",
    "    axes[0].plot(df.index, df['reservoir_1.water_level'], 'b-', label='水库水位 (m)')\n",
    "    axes[0].axhline(y=18.0, color='r', linestyle=':', label='目标水位 (18.0m)')\n",
    "    ax1_twin.plot(df.index, df['gate_1.opening'], 'g--', label='闸门1开度')\n",
    "    axes[0].set_title('控制器1: 维持上游水库水位')\n",
    "    axes[0].set_ylabel('水位 (m)', color='b'); ax1_twin.set_ylabel('开度', color='g')\n",
    "    axes[0].legend(loc='upper left'); ax1_twin.legend(loc='upper right')\n",
    "\n",
    "    # 图2: 中间河道蓄水量与闸门2开度\n",
    "    ax2_twin = axes[1].twinx()\n",
    "    axes[1].plot(df.index, df['channel_1.volume'], 'b-', label='河道蓄水量 (m³)')\n",
    "    axes[1].axhline(y=400000, color='r', linestyle=':', label='目标蓄水量 (400,000m³)')\n",
    "    ax2_twin.plot(df.index, df['gate_2.opening'], 'g--', label='闸门2开度')\n",
    "    axes[1].set_title('控制器2: 维持河道蓄水量')\n",
    "    axes[1].set_ylabel('蓄水量 (m³)', color='b'); ax2_twin.set_ylabel('开度', color='g')\n",
    "    axes[1].legend(loc='upper left'); ax2_twin.legend(loc='upper right')\n",
    "    \n",
    "    # 图3: 流量\n",
    "    axes[2].plot(df.index, df['gate_1.outflow'], label='闸门1出流')\n",
    "    axes[2].plot(df.index, df['gate_2.outflow'], label='闸门2出流')\n",
    "    axes[2].set_title('系统流量')\n",
    "    axes[2].set_ylabel('流量 (m³/s)')\n",
    "    axes[2].set_xlabel('时间 (s)')\n",
    "    axes[2].legend()\n",
    "\n",
    "    plt.tight_layout(rect=[0, 0.03, 1, 0.95])\n",
    "    plt.show()\n",
    "\n",
    "plot_controller_results(history)"
   ]
  }
 ],
 "metadata": {
  "kernelspec": {
   "display_name": "Python 3",
   "language": "python",
   "name": "python3"
  },
  "language_info": {
   "name": "python",
   "version": "3.12.1"
  }
 },
 "nbformat": 4,
 "nbformat_minor": 2
}
