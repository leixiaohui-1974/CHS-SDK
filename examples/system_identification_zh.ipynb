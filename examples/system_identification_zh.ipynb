{
 "cells": [
  {
   "cell_type": "markdown",
   "metadata": {},
   "source": [
    "# 案例: 基于设备数据的系统辨识\n",
    "\n",
    "本脚本使用由`plant_simulation.py`（高保真设备仿真）生成的数据，来为一个渠道系统辨识一个简化的控制模型。具体来说，它将传感器数据（水位）与一个一阶加时延（FOPTD）模型进行拟合，该模型基于执行器数据（水闸开度）。\n",
    "\n",
    "辨识出的参数（增益Kp、时间常数T、时延tau）可以用于设计控制器（例如PID控制器）。"
   ]
  },
  {
   "cell_type": "markdown",
   "metadata": {},
   "source": [
    "### 1. 导入库并加载配置"
   ]
  },
  {
   "cell_type": "code",
   "execution_count": null,
   "metadata": {},
   "outputs": [],
   "source": [
    "import json\n",
    "import pandas as pd\n",
    "import numpy as np\n",
    "from scipy.optimize import curve_fit\n",
    "import matplotlib.pyplot as plt\n",
    "\n",
    "CONFIG_PATH = 'examples/system_identification.json'\n",
    "with open(CONFIG_PATH, 'r') as f:\n",
    "    config = json.load(f)\n",
    "\n",
    "print(\"配置加载成功！\")\n",
    "\n",
    "plt.style.use('seaborn-v0_8-whitegrid')\n",
    "plt.rcParams['font.sans-serif'] = ['SimHei']\n",
    "plt.rcParams['axes.unicode_minus'] = False"
   ]
  },
  {
   "cell_type": "markdown",
   "metadata": {},
   "source": [
    "### 2. 定义FOPTD模型和辨识函数"
   ]
  },
  {
   "cell_type": "code",
   "execution_count": null,
   "metadata": {},
   "outputs": [],
   "source": [
    "def foptd_model(t, Kp, T, tau):\n",
    "    \"\"\"定义一阶加时延 (FOPTD) 模型。\"\"\"\n",
    "    response = np.zeros_like(t, dtype=float)\n",
    "    T = max(T, 1e-9) # 避免数学错误\n",
    "    mask = t >= tau\n",
    "    response[mask] = Kp * (1 - np.exp(-(t[mask] - tau) / T))\n",
    "    return response\n",
    "\n",
    "def identify_model_parameters(cfg):\n",
    "    \"\"\"加载设备数据并执行系统辨识。\"\"\"\n",
    "    print(\"\\n--- 开始系统辨识 --- \")\n",
    "\n",
    "    # 1. 加载数据\n",
    "    input_file = cfg['data_source']['input_filename']\n",
    "    try:\n",
    "        data = pd.read_csv(input_file)\n",
    "    except FileNotFoundError:\n",
    "        print(f\"错误: 未找到 `{input_file}`。\")\n",
    "        print(\"请先运行 `plant_simulation_zh.ipynb` 来生成数据。\")\n",
    "        return None, None\n",
    "    print(f\"成功加载 `{input_file}`。\")\n",
    "\n",
    "    # 2. 处理数据以寻找阶跃响应\n",
    "    step_index = data['gate_opening'].diff().ne(0).idxmax()\n",
    "    step_time = data['timestamp'][step_index]\n",
    "    delta_u = data['gate_opening'][step_index] - data['gate_opening'][step_index - 1]\n",
    "    y_initial = data['upstream_water_level'][step_index - 1]\n",
    "    y_response = data['upstream_water_level'][step_index:] - y_initial\n",
    "    t_response = data['timestamp'][step_index:] - step_time\n",
    "    print(f\"在t={step_time}s检测到大小为{delta_u:.2f}的阶跃输入。\")\n",
    "\n",
    "    # 3. 执行曲线拟合\n",
    "    y_normalized = y_response / delta_u\n",
    "    \n",
    "    # 提供参数的初始猜测值\n",
    "    fit_cfg = cfg['curve_fitting']\n",
    "    Kp_guess = y_normalized.iloc[-1]\n",
    "    T_guess = (t_response.iloc[-1] - t_response.iloc[0]) / fit_cfg['T_divisor']\n",
    "    initial_guesses = [Kp_guess, T_guess, fit_cfg['tau']]\n",
    "    print(f\"初始猜测值: Kp={Kp_guess:.2f}, T={T_guess:.2f}, tau={fit_cfg['tau']:.2f}\")\n",
    "\n",
    "    try:\n",
    "        params, _ = curve_fit(foptd_model, t_response.to_numpy(), y_normalized.to_numpy(), p0=initial_guesses, bounds=([-np.inf, 0, 0], [np.inf, np.inf, np.inf]))\n",
    "    except Exception as e:\n",
    "        print(f\"曲线拟合出错: {e}\")\n",
    "        return None, None\n",
    "\n",
    "    Kp_fit, T_fit, tau_fit = params\n",
    "    print(\"\\n--- 系统辨识结果 ---\")\n",
    "    print(f\"辨识出的过程增益 (Kp): {Kp_fit:.4f} m / 单位闸门开度\")\n",
    "    print(f\"辨识出的时间常数 (T): {T_fit:.4f} s\")\n",
    "    print(f\"辨识出的时延 (tau): {tau_fit:.4f} s\")\n",
    "    return data, (Kp_fit, T_fit, tau_fit)\n"
   ]
  },
  {
   "cell_type": "markdown",
   "metadata": {},
   "source": [
    "### 3. 运行辨识并可视化结果"
   ]
  },
  {
   "cell_type": "code",
   "execution_count": null,
   "metadata": {},
   "outputs": [],
   "source": [
    "plant_data, fitted_params = identify_model_parameters(config)\n",
    "\n",
    "if plant_data is not None and fitted_params is not None:\n",
    "    Kp, T, tau = fitted_params\n",
    "    \n",
    "    # 重新计算阶跃响应以绘图\n",
    "    step_index = plant_data['gate_opening'].diff().ne(0).idxmax()\n",
    "    step_time = plant_data['timestamp'][step_index]\n",
    "    delta_u = plant_data['gate_opening'][step_index] - plant_data['gate_opening'][step_index - 1]\n",
    "    y_initial = plant_data['upstream_water_level'][step_index - 1]\n",
    "    t_response = plant_data['timestamp'][step_index:] - step_time\n",
    "    \n",
    "    y_fitted_normalized = foptd_model(t_response, Kp, T, tau)\n",
    "    y_fitted = y_fitted_normalized * delta_u + y_initial\n",
    "\n",
    "    plt.figure(figsize=(12, 8))\n",
    "    plt.plot(plant_data['timestamp'], plant_data['upstream_water_level'], 'b-', label='实际设备水位 (来自CSV)')\n",
    "    plt.plot(t_response + step_time, y_fitted, 'r--', linewidth=2, label=f'拟合的FOPTD模型 (Kp={Kp:.2f}, T={T:.2f}, τ={tau:.2f})')\n",
    "    plt.axvline(x=step_time, color='grey', linestyle=':', label=f'阶跃输入 (t={step_time}s)')\n",
    "    plt.title('系统辨识: 设备数据 vs. 拟合的FOPTD模型')\n",
    "    plt.xlabel('时间 (s)')\n",
    "    plt.ylabel('上游水位 (m)')\n",
    "    plt.legend()\n",
    "    plt.grid(True)\n",
    "    \n",
    "    output_filename = config['output']['plot_filename']\n",
    "    plt.savefig(output_filename)\n",
    "    print(f\"\\n--- 结果图已保存至 {output_filename} ---\")\n",
    "    plt.show()"
   ]
  }
 ],
 "metadata": {
  "kernelspec": {
   "display_name": "Python 3",
   "language": "python",
   "name": "python3"
  },
  "language_info": {
   "name": "python",
   "version": "3.12.1"
  }
 },
 "nbformat": 4,
 "nbformat_minor": 2
}
