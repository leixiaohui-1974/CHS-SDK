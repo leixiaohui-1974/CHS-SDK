{
 "cells": [
  {
   "cell_type": "markdown",
   "metadata": {},
   "source": [
    "# 案例: 多智能体系统 (MAS) 仿真\n",
    "\n",
    "本案例演示了一个纯粹的多智能体、事件驱动的仿真。所有组件之间完全解耦，仅通过消息总线(`MessageBus`)进行通信。\n",
    "\n",
    "场景包含一个`DigitalTwinAgent`（数字孪生智能体）发布水库状态，以及一个`LocalControlAgent`（本地控制智能体）订阅该状态，并使用PID控制器来操作一个水闸。"
   ]
  },
  {
   "cell_type": "markdown",
   "metadata": {},
   "source": [
    "### 1. 导入库并加载配置"
   ]
  },
  {
   "cell_type": "code",
   "execution_count": null,
   "metadata": {},
   "outputs": [],
   "source": [
    "import json\n",
    "import pandas as pd\n",
    "import matplotlib.pyplot as plt\n",
    "\n",
    "from swp.core_engine.testing.simulation_harness import SimulationHarness\n",
    "from swp.simulation_identification.physical_objects.reservoir import Reservoir\n",
    "from swp.simulation_identification.physical_objects.gate import Gate\n",
    "from swp.local_agents.control.pid_controller import PIDController\n",
    "from swp.local_agents.control.local_control_agent import LocalControlAgent\n",
    "from swp.local_agents.perception.digital_twin_agent import DigitalTwinAgent\n",
    "\n",
    "CONFIG_PATH = 'examples/mas_simulation.json'\n",
    "with open(CONFIG_PATH, 'r') as f:\n",
    "    config = json.load(f)\n",
    "\n",
    "print(\"配置加载成功！\")\n",
    "\n",
    "plt.style.use('seaborn-v0_8-whitegrid')\n",
    "plt.rcParams['font.sans-serif'] = ['SimHei']\n",
    "plt.rcParams['axes.unicode_minus'] = False"
   ]
  },
  {
   "cell_type": "markdown",
   "metadata": {},
   "source": [
    "### 2. 定义并运行仿真"
   ]
  },
  {
   "cell_type": "code",
   "execution_count": null,
   "metadata": {},
   "outputs": [],
   "source": [
    "def run_mas_simulation(cfg):\n",
    "    print(\"\\n--- 搭建多智能体仿真示例 ---\")\n",
    "    \n",
    "    # 1. 仿真和通信设置\n",
    "    harness = SimulationHarness(config=cfg['simulation'])\n",
    "    message_bus = harness.message_bus\n",
    "    topics = cfg['messaging_topics']\n",
    "    \n",
    "    # 2. 创建物理组件\n",
    "    res_cfg = cfg['components']['reservoir']\n",
    "    reservoir = Reservoir(\"reservoir_1\", res_cfg['initial_state'], res_cfg['params'])\n",
    "    \n",
    "    gate_cfg = cfg['components']['gate']\n",
    "    gate = Gate(\"gate_1\", gate_cfg['initial_state'], gate_cfg['params'], message_bus, topics['gate_action'])\n",
    "    \n",
    "    # 3. 创建智能体\n",
    "    twin_agent = DigitalTwinAgent(\"twin_agent_reservoir_1\", reservoir, message_bus, topics['reservoir_state'])\n",
    "    \n",
    "    pid_cfg = cfg['agents']['pid_controller']\n",
    "    pid_controller = PIDController(setpoint=pid_cfg['setpoint'], Kp=pid_cfg['Kp'], Ki=pid_cfg['Ki'], Kd=pid_cfg['Kd'], min_output=0.0, max_output=gate_cfg['params']['max_opening'])\n",
    "    \n",
    "    control_agent = LocalControlAgent(\n",
    "        \"control_agent_gate_1\", pid_controller, message_bus,\n",
    "        observation_topic=topics['reservoir_state'], observation_key='water_level',\n",
    "        action_topic=topics['gate_action'], dt=cfg['simulation']['dt']\n",
    "    )\n",
    "    \n",
    "    # 4. 添加到仿真平台\n",
    "    harness.add_component(reservoir)\n",
    "    harness.add_component(gate)\n",
    "    harness.add_agent(twin_agent)\n",
    "    harness.add_agent(control_agent)\n",
    "    \n",
    "    # 5. 定义拓扑并运行\n",
    "    harness.add_connection(\"reservoir_1\", \"gate_1\")\n",
    "    harness.build()\n",
    "    harness.run_mas_simulation()\n",
    "    \n",
    "    print(\"\\n--- 仿真结束后的最终状态 ---\")\n",
    "    final_states = {cid: comp.get_state() for cid, comp in harness.components.items()}\n",
    "    for cid, state in final_states.items():\n",
    "        state_str = \", \".join(f\"{k}={v:.2f}\" for k, v in state.items())\n",
    "        print(f\"  {cid}: {state_str}\")\n",
    "        \n",
    "    return harness.history\n",
    "\n",
    "history = run_mas_simulation(config)"
   ]
  },
  {
   "cell_type": "markdown",
   "metadata": {},
   "source": [
    "### 3. 可视化结果"
   ]
  },
  {
   "cell_type": "code",
   "execution_count": null,
   "metadata": {},
   "outputs": [],
   "source": [
    "def plot_history(simulation_history):\n",
    "    if not simulation_history:\n",
    "        print(\"没有历史数据可供绘制。\")\n",
    "        return\n",
    "        \n",
    "    results_df = pd.DataFrame([step['reservoir_1'] for step in simulation_history if 'reservoir_1' in step])\n",
    "    results_df['time'] = [step['time'] for step in simulation_history if 'reservoir_1' in step]\n",
    "    results_df = results_df.set_index('time')\n",
    "    \n",
    "    gate_df = pd.DataFrame([step['gate_1'] for step in simulation_history if 'gate_1' in step])\n",
    "    gate_df['time'] = [step['time'] for step in simulation_history if 'gate_1' in step]\n",
    "    gate_df = gate_df.set_index('time')\n",
    "    results_df['gate_opening'] = gate_df['opening']\n",
    "    \n",
    "    fig, ax1 = plt.subplots(figsize=(15, 7))\n",
    "    fig.suptitle('多智能体仿真结果', fontsize=16)\n",
    "    \n",
    "    ax1.plot(results_df.index, results_df['water_level'], 'b-', label='水库水位 (m)')\n",
    "    ax1.axhline(y=config['agents']['pid_controller']['setpoint'], color='r', linestyle=':', label='目标水位')\n",
    "    ax1.set_xlabel('时间 (s)')\n",
    "    ax1.set_ylabel('水位 (m)', color='b')\n",
    "    ax1.tick_params(axis='y', labelcolor='b')\n",
    "    ax1.grid(True)\n",
    "    \n",
    "    ax2 = ax1.twinx()\n",
    "    ax2.plot(results_df.index, results_df['gate_opening'], 'g-', label='水闸开度 (m)')\n",
    "    ax2.set_ylabel('开度 (m)', color='g')\n",
    "    ax2.tick_params(axis='y', labelcolor='g')\n",
    "    \n",
    "    lines, labels = ax1.get_legend_handles_labels()\n",
    "    lines2, labels2 = ax2.get_legend_handles_labels()\n",
    "    ax2.legend(lines + lines2, labels + labels2, loc='upper right')\n",
    "    \n",
    "    plt.show()\n",
    "\n",
    "plot_history(history)"
   ]
  }
 ],
 "metadata": {
  "kernelspec": {
   "display_name": "Python 3",
   "language": "python",
   "name": "python3"
  },
  "language_info": {
   "name": "python",
   "version": "3.12.1"
  }
 },
 "nbformat": 4,
 "nbformat_minor": 2
}
