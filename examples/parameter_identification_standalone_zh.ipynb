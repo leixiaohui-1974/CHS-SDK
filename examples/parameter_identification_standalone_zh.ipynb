{
 "cells": [
  {
   "cell_type": "markdown",
   "metadata": {},
   "source": [
    "# 案例: 参数自动校准 (独立脚本版)\n",
    "\n",
    "本案例再次演示了如何使用`ParameterIdentificationAgent`来自动校准模型参数。与之前的版本相比，这个案例更进一步，它会计算并打印出模型在校准前后的均方根误差（RMSE），以量化性能的提升，并使用断言（assert）来验证校准的成功。"
   ]
  },
  {
   "cell_type": "markdown",
   "metadata": {},
   "source": [
    "### 1. 导入库并加载配置"
   ]
  },
  {
   "cell_type": "code",
   "execution_count": null,
   "metadata": {},
   "outputs": [],
   "source": [
    "import json\n",
    "import numpy as np\n",
    "\n",
    "from swp.simulation_identification.physical_objects.rainfall_runoff import RainfallRunoff\n",
    "from swp.simulation_identification.identification.identification_agent import ParameterIdentificationAgent\n",
    "from swp.central_coordination.collaboration.message_bus import MessageBus\n",
    "from swp.data_processing.evaluator import calculate_rmse\n",
    "\n",
    "CONFIG_PATH = 'examples/parameter_identification_standalone.json'\n",
    "with open(CONFIG_PATH, 'r') as f:\n",
    "    config = json.load(f)\n",
    "\n",
    "print(\"配置加载成功！\")"
   ]
  },
  {
   "cell_type": "markdown",
   "metadata": {},
   "source": [
    "### 2. 定义并运行仿真"
   ]
  },
  {
   "cell_type": "code",
   "execution_count": null,
   "metadata": {},
   "outputs": [],
   "source": [
    "def run_standalone_id_example(cfg):\n",
    "    # 1. 定义真实参数并生成数据\n",
    "    true_params = cfg['ground_truth']\n",
    "    data_cfg = cfg['data_generation']\n",
    "    np.random.seed(data_cfg['seed'])\n",
    "    rainfall_series = np.random.rand(data_cfg['num_points']) * data_cfg['max_rainfall_intensity']\n",
    "    observed_runoff_series = true_params['runoff_coefficient'] * rainfall_series * true_params['catchment_area']\n",
    "\n",
    "    # 2. 创建带有错误初始参数的模型\n",
    "    initial_wrong_coeff = cfg['model_initial_guess']['runoff_coefficient']\n",
    "    model_params = {'catchment_area': true_params['catchment_area'], 'runoff_coefficient': initial_wrong_coeff}\n",
    "    runoff_model = RainfallRunoff(name=\"catchment_to_calibrate\", parameters=model_params)\n",
    "    print(f\"模型初始径流系数: {runoff_model.get_parameters()['runoff_coefficient']:.2f}\")\n",
    "\n",
    "    # 3. 评估初始模型性能\n",
    "    initial_simulated_runoff = initial_wrong_coeff * rainfall_series * true_params['catchment_area']\n",
    "    initial_rmse = calculate_rmse(initial_simulated_runoff, observed_runoff_series)\n",
    "    print(f\"初始均方根误差 (RMSE): {initial_rmse:.4f}\")\n",
    "\n",
    "    # 4. 设置辨识智能体\n",
    "    bus = MessageBus()\n",
    "    agent_cfg = cfg['agent_config']\n",
    "    id_agent = ParameterIdentificationAgent(\n",
    "        agent_id=\"id_agent_1\",\n",
    "        target_model=runoff_model,\n",
    "        message_bus=bus,\n",
    "        config=agent_cfg\n",
    "    )\n",
    "\n",
    "    # 5. 模拟数据流并运行智能体\n",
    "    print(\"\\n--- 模拟数据流并运行辨识过程 ---\")\n",
    "    data_map = agent_cfg['data_map']\n",
    "    for i in range(len(rainfall_series)):\n",
    "        bus.publish(data_map['rainfall'], {'value': rainfall_series[i]})\n",
    "        bus.publish(data_map['observed_runoff'], {'value': observed_runoff_series[i]})\n",
    "    id_agent.run(current_time=1)\n",
    "\n",
    "    # 6. 评估最终模型性能\n",
    "    final_coeff = runoff_model.get_parameters()['runoff_coefficient']\n",
    "    print(f\"\\n最终辨识出的径流系数: {final_coeff:.2f}\")\n",
    "    final_simulated_runoff = final_coeff * rainfall_series * true_params['catchment_area']\n",
    "    final_rmse = calculate_rmse(final_simulated_runoff, observed_runoff_series)\n",
    "    print(f\"最终均方根误差 (RMSE): {final_rmse:.4f}\")\n",
    "    \n",
    "    # 7. 断言验证\n",
    "    assert final_rmse < initial_rmse\n",
    "    assert abs(final_coeff - true_params['runoff_coefficient']) < 1e-3\n",
    "    print(\"\\n示例成功结束。智能体正确地辨识出了参数，且误差减小。\")\n",
    "\n",
    "run_standalone_id_example(config)"
   ]
  }
 ],
 "metadata": {
  "kernelspec": {
   "display_name": "Python 3",
   "language": "python",
   "name": "python3"
  },
  "language_info": {
   "name": "python",
   "version": "3.12.1"
  }
 },
 "nbformat": 4,
 "nbformat_minor": 2
}
