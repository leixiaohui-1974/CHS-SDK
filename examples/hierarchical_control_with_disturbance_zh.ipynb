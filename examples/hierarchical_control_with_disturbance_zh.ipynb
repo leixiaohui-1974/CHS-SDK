{
 "cells": [
  {
   "cell_type": "markdown",
   "metadata": {},
   "source": [
    "# 案例: 带扰动的分层控制系统\n",
    "\n",
    "本案例演示了在面临外部扰动（突发的降雨事件）时，分层控制系统的韧性。场景与基础的分层控制案例相同，但增加了：\n",
    "\n",
    "- 一个`RainfallAgent`，它会在仿真中途模拟一次突然的大流量入库。\n",
    "- 一个能感知消息并订阅扰动主题的`Reservoir`模型。\n",
    "\n",
    "这个例子展示了解耦的智能体如何对意外事件作出反应以维持系统稳定。"
   ]
  },
  {
   "cell_type": "markdown",
   "metadata": {},
   "source": [
    "### 1. 导入库并加载配置"
   ]
  },
  {
   "cell_type": "code",
   "execution_count": null,
   "metadata": {},
   "outputs": [],
   "source": [
    "import json\n",
    "import pandas as pd\n",
    "import matplotlib.pyplot as plt\n",
    "\n",
    "# 导入平台组件\n",
    "from swp.core_engine.testing.simulation_harness import SimulationHarness\n",
    "from swp.central_coordination.collaboration.message_bus import MessageBus\n",
    "from swp.simulation_identification.physical_objects.reservoir import Reservoir\n",
    "from swp.simulation_identification.physical_objects.gate import Gate\n",
    "from swp.local_agents.control.pid_controller import PIDController\n",
    "from swp.local_agents.control.local_control_agent import LocalControlAgent\n",
    "from swp.local_agents.perception.digital_twin_agent import DigitalTwinAgent\n",
    "from swp.central_coordination.dispatch.central_dispatcher import CentralDispatcher\n",
    "from swp.simulation_identification.disturbances.rainfall_agent import RainfallAgent\n",
    "\n",
    "CONFIG_PATH = 'examples/hierarchical_control_with_disturbance.json'\n",
    "with open(CONFIG_PATH, 'r') as f:\n",
    "    config = json.load(f)\n",
    "\n",
    "print(\"配置加载成功！\")\n",
    "\n",
    "plt.style.use('seaborn-v0_8-whitegrid')\n",
    "plt.rcParams['font.sans-serif'] = ['SimHei']\n",
    "plt.rcParams['axes.unicode_minus'] = False"
   ]
  },
  {
   "cell_type": "markdown",
   "metadata": {},
   "source": [
    "### 2. 定义系统搭建和运行函数"
   ]
  },
  {
   "cell_type": "code",
   "execution_count": null,
   "metadata": {},
   "outputs": [],
   "source": [
    "def setup_and_run_simulation(cfg):\n",
    "    # 1. 仿真和通信设置\n",
    "    harness = SimulationHarness(config=cfg['simulation'])\n",
    "    message_bus = harness.message_bus\n",
    "    sim_cfg = cfg['simulation']\n",
    "    topics = cfg['messaging_topics']\n",
    "    comp_cfgs = cfg['components']\n",
    "    agent_cfgs = cfg['agents']\n",
    "    \n",
    "    # 2. 创建核心物理组件\n",
    "    res_cfg = comp_cfgs['reservoir']\n",
    "    # 让水库能感知扰动\n",
    "    reservoir = Reservoir(\"reservoir_1\", res_cfg['initial_state'], res_cfg['params'], message_bus=message_bus, disturbance_topics=[topics['rainfall_disturbance']])\n",
    "    gate_cfg = comp_cfgs['gate']\n",
    "    gate = Gate(\"gate_1\", gate_cfg['initial_state'], gate_cfg['params'], message_bus, topics['gate_action'])\n",
    "\n",
    "    # 3. 创建核心控制智能体 (与基础版分层控制相同)\n",
    "    reservoir_twin = DigitalTwinAgent(\"twin_agent_reservoir_1\", reservoir, message_bus, topics['reservoir_state'])\n",
    "    gate_twin = DigitalTwinAgent(\"twin_agent_gate_1\", gate, message_bus, topics['gate_state'])\n",
    "    pid_cfg = agent_cfgs['pid_controller']\n",
    "    pid_controller = PIDController(setpoint=pid_cfg['setpoint'], Kp=pid_cfg['Kp'], Ki=pid_cfg['Ki'], Kd=pid_cfg['Kd'], min_output=0.0, max_output=gate_cfg['params']['max_opening'])\n",
    "    control_agent = LocalControlAgent(\"control_agent_gate_1\", pid_controller, message_bus, topics['reservoir_state'], 'water_level', topics['gate_action'], sim_cfg['dt'], topics['gate_command'], topics['gate_state'])\n",
    "    disp_cfg = agent_cfgs['dispatcher']\n",
    "    dispatcher = CentralDispatcher(\"central_dispatcher_1\", message_bus, {'reservoir_level': topics['reservoir_state']}, {'gate1_command': topics['gate_command']}, disp_cfg['rules'])\n",
    "\n",
    "    # 4. 创建扰动智能体\n",
    "    rain_cfg = agent_cfgs['rainfall_disturbance']\n",
    "    rainfall_config = {**rain_cfg, 'topic': topics['rainfall_disturbance']}\n",
    "    rainfall_agent = RainfallAgent(\"rainfall_agent_1\", message_bus, rainfall_config)\n",
    "\n",
    "    # 5. 添加所有组件和智能体到仿真平台\n",
    "    for component in [reservoir, gate]: harness.add_component(component)\n",
    "    for agent in [reservoir_twin, gate_twin, control_agent, dispatcher, rainfall_agent]: harness.add_agent(agent)\n",
    "\n",
    "    # 6. 定义拓扑并运行\n",
    "    harness.add_connection(\"reservoir_1\", \"gate_1\")\n",
    "    harness.build()\n",
    "    print(\"\\n--- 系统搭建完毕，开始运行仿真 ---\")\n",
    "    harness.run_mas_simulation()\n",
    "    print(\"--- 仿真结束 ---\")\n",
    "    return harness.history\n",
    "\n",
    "history = setup_and_run_simulation(config)"
   ]
  },
  {
   "cell_type": "markdown",
   "metadata": {},
   "source": [
    "### 3. 可视化结果\n",
    "\n",
    "下图清晰地展示了在第300秒扰动开始后，系统是如何响应的。中央调度器检测到水位将超过洪水阈值，于是下调了PID控制器的目标水位，使得水闸开度增大，从而预泄洪，将水位控制在安全范围内。"
   ]
  },
  {
   "cell_type": "code",
   "execution_count": null,
   "metadata": {},
   "outputs": [],
   "source": [
    "def plot_disturbance_results(simulation_history, cfg):\n",
    "    if not simulation_history:\n",
    "        print(\"没有历史数据可供绘制。\")\n",
    "        return\n",
    "        \n",
    "    # 数据转换\n",
    "    flat_history = []\n",
    "    for step in simulation_history:\n",
    "        row = {'time': step['time']}\n",
    "        for component_name, states in step.items():\n",
    "            if component_name == 'time' or not isinstance(states, dict): continue\n",
    "            for state_key, value in states.items():\n",
    "                row[f\"{component_name}.{state_key}\"] = value\n",
    "        flat_history.append(row)\n",
    "    results_df = pd.DataFrame(flat_history).set_index('time')\n",
    "    \n",
    "    # 绘图\n",
    "    fig, ax1 = plt.subplots(figsize=(15, 7))\n",
    "    fig.suptitle('带扰动的分层控制仿真结果', fontsize=16)\n",
    "\n",
    "    ax1.plot(results_df.index, results_df['reservoir_1.water_level'], 'b-', label='水库水位 (m)')\n",
    "    ax1.set_xlabel('时间 (s)')\n",
    "    ax1.set_ylabel('水位 (m)', color='b')\n",
    "    ax1.tick_params(axis='y', labelcolor='b')\n",
    "    ax1.grid(True)\n",
    "    ax1.axhline(y=cfg['agents']['dispatcher']['rules']['flood_threshold'], color='r', linestyle=':', label='洪水阈值')\n",
    "\n",
    "    # 突出显示扰动区间\n",
    "    rain_cfg = cfg['agents']['rainfall_disturbance']\n",
    "    ax1.axvspan(rain_cfg['start_time'], rain_cfg['start_time'] + rain_cfg['duration'], facecolor='orange', alpha=0.3, label='降雨扰动期')\n",
    "\n",
    "    ax2 = ax1.twinx()\n",
    "    ax2.plot(results_df.index, results_df['gate_1.opening'], 'g-', label='水闸开度 (m)')\n",
    "    ax2.set_ylabel('开度 (m)', color='g')\n",
    "    ax2.tick_params(axis='y', labelcolor='g')\n",
    "\n",
    "    lines, labels = ax1.get_legend_handles_labels()\n",
    "    lines2, labels2 = ax2.get_legend_handles_labels()\n",
    "    ax2.legend(lines + lines2, labels + labels2, loc='upper right')\n",
    "\n",
    "    plt.show()\n",
    "\n",
    "plot_disturbance_results(history, config)"
   ]
  }
 ],
 "metadata": {
  "kernelspec": {
   "display_name": "Python 3",
   "language": "python",
   "name": "python3"
  },
  "language_info": {
   "name": "python",
   "version": "3.12.1"
  }
 },
 "nbformat": 4,
 "nbformat_minor": 2
}
