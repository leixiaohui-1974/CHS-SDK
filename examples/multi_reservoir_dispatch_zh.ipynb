{
 "cells": [
  {
   "cell_type": "markdown",
   "metadata": {},
   "source": [
    "# 案例: 多水库系统的中央调度\n",
    "\n",
    "本案例演示了`CentralDispatcher`（中央调度器）如何协调一个由两个串联水库组成的复杂系统。调度器会监控两个水库的水位，并根据一套全局规则，动态调整每个水库本地PID控制器的目标水位，以应对上游来水变化，实现系统层面的削峰和蓄水。"
   ]
  },
  {
   "cell_type": "markdown",
   "metadata": {},
   "source": [
    "### 1. 导入库并加载配置"
   ]
  },
  {
   "cell_type": "code",
   "execution_count": null,
   "metadata": {},
   "outputs": [],
   "source": [
    "import json\n",
    "import pandas as pd\n",
    "import matplotlib.pyplot as plt\n",
    "\n",
    "from swp.central_coordination.collaboration.message_bus import MessageBus\n",
    "from swp.central_coordination.dispatch.central_dispatcher import CentralDispatcher\n",
    "from swp.simulation_identification.physical_objects.reservoir import Reservoir\n",
    "from swp.simulation_identification.physical_objects.gate import Gate\n",
    "from swp.local_agents.control.pid_controller import PIDController\n",
    "\n",
    "CONFIG_PATH = 'examples/multi_reservoir_dispatch.json'\n",
    "with open(CONFIG_PATH, 'r') as f:\n",
    "    config = json.load(f)\n",
    "\n",
    "print(\"配置加载成功！\")\n",
    "\n",
    "plt.style.use('seaborn-v0_8-whitegrid')\n",
    "plt.rcParams['font.sans-serif'] = ['SimHei']\n",
    "plt.rcParams['axes.unicode_minus'] = False"
   ]
  },
  {
   "cell_type": "markdown",
   "metadata": {},
   "source": [
    "### 2. 定义并运行仿真"
   ]
  },
  {
   "cell_type": "code",
   "execution_count": null,
   "metadata": {},
   "outputs": [],
   "source": [
    "def run_multi_reservoir_simulation(cfg):\n",
    "    # 1. 初始化\n",
    "    bus = MessageBus()\n",
    "    dt = cfg['simulation']['dt']\n",
    "    topics = cfg['messaging_topics']\n",
    "    \n",
    "    # 2. 创建中央调度器\n",
    "    dispatcher = CentralDispatcher(\n",
    "        agent_id=\"system_dispatcher\", message_bus=bus,\n",
    "        state_subscriptions={\"res1\": topics['res1_state'], \"res2\": topics['res2_state']},\n",
    "        command_topics={\"res1_control\": topics['res1_command'], \"res2_control\": topics['res2_command']},\n",
    "        rules=cfg['dispatcher_rules']\n",
    "    )\n",
    "\n",
    "    # 3. 创建水库1及其组件\n",
    "    res1_cfg = cfg['reservoir1']\n",
    "    res1 = Reservoir(\"res1\", res1_cfg['initial_state'], res1_cfg['params'])\n",
    "    gate1 = Gate(\"gate1\", {'opening': 0.5}, res1_cfg['gate_params'])\n",
    "    pid1_params = res1_cfg['pid_params']\n",
    "    pid1 = PIDController(setpoint=cfg['dispatcher_rules']['res1_normal_setpoint'], min_output=0, **pid1_params)\n",
    "\n",
    "    # 4. 创建水库2及其组件\n",
    "    res2_cfg = cfg['reservoir2']\n",
    "    res2 = Reservoir(\"res2\", res2_cfg['initial_state'], res2_cfg['params'])\n",
    "    gate2 = Gate(\"gate2\", {'opening': 0.5}, res2_cfg['gate_params'])\n",
    "    pid2_params = res2_cfg['pid_params']\n",
    "    pid2 = PIDController(setpoint=cfg['dispatcher_rules']['res2_normal_setpoint'], min_output=0, **pid2_params)\n",
    "\n",
    "    # 5. 订阅调度器的指令\n",
    "    bus.subscribe(topics['res1_command'], lambda msg: pid1.set_setpoint(msg['new_setpoint']))\n",
    "    bus.subscribe(topics['res2_command'], lambda msg: pid2.set_setpoint(msg['new_setpoint']))\n",
    "\n",
    "    # 6. 仿真循环\n",
    "    print(\"\\n--- 开始仿真 ---\")\n",
    "    history = []\n",
    "    inflows1 = cfg['simulation']['inflows_res1']\n",
    "\n",
    "    for t, inflow1 in enumerate(inflows1):\n",
    "        # 发布状态给调度器\n",
    "        bus.publish(topics['res1_state'], res1.get_state())\n",
    "        bus.publish(topics['res2_state'], res2.get_state())\n",
    "\n",
    "        # 调度器决策\n",
    "        dispatcher.run(current_time=t*dt)\n",
    "\n",
    "        # 本地控制器计算并执行\n",
    "        action1 = pid1.compute_control_action({'process_variable': res1.get_state()['water_level']}, dt)\n",
    "        gate1.step({'opening': action1}, dt)\n",
    "        \n",
    "        # 系统物理状态更新\n",
    "        inflow2 = gate1.get_state()['outflow']\n",
    "        res1.set_inflow(inflow1)\n",
    "        res1.step({'outflow': inflow2}, dt)\n",
    "        \n",
    "        action2 = pid2.compute_control_action({'process_variable': res2.get_state()['water_level']}, dt)\n",
    "        gate2.step({'opening': action2}, dt)\n",
    "        \n",
    "        inflow3 = gate2.get_state()['outflow']\n",
    "        res2.set_inflow(inflow2)\n",
    "        res2.step({'outflow': inflow3}, dt)\n",
    "\n",
    "        # 记录历史\n",
    "        history.append({\n",
    "            'time': t, 'res1_level': res1.get_state()['water_level'], 'res2_level': res2.get_state()['water_level'],\n",
    "            'pid1_setpoint': pid1.setpoint, 'pid2_setpoint': pid2.setpoint\n",
    "        })\n",
    "    \n",
    "    results_df = pd.DataFrame(history)\n",
    "    print(\"\\n--- 仿真结果 ---\")\n",
    "    print(results_df)\n",
    "    return results_df\n",
    "\n",
    "results = run_multi_reservoir_simulation(config)"
   ]
  },
  {
   "cell_type": "markdown",
   "metadata": {},
   "source": [
    "### 3. 可视化结果\n",
    "\n",
    "下图展示了两个水库的水位以及它们的PID控制器目标水位（setpoint）随时间的变化。可以清晰地看到，当上游水库（res1）面临巨大来水时，中央调度器是如何通过调整两个水库的目标水位来协同应对的。"
   ]
  },
  {
   "cell_type": "code",
   "execution_count": null,
   "metadata": {},
   "outputs": [],
   "source": [
    "fig, ax = plt.subplots(2, 1, figsize=(15, 12), sharex=True)\n",
    "fig.suptitle('多水库中央调度结果', fontsize=16)\n",
    "\n",
    "# 水库1的图\n",
    "ax[0].plot(results['time'], results['res1_level'], 'b-', label='水库1 水位 (m)')\n",
    "ax[0].plot(results['time'], results['pid1_setpoint'], 'b--', label='水库1 目标水位 (m)')\n",
    "ax[0].set_ylabel('水位 (m)')\n",
    "ax[0].legend()\n",
    "ax[0].grid(True)\n",
    "ax[0].set_title('上游水库1')\n",
    "\n",
    "# 水库2的图\n",
    "ax[1].plot(results['time'], results['res2_level'], 'g-', label='水库2 水位 (m)')\n",
    "ax[1].plot(results['time'], results['pid2_setpoint'], 'g--', label='水库2 目标水位 (m)')\n",
    "ax[1].set_xlabel('时间步')\n",
    "ax[1].set_ylabel('水位 (m)')\n",
    "ax[1].legend()\n",
    "ax[1].grid(True)\n",
    "ax[1].set_title('下游水库2')\n",
    "\n",
    "plt.show()"
   ]
  }
 ],
 "metadata": {
  "kernelspec": {
   "display_name": "Python 3",
   "language": "python",
   "name": "python3"
  },
  "language_info": {
   "name": "python",
   "version": "3.12.1"
  }
 },
 "nbformat": 4,
 "nbformat_minor": 2
}
