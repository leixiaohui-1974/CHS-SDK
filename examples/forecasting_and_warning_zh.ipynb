{
 "cells": [
  {
   "cell_type": "markdown",
   "metadata": {},
   "source": [
    "# 案例 1.5: 预测与早期预警\n",
    "\n",
    "本案例演示了一个预测智能体如何根据历史数据进行预测，并发布预警。一个 `ARIMAForecaster` 智能体在接收历史数据后，会生成一个对未来的预测。如果预测值超过了预设的阈值，它将通过消息总线发布一个警告。"
   ]
  },
  {
   "cell_type": "markdown",
   "metadata": {},
   "source": [
    "### 1. 导入库并加载配置"
   ]
  },
  {
   "cell_type": "code",
   "execution_count": null,
   "metadata": {},
   "outputs": [],
   "source": [
    "import json\n",
    "import numpy as np\n",
    "import pandas as pd\n",
    "import matplotlib.pyplot as plt\n",
    "\n",
    "from swp.central_coordination.collaboration.message_bus import MessageBus\n",
    "from swp.local_agents.prediction.arima_forecaster import ARIMAForecaster\n",
    "\n",
    "CONFIG_PATH = 'examples/forecasting_and_warning.json'\n",
    "\n",
    "with open(CONFIG_PATH, 'r') as f:\n",
    "    config = json.load(f)\n",
    "\n",
    "print(\"配置加载成功！\")\n",
    "\n",
    "# 设置 Matplotlib 样式\n",
    "plt.style.use('seaborn-v0_8-whitegrid')\n",
    "plt.rcParams['font.sans-serif'] = ['SimHei']\n",
    "plt.rcParams['axes.unicode_minus'] = False"
   ]
  },
  {
   "cell_type": "markdown",
   "metadata": {},
   "source": [
    "### 2. 设置消息总线和预警监听器\n",
    "\n",
    "为了验证预警功能，我们设置一个简单的监听器函数，它会打印出接收到的任何预警消息。"
   ]
  },
  {
   "cell_type": "code",
   "execution_count": null,
   "metadata": {},
   "outputs": [],
   "source": [
    "bus = MessageBus()\n",
    "warning_topic = config['messaging']['warning_topic']\n",
    "received_warnings = []\n",
    "\n",
    "def warning_listener(message):\n",
    "    print(f\"\\n>>> 预警接收成功! 主题: '{message['topic']}', 内容: {message['details']} <<<\")\n",
    "    received_warnings.append(message)\n",
    "\n",
    "bus.subscribe(warning_topic, warning_listener)\n",
    "print(f\"已在主题 '{warning_topic}' 上设置预警监听器。\")"
   ]
  },
  {
   "cell_type": "markdown",
   "metadata": {},
   "source": [
    "### 3. 生成数据并运行预测"
   ]
  },
  {
   "cell_type": "code",
   "execution_count": null,
   "metadata": {},
   "outputs": [],
   "source": [
    "def run_forecasting_example(cfg, message_bus):\n",
    "    # 1. 创建预测智能体\n",
    "    agent_cfg = cfg['agent_config']\n",
    "    # 在此简化场景中，我们不使用真实的消息主题进行观测\n",
    "    full_agent_cfg = {\n",
    "        \"observation_topic\": \"data/inflow\", \n",
    "        \"observation_key\": \"value\",\n",
    "        \"forecast_topic\": \"forecast/inflow\",\n",
    "        **agent_cfg\n",
    "    }\n",
    "    agent = ARIMAForecaster(agent_id=\"InflowForecaster\", message_bus=message_bus, config=full_agent_cfg)\n",
    "\n",
    "    # 2. 生成历史数据\n",
    "    data_cfg = cfg['data_generation']\n",
    "    print(\"\\n正在生成带有上升趋势的历史数据...\")\n",
    "    time_steps = np.arange(data_cfg['num_points'])\n",
    "    history_data = pd.Series(\n",
    "        np.sin(time_steps * data_cfg['sin_wave_multiplier']) * 10 + \n",
    "        (time_steps * data_cfg['trend_multiplier']) + \n",
    "        data_cfg['base_value']\n",
    "    )\n",
    "    agent.history.extend(history_data.tolist())\n",
    "\n",
    "    # 3. 执行预测\n",
    "    print(f\"智能体已加载 {len(agent.history)} 个历史数据点，开始执行预测...\")\n",
    "    forecast = agent._fit_and_forecast() # 直接调用内部方法以简化示例\n",
    "\n",
    "    if forecast:\n",
    "        print(f\"\\n预测出未来 {len(forecast)} 个步长的值为: \")\n",
    "        print([round(v, 2) for v in forecast])\n",
    "\n",
    "        # 4. 检查是否需要发布预警\n",
    "        warning_threshold = cfg['warning_threshold']\n",
    "        print(f\"\\n正在检查预测值是否超过预警阈值 {warning_threshold}...\")\n",
    "\n",
    "        max_forecast_value = max(forecast)\n",
    "        if max_forecast_value > warning_threshold:\n",
    "            print(f\"条件满足: 最大预测值 ({max_forecast_value:.2f}) > {warning_threshold}\")\n",
    "            warning_message = {\n",
    "                \"topic\": message_bus.get_subscribed_topics()[0], # 获取监听器订阅的主题\n",
    "                \"details\": f\"预测到高流量. 最大预测值: {max_forecast_value:.2f} m^3/s.\"\n",
    "            }\n",
    "            message_bus.publish(warning_message['topic'], warning_message)\n",
    "        else:\n",
    "            print(\"条件未满足，未发布预警。\")\n",
    "    else:\n",
    "        print(\"\\n无法生成预测。\")\n",
    "        \n",
    "    return history_data, forecast\n",
    "\n",
    "history, forecast_values = run_forecasting_example(config, bus)"
   ]
  },
  {
   "cell_type": "markdown",
   "metadata": {},
   "source": [
    "### 4. 可视化历史数据与预测结果"
   ]
  },
  {
   "cell_type": "code",
   "execution_count": null,
   "metadata": {},
   "outputs": [],
   "source": [
    "plt.figure(figsize=(15, 7))\n",
    "plt.plot(history.index, history, label='历史数据')\n",
    "forecast_index = range(len(history), len(history) + len(forecast_values))\n",
    "plt.plot(forecast_index, forecast_values, 'r--', label='预测值', marker='o')\n",
    "plt.axhline(y=config['warning_threshold'], color='k', linestyle=':', label=f\"预警阈值 ({config['warning_threshold']})\")\n",
    "\n",
    "plt.title('历史数据与ARIMA预测')\n",
    "plt.xlabel('时间步')\n",
    "plt.ylabel('数值')\n",
    "plt.legend()\n",
    "plt.grid(True)\n",
    "plt.show()"
   ]
  }
 ],
 "metadata": {
  "kernelspec": {
   "display_name": "Python 3",
   "language": "python",
   "name": "python3"
  },
  "language_info": {
   "name": "python",
   "version": "3.12.1"
  }
 },
 "nbformat": 4,
 "nbformat_minor": 2
}
