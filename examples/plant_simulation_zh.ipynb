{
 "cells": [
  {
   "cell_type": "markdown",
   "metadata": {},
   "source": [
    "# 案例: 高保真设备仿真 (数据生成)\n",
    "\n",
    "本脚本使用高保真的`NetworkSolver`来模拟一个渠道系统，扮演“真实世界”或“数字孪生体”的角色。它的主要目的是基于执行器的输入（如水闸开度变化）来生成传感器数据。\n",
    "\n",
    "生成的数据将被保存到CSV文件中，以供后续的系统辨识等任务使用。\n",
    "\n",
    "### 系统拓扑:\n",
    "- 一个使用圣维南方程（St. Venant equations）建模的主要渠道。\n",
    "- 在渠道末端有一个可控水闸。\n",
    "- 一个上游边界条件，提供恒定的入流。\n",
    "- 一个下游边界条件，代表固定的水位。"
   ]
  },
  {
   "cell_type": "markdown",
   "metadata": {},
   "source": [
    "### 1. 导入库并加载配置"
   ]
  },
  {
   "cell_type": "code",
   "execution_count": null,
   "metadata": {},
   "outputs": [],
   "source": [
    "import json\n",
    "import numpy as np\n",
    "import pandas as pd\n",
    "import matplotlib.pyplot as plt\n",
    "\n",
    "from swp.simulation_identification.physical_objects.st_venant_reach import StVenantReach\n",
    "from swp.simulation_identification.hydro_nodes.gate_node import GateNode\n",
    "from swp.core_engine.solver.network_solver import NetworkSolver\n",
    "\n",
    "CONFIG_PATH = 'examples/plant_simulation.json'\n",
    "with open(CONFIG_PATH, 'r') as f:\n",
    "    config = json.load(f)\n",
    "\n",
    "print(\"配置加载成功！\")\n",
    "\n",
    "plt.style.use('seaborn-v0_8-whitegrid')\n",
    "plt.rcParams['font.sans-serif'] = ['SimHei']\n",
    "plt.rcParams['axes.unicode_minus'] = False"
   ]
  },
  {
   "cell_type": "markdown",
   "metadata": {},
   "source": [
    "### 2. 定义系统搭建和运行函数"
   ]
  },
  {
   "cell_type": "code",
   "execution_count": null,
   "metadata": {},
   "outputs": [],
   "source": [
    "def setup_plant(cfg):\n",
    "    \"\"\"根据配置搭建高保真物理网络。\"\"\"\n",
    "    print(\"\\n--- 搭建高保真物理网络 ---\")\n",
    "    sim_cfg = cfg['simulation']\n",
    "    ic_cfg = cfg['initial_conditions']\n",
    "    comp_cfgs = cfg['components']\n",
    "\n",
    "    # 上游主渠道\n",
    "    ur_cfg = comp_cfgs['upstream_reach']\n",
    "    upstream_reach = StVenantReach(\n",
    "        name=\"upstream_reach\",\n",
    "        initial_H=np.full(ur_cfg['num_points'], ic_cfg['depth']),\n",
    "        initial_Q=np.full(ur_cfg['num_points'], ic_cfg['flow']),\n",
    "        **ur_cfg\n",
    "    )\n",
    "\n",
    "    # 下游虚拟渠道\n",
    "    dr_cfg = comp_cfgs['downstream_reach']\n",
    "    downstream_reach = StVenantReach(\n",
    "        name=\"downstream_reach\",\n",
    "        initial_H=np.full(dr_cfg['num_points'], ic_cfg['depth'] + dr_cfg['initial_depth_offset']),\n",
    "        initial_Q=np.full(dr_cfg['num_points'], ic_cfg['flow']),\n",
    "        **dr_cfg\n",
    "    )\n",
    "\n",
    "    # 控制闸门节点\n",
    "    gate_cfg = comp_cfgs['control_gate']\n",
    "    control_gate = GateNode(name=\"control_gate\", **gate_cfg)\n",
    "    control_gate.set_opening(gate_cfg['initial_opening'])\n",
    "\n",
    "    # 创建并配置求解器\n",
    "    solver = NetworkSolver(dt=sim_cfg['dt'], theta=sim_cfg['theta'])\n",
    "    solver.add_component(upstream_reach)\n",
    "    solver.add_component(downstream_reach)\n",
    "    solver.add_component(control_gate)\n",
    "    control_gate.link_to_reaches(up_obj=upstream_reach, down_obj=downstream_reach)\n",
    "    control_gate.upstream_idx = -1\n",
    "    control_gate.downstream_idx = 0\n",
    "\n",
    "    # 设置边界条件\n",
    "    solver.add_boundary_condition(upstream_reach, 'Q', 0, lambda t: ic_cfg['flow'])\n",
    "    solver.add_boundary_condition(downstream_reach, 'H', -1, lambda t: ic_cfg['depth'] + dr_cfg['initial_depth_offset'])\n",
    "    \n",
    "    print(\"物理网络搭建成功。\")\n",
    "    return solver, upstream_reach, downstream_reach, control_gate\n",
    "\n",
    "def execute_and_log(solver, up_reach, down_reach, gate, cfg):\n",
    "    \"\"\"运行仿真并记录数据。\"\"\"\n",
    "    sim_cfg = cfg['simulation']\n",
    "    num_steps = sim_cfg['num_steps']\n",
    "    events = {event['time_step']: event for event in cfg['control_events']}\n",
    "    data_log = []\n",
    "\n",
    "    print(\"\\n--- 开始仿真和数据记录 ---\")\n",
    "    for i in range(num_steps):\n",
    "        current_time = i * sim_cfg['dt']\n",
    "        if i in events:\n",
    "            event = events[i]\n",
    "            print(f\"\\n!!! 时间 {current_time}s: 对水闸施加阶跃输入。 !!!\\n\")\n",
    "            if event['action'] == 'set_opening':\n",
    "                gate.set_opening(event['value'])\n",
    "        \n",
    "        log_entry = {\n",
    "            \"timestamp\": current_time,\n",
    "            \"gate_opening\": gate.opening,\n",
    "            \"upstream_water_level\": up_reach.H[-1],\n",
    "            \"downstream_water_level\": down_reach.H[0]\n",
    "        }\n",
    "        data_log.append(log_entry)\n",
    "        solver.step(current_time)\n",
    "        if i % 10 == 0:\n",
    "            print(f\"  步 {i}/{num_steps}: 闸门开度={gate.opening:.2f}, 上游水位={up_reach.H[-1]:.3f}m, 下游水位={down_reach.H[0]:.3f}m\")\n",
    "    \n",
    "    print(\"\\n--- 仿真结束 ---\")\n",
    "    return pd.DataFrame(data_log)"
   ]
  },
  {
   "cell_type": "markdown",
   "metadata": {},
   "source": [
    "### 3. 运行仿真并保存数据"
   ]
  },
  {
   "cell_type": "code",
   "execution_count": null,
   "metadata": {},
   "outputs": [],
   "source": [
    "solver, up_reach, down_reach, gate = setup_plant(config)\n",
    "results_df = execute_and_log(solver, up_reach, down_reach, gate, config)\n",
    "\n",
    "output_filename = config['simulation']['output_filename']\n",
    "results_df.to_csv(output_filename, index=False)\n",
    "print(f\"\\n--- 设备仿真数据已保存至 {output_filename} ---\")\n",
    "print(\"数据预览:\")\n",
    "print(results_df.head())"
   ]
  },
  {
   "cell_type": "markdown",
   "metadata": {},
   "source": [
    "### 4. 可视化生成的传感器数据"
   ]
  },
  {
   "cell_type": "code",
   "execution_count": null,
   "metadata": {},
   "outputs": [],
   "source": [
    "fig, ax1 = plt.subplots(figsize=(15, 7))\n",
    "fig.suptitle('生成的设备传感器数据', fontsize=16)\n",
    "\n",
    "ax1.plot(results_df['timestamp'], results_df['upstream_water_level'], 'b-', label='上游水位 (传感器1)')\n",
    "ax1.plot(results_df['timestamp'], results_df['downstream_water_level'], 'c-', label='下游水位 (传感器2)')\n",
    "ax1.set_xlabel('时间 (s)')\n",
    "ax1.set_ylabel('水位 (m)', color='b')\n",
    "ax1.tick_params(axis='y', labelcolor='b')\n",
    "ax1.grid(True)\n",
    "\n",
    "ax2 = ax1.twinx()\n",
    "ax2.plot(results_df['timestamp'], results_df['gate_opening'], 'r--', label='水闸开度 (执行器)')\n",
    "ax2.set_ylabel('开度', color='r')\n",
    "ax2.tick_params(axis='y', labelcolor='r')\n",
    "\n",
    "lines, labels = ax1.get_legend_handles_labels()\n",
    "lines2, labels2 = ax2.get_legend_handles_labels()\n",
    "ax2.legend(lines + lines2, labels + labels2, loc='upper right')\n",
    "\n",
    "plt.show()"
   ]
  }
 ],
 "metadata": {
  "kernelspec": {
   "display_name": "Python 3",
   "language": "python",
   "name": "python3"
  },
  "language_info": {
   "name": "python",
   "version": "3.12.1"
  }
 },
 "nbformat": 4,
 "nbformat_minor": 2
}
