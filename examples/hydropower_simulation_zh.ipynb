{
 "cells": [
  {
   "cell_type": "markdown",
   "metadata": {},
   "source": [
    "# 案例: 水力发电仿真\n",
    "\n",
    "本案例演示了一个基础的水力发电场景。系统拓扑如下：\n",
    "\n",
    "`上游湖泊 (Lake) -> 水轮机 (WaterTurbine) -> 下游渠道 (Canal)`\n",
    "\n",
    "我们将使用`SimulationHarness`来搭建和运行这个仿真，所有组件和设置均由一个JSON配置文件定义。"
   ]
  },
  {
   "cell_type": "markdown",
   "metadata": {},
   "source": [
    "### 1. 导入库并加载配置"
   ]
  },
  {
   "cell_type": "code",
   "execution_count": null,
   "metadata": {},
   "outputs": [],
   "source": [
    "import json\n",
    "import os\n",
    "import pandas as pd\n",
    "import matplotlib.pyplot as plt\n",
    "\n",
    "from swp.simulation_identification.physical_objects.lake import Lake\n",
    "from swp.simulation_identification.physical_objects.water_turbine import WaterTurbine\n",
    "from swp.simulation_identification.physical_objects.canal import Canal\n",
    "from swp.core_engine.testing.simulation_harness import SimulationHarness\n",
    "\n",
    "CONFIG_PATH = 'examples/hydropower_simulation.json'\n",
    "with open(CONFIG_PATH, 'r') as f:\n",
    "    config = json.load(f)\n",
    "\n",
    "print(\"配置加载成功！\")\n",
    "\n",
    "plt.style.use('seaborn-v0_8-whitegrid')\n",
    "plt.rcParams['font.sans-serif'] = ['SimHei']\n",
    "plt.rcParams['axes.unicode_minus'] = False"
   ]
  },
  {
   "cell_type": "markdown",
   "metadata": {},
   "source": [
    "### 2. 定义并运行仿真"
   ]
  },
  {
   "cell_type": "code",
   "execution_count": null,
   "metadata": {},
   "outputs": [],
   "source": [
    "def run_hydropower_simulation(cfg):\n",
    "    \"\"\"根据配置搭建并运行水电仿真。\"\"\"\n",
    "    print(f\"--- 开始从配置文件加载仿真: {CONFIG_PATH} ---\")\n",
    "    \n",
    "    COMPONENT_CLASS_MAP = {\n",
    "        \"Lake\": Lake,\n",
    "        \"WaterTurbine\": WaterTurbine,\n",
    "        \"Canal\": Canal,\n",
    "    }\n",
    "\n",
    "    # 1. 设置仿真平台\n",
    "    harness = SimulationHarness(config=cfg['simulation_settings'])\n",
    "\n",
    "    # 2. 动态实例化并添加组件\n",
    "    print(\"\\n--- 正在实例化组件 ---\")\n",
    "    for comp_conf in cfg['components']:\n",
    "        comp_id, comp_type = comp_conf['id'], comp_conf['type']\n",
    "        CompClass = COMPONENT_CLASS_MAP[comp_type]\n",
    "        instance = CompClass(name=comp_id, initial_state=comp_conf.get('initial_state', {}), parameters=comp_conf.get('params', {}))\n",
    "        \n",
    "        # 假设水轮机总是以最大容量运行以简化示例\n",
    "        if comp_type == \"WaterTurbine\":\n",
    "            instance.target_outflow = instance.max_flow_rate\n",
    "            \n",
    "        harness.add_component(instance)\n",
    "        print(f\"  - 已创建 {comp_type}: {comp_id}\")\n",
    "\n",
    "    # 3. 添加连接\n",
    "    print(\"\\n--- 正在连接组件 ---\")\n",
    "    for conn in cfg['connections']:\n",
    "        harness.add_connection(conn['from'], conn['to'])\n",
    "    print(\"  - 连接已建立。\")\n",
    "    \n",
    "    # 4. 构建并运行仿真\n",
    "    harness.build()\n",
    "    harness.run_simulation()\n",
    "\n",
    "    # 5. 保存结果到JSON文件\n",
    "    output_path = os.path.join(os.path.dirname(CONFIG_PATH), \"hydropower_output.json\")\n",
    "    with open(output_path, 'w') as f:\n",
    "        json.dump(harness.history, f, indent=4)\n",
    "    print(f\"\\n--- 结果已保存至 {output_path} ---\")\n",
    "    return harness.history\n",
    "\n",
    "history = run_hydropower_simulation(config)"
   ]
  },
  {
   "cell_type": "markdown",
   "metadata": {},
   "source": [
    "### 3. 可视化结果"
   ]
  },
  {
   "cell_type": "code",
   "execution_count": null,
   "metadata": {},
   "outputs": [],
   "source": [
    "def plot_hydropower_results(simulation_history):\n",
    "    if not simulation_history:\n",
    "        print(\"没有历史数据可供绘制。\")\n",
    "        return\n",
    "\n",
    "    # 将历史记录转换为Pandas DataFrame\n",
    "    df = pd.DataFrame()\n",
    "    for step in simulation_history:\n",
    "        time = step['time']\n",
    "        row = {'time': time}\n",
    "        for comp, states in step.items():\n",
    "            if comp == 'time': continue\n",
    "            for state, value in states.items():\n",
    "                row[f\"{comp}.{state}\"] = value\n",
    "        df = pd.concat([df, pd.DataFrame([row])], ignore_index=True)\n",
    "    df = df.set_index('time')\n",
    "\n",
    "    fig, axes = plt.subplots(2, 1, figsize=(15, 10), sharex=True)\n",
    "    fig.suptitle('水电仿真结果', fontsize=16)\n",
    "\n",
    "    # 绘制湖泊水位\n",
    "    axes[0].plot(df.index, df['lake.water_level'], label='湖泊水位 (m)')\n",
    "    axes[0].set_title('上游湖泊水位变化')\n",
    "    axes[0].set_ylabel('水位 (m)')\n",
    "    axes[0].grid(True)\n",
    "    axes[0].legend()\n",
    "\n",
    "    # 绘制水轮机流量\n",
    "    axes[1].plot(df.index, df['turbine.outflow'], label='水轮机流量 (m³/s)', color='green')\n",
    "    axes[1].set_title('水轮机发电流量')\n",
    "    axes[1].set_ylabel('流量 (m³/s)')\n",
    "    axes[1].set_xlabel('时间 (s)')\n",
    "    axes[1].grid(True)\n",
    "    axes[1].legend()\n",
    "\n",
    "    plt.tight_layout(rect=[0, 0.03, 1, 0.95])\n",
    "    plt.show()\n",
    "\n",
    "plot_hydropower_results(history)"
   ]
  }
 ],
 "metadata": {
  "kernelspec": {
   "display_name": "Python 3",
   "language": "python",
   "name": "python3"
  },
  "language_info": {
   "name": "python",
   "version": "3.12.1"
  }
 },
 "nbformat": 4,
 "nbformat_minor": 2
}
