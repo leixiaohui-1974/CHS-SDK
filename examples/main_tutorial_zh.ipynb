{
 "cells": [
  {
   "cell_type": "markdown",
   "metadata": {},
   "source": [
    "# 主教程：使用配置文件运行仿真\n",
    "\n",
    "本教程展示了如何使用新的配置驱动框架来运行一个完整的仿真，并对结果进行可视化。\n",
    "\n",
    "这个工作流程的核心思想是**关注点分离**：\n",
    "1.  **系统定义 (`_sim.json`)**: 定义了系统的物理组件、拓扑结构和控制策略。\n",
    "2.  **场景定义 (`_disturbances.json`)**: 定义了系统在该次仿真中经历的外部事件和扰动。\n",
    "3.  **可视化配置 (`_plots.json`)**: 定义了我们关心的结果以及如何展示它们。\n",
    "\n",
    "我们通过通用的运行器脚本来执行这些配置，而不是在Notebook中编写大量的设置代码。"
   ]
  },
  {
   "cell_type": "markdown",
   "metadata": {},
   "source": [
    "## 步骤 1: 运行分层控制仿真\n",
    "\n",
    "下面的命令将执行“分层控制”示例。它会读取 `mission_2_2_sim.json` 文件，加载其中定义的系统和链接的扰动文件，然后运行仿真。\n",
    "\n",
    "运行结束后，所有的输出（包括时间序列数据 `history.csv` 和绘图配置 `plots.json`）将被保存在 `output/mission_2_2/` 目录下。"
   ]
  },
  {
   "cell_type": "code",
   "execution_count": null,
   "metadata": {},
   "outputs": [],
   "source": [
    "!python3 run_simulation.py mission_2_2_sim.json"
   ]
  },
  {
   "cell_type": "markdown",
   "metadata": {},
   "source": [
    "## 步骤 2: 生成并显示可视化结果\n",
    "\n",
    "现在，我们调用通用的可视化脚本，并将其指向刚刚生成结果的输出目录。\n",
    "\n",
    "该脚本会读取 `history.csv` 和 `plots.json`，并生成一个标准化的图表 `results.png`。"
   ]
  },
  {
   "cell_type": "code",
   "execution_count": null,
   "metadata": {},
   "outputs": [],
   "source": [
    "!python3 visualize_results.py ../output/mission_2_2/"
   ]
  },
  {
   "cell_type": "markdown",
   "metadata": {},
   "source": [
    "## 步骤 3: 在Notebook中进行分析\n",
    "\n",
    "虽然标准化的图表对于快速概览非常有用，但我们也可以直接在Notebook中加载数据，进行更深入、更具交互性的分析。"
   ]
  },
  {
   "cell_type": "code",
   "execution_count": null,
   "metadata": {},
   "outputs": [],
   "source": [
    "import pandas as pd\n",
    "import matplotlib.pyplot as plt\n",
    "\n",
    "# 加载仿真历史数据\n",
    "history_df = pd.read_csv('../output/mission_2_2/history.csv')\n",
    "\n",
    "# 创建一个简单的自定义图表\n",
    "plt.figure(figsize=(12, 6))\n",
    "plt.plot(history_df['time'] / 3600, history_df['upstream_canal_water_level'], label='上游水位 (m)')\n",
    "plt.axhline(y=6.5, color='r', linestyle='--', label='洪水阈值 (6.5m)')\n",
    "plt.title('上游水位过程线')\n",
    "plt.xlabel('时间 (小时)')\n",
    "plt.ylabel('水位 (m)')\n",
    "plt.legend()\n",
    "plt.grid(True)\n",
    "plt.show()"
   ]
  }
 ],
 "metadata": {
  "kernelspec": {
   "display_name": "Python 3",
   "language": "python",
   "name": "python3"
  },
  "language_info": {
   "name": "python",
   "version": "3.12.11"
  }
 },
 "nbformat": 4,
 "nbformat_minor": 4
}
