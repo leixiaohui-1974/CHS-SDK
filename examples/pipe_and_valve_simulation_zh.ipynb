{
 "cells": [
  {
   "cell_type": "markdown",
   "metadata": {},
   "source": [
    "# 案例 1.1: 承压管道与阀门仿真\n",
    "\n",
    "本案例旨在演示承压管道和阀门的物理动态。我们将仿真在一个简单的重力供水系统中，随着阀门开度的不同，流量和水头损失是如何变化的。"
   ]
  },
  {
   "cell_type": "markdown",
   "metadata": {},
   "source": [
    "### 1. 导入库并加载配置"
   ]
  },
  {
   "cell_type": "code",
   "execution_count": null,
   "metadata": {},
   "outputs": [],
   "source": [
    "import json\n",
    "from swp.simulation_identification.physical_objects.pipe import Pipe\n",
    "from swp.simulation_identification.physical_objects.valve import Valve\n",
    "\n",
    "CONFIG_PATH = 'examples/pipe_and_valve_simulation.json'\n",
    "\n",
    "with open(CONFIG_PATH, 'r') as f:\n",
    "    config = json.load(f)\n",
    "\n",
    "print(\"配置加载成功！\")"
   ]
  },
  {
   "cell_type": "markdown",
   "metadata": {},
   "source": [
    "### 2. 定义仿真函数\n",
    "\n",
    "此函数将根据配置初始化组件，并模拟不同阀门开度下的系统稳态。"
   ]
  },
  {
   "cell_type": "code",
   "execution_count": null,
   "metadata": {},
   "outputs": [],
   "source": [
    "def run_pipe_valve_simulation(cfg):\n",
    "    # 1. 根据配置初始化组件\n",
    "    pipe = Pipe(name=\"main_pipe\", initial_state={}, parameters=cfg['pipe_params'])\n",
    "    valve = Valve(name=\"control_valve\", initial_state={'opening': 100.0}, parameters=cfg['valve_params'])\n",
    "\n",
    "    # 2. 定义系统边界条件\n",
    "    bc = cfg['boundary_conditions']\n",
    "    upstream_head = bc['upstream_head']\n",
    "    downstream_head_final = bc['downstream_head']\n",
    "    total_head_diff = upstream_head - downstream_head_final\n",
    "\n",
    "    print(\"系统边界条件:\")\n",
    "    print(f\"  - 上游水头: {upstream_head:.2f} m\")\n",
    "    print(f\"  - 下游水头: {downstream_head_final:.2f} m\")\n",
    "    print(f\"  - 总可用水头: {total_head_diff:.2f} m\\n\")\n",
    "\n",
    "    # 3. 模拟不同阀门开度的场景\n",
    "    openings = cfg['simulation_scenarios']['valve_openings']\n",
    "    solver_iterations = cfg['solver_settings']['iterations']\n",
    "    \n",
    "    for opening in openings:\n",
    "        # 为当前场景设定阀门开度\n",
    "        valve.step({'control_signal': opening}, dt=1)\n",
    "\n",
    "        # 4. 使用二分法寻找平衡流量和中间水头\n",
    "        # 这是手动寻找管流=阀流（Q_pipe = Q_valve）平衡点的方法\n",
    "        low_h_guess = downstream_head_final\n",
    "        high_h_guess = upstream_head\n",
    "        intermediate_head = (low_h_guess + high_h_guess) / 2\n",
    "\n",
    "        for _ in range(solver_iterations):\n",
    "            pipe_action = {'upstream_head': upstream_head, 'downstream_head': intermediate_head}\n",
    "            pipe.step(pipe_action, dt=1)\n",
    "            q_pipe = pipe.get_state()['outflow']\n",
    "\n",
    "            valve_action = {'upstream_head': intermediate_head, 'downstream_head': downstream_head_final}\n",
    "            valve.step(valve_action, dt=1)\n",
    "            q_valve = valve.get_state()['outflow']\n",
    "\n",
    "            if q_pipe > q_valve:\n",
    "                low_h_guess = intermediate_head\n",
    "            else:\n",
    "                high_h_guess = intermediate_head\n",
    "            intermediate_head = (low_h_guess + high_h_guess) / 2\n",
    "\n",
    "        # 5. 获取收敛后的最终稳态结果\n",
    "        final_q = pipe.get_state()['outflow']\n",
    "        pipe_head_loss = upstream_head - intermediate_head\n",
    "        valve_head_loss = intermediate_head - downstream_head_final\n",
    "\n",
    "        print(f\"--- 阀门开度: {opening}% ---\")\n",
    "        print(f\"  平衡流量: {final_q:.4f} m^3/s\")\n",
    "        print(f\"  中间水头 (管道与阀门之间): {intermediate_head:.2f} m\")\n",
    "        print(f\"  管道水头损失 (摩擦): {pipe_head_loss:.2f} m\")\n",
    "        print(f\"  阀门水头损失 (节流): {valve_head_loss:.2f} m\")\n",
    "        print(f\"  总计算水头损失: {pipe_head_loss + valve_head_loss:.2f} m (应与总可用水头相等)\")\n",
    "        print(\"-\" * 25)"
   ]
  },
  {
   "cell_type": "markdown",
   "metadata": {},
   "source": [
    "### 3. 运行仿真"
   ]
  },
  {
   "cell_type": "code",
   "execution_count": null,
   "metadata": {},
   "outputs": [],
   "source": [
    "run_pipe_valve_simulation(config)"
   ]
  }
 ],
 "metadata": {
  "kernelspec": {
   "display_name": "Python 3",
   "language": "python",
   "name": "python3"
  },
  "language_info": {
   "name": "python",
   "version": "3.12.1"
  }
 },
 "nbformat": 4,
 "nbformat_minor": 2
}
