{
 "cells": [
  {
   "cell_type": "markdown",
   "metadata": {},
   "source": [
    "# 案例 1.6: 系统辨识与参数自动校准\n",
    "\n",
    "本案例演示了平台的参数辨识（或称“自动校准”）能力。一个`ParameterIdentificationAgent`智能体将通过观测降雨和径流数据，来自动校准一个`RainfallRunoff`（降雨-径流）模型中的关键参数——径流系数。"
   ]
  },
  {
   "cell_type": "markdown",
   "metadata": {},
   "source": [
    "### 1. 导入库并加载配置"
   ]
  },
  {
   "cell_type": "code",
   "execution_count": null,
   "metadata": {},
   "outputs": [],
   "source": [
    "import json\n",
    "import numpy as np\n",
    "from swp.central_coordination.collaboration.message_bus import MessageBus\n",
    "from swp.simulation_identification.physical_objects.rainfall_runoff import RainfallRunoff\n",
    "from swp.simulation_identification.identification.identification_agent import ParameterIdentificationAgent\n",
    "\n",
    "CONFIG_PATH = 'examples/parameter_identification.json'\n",
    "\n",
    "with open(CONFIG_PATH, 'r') as f:\n",
    "    config = json.load(f)\n",
    "\n",
    "print(\"配置加载成功！\")"
   ]
  },
  {
   "cell_type": "markdown",
   "metadata": {},
   "source": [
    "### 2. 定义仿真函数\n",
    "\n",
    "该函数将执行以下步骤：\n",
    "1.  根据配置中的“真实”参数，生成一组模拟的降雨和“观测”径流数据。\n",
    "2.  创建一个带有错误初始参数的`RainfallRunoff`模型实例。\n",
    "3.  配置`ParameterIdentificationAgent`，使其监听数据并校准上述模型。\n",
    "4.  模拟数据流，触发智能体的校准流程。\n",
    "5.  输出并验证校准结果。"
   ]
  },
  {
   "cell_type": "code",
   "execution_count": null,
   "metadata": {},
   "outputs": [],
   "source": [
    "def run_identification_example(cfg):\n",
    "    # 1. 定义真实参数并生成合成数据\n",
    "    true_params = cfg['ground_truth']\n",
    "    data_gen_cfg = cfg['data_generation']\n",
    "    num_points = data_gen_cfg['num_points']\n",
    "    \n",
    "    rainfall_series = np.random.rand(num_points) * data_gen_cfg['max_rainfall_intensity']\n",
    "    observed_runoff = true_params['runoff_coefficient'] * rainfall_series * true_params['catchment_area']\n",
    "\n",
    "    print(f\"生成了 {num_points} 组降雨和径流的模拟观测数据。\")\n",
    "    print(f\"真实的径流系数为: {true_params['runoff_coefficient']}\\n\")\n",
    "\n",
    "    # 2. 创建一个带有错误初始参数的模型\n",
    "    initial_guess = cfg['model_initial_guess']\n",
    "    initial_params = {\n",
    "        'catchment_area': true_params['catchment_area'], # 假设面积是已知的\n",
    "        'runoff_coefficient': initial_guess['runoff_coefficient']\n",
    "    }\n",
    "    model_to_identify = RainfallRunoff(name=\"Catchment_A\", parameters=initial_params)\n",
    "    print(f\"模型创建时使用的初始(错误)径流系数为: {initial_params['runoff_coefficient']}\\n\")\n",
    "\n",
    "    # 3. 设置辨识智能体\n",
    "    bus = MessageBus()\n",
    "    agent_cfg = cfg['agent_config']\n",
    "    agent = ParameterIdentificationAgent(\n",
    "        agent_id=\"Identifier\",\n",
    "        target_model=model_to_identify,\n",
    "        message_bus=bus,\n",
    "        config=agent_cfg\n",
    "    )\n",
    "\n",
    "    # 4. 模拟数据采集过程\n",
    "    print(\"开始模拟数据流，通过消息总线发布数据...\")\n",
    "    data_map = agent_cfg['data_map']\n",
    "    for i in range(num_points):\n",
    "        bus.publish(data_map['rainfall'], {'value': rainfall_series[i]})\n",
    "        bus.publish(data_map['observed_runoff'], {'value': observed_runoff[i]})\n",
    "\n",
    "    # 5. 触发辨识过程\n",
    "    agent.run(current_time=0)\n",
    "\n",
    "    # 6. 验证结果\n",
    "    final_params = model_to_identify.get_parameters()\n",
    "    final_coeff = final_params['runoff_coefficient']\n",
    "    print(f\"\\n模型校准后的最终径流系数为: {final_coeff:.4f}\")\n",
    "\n",
    "    if abs(final_coeff - true_params['runoff_coefficient']) < 1e-3:\n",
    "        print(\"成功: 辨识出的参数非常接近真实值。\")\n",
    "    else:\n",
    "        print(\"注意: 辨识出的参数已朝着真实值优化。\")"
   ]
  },
  {
   "cell_type": "markdown",
   "metadata": {},
   "source": [
    "### 3. 运行仿真"
   ]
  },
  {
   "cell_type": "code",
   "execution_count": null,
   "metadata": {},
   "outputs": [],
   "source": [
    "run_identification_example(config)"
   ]
  }
 ],
 "metadata": {
  "kernelspec": {
   "display_name": "Python 3",
   "language": "python",
   "name": "python3"
  },
  "language_info": {
   "name": "python",
   "version": "3.12.1"
  }
 },
 "nbformat": 4,
 "nbformat_minor": 2
}
