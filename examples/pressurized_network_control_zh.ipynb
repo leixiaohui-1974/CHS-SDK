{
 "cells": [
  {
   "cell_type": "markdown",
   "metadata": {},
   "source": [
    "# 案例 2.1: 承压输水管网闭环控制\n",
    "\n",
    "本案例演示了一个承压管网的闭环控制系统。一个智能体 (`PressureControlAgent`) 负责监控管道末端的压力，并通过控制上游的一个泵站来将压力维持在目标区间内。同时，一个下游的阀门会模拟不断变化的用户用水需求。"
   ]
  },
  {
   "cell_type": "markdown",
   "metadata": {},
   "source": [
    "### 1. 导入库并加载配置"
   ]
  },
  {
   "cell_type": "code",
   "execution_count": null,
   "metadata": {},
   "outputs": [],
   "source": [
    "import json\n",
    "import pandas as pd\n",
    "import matplotlib.pyplot as plt\n",
    "\n",
    "# 导入平台组件\n",
    "from swp.central_coordination.collaboration.message_bus import MessageBus\n",
    "from swp.simulation_identification.physical_objects.reservoir import Reservoir\n",
    "from swp.simulation_identification.physical_objects.pipe import Pipe\n",
    "from swp.simulation_identification.physical_objects.valve import Valve\n",
    "from swp.simulation_identification.physical_objects.pump import Pump, PumpStation\n",
    "from swp.local_agents.control.pressure_control_agent import PressureControlAgent\n",
    "\n",
    "CONFIG_PATH = 'examples/pressurized_network_control.json'\n",
    "with open(CONFIG_PATH, 'r') as f:\n",
    "    config = json.load(f)\n",
    "\n",
    "print(\"配置加载成功！\")\n",
    "\n",
    "# 设置 Matplotlib 样式\n",
    "plt.style.use('seaborn-v0_8-whitegrid')\n",
    "plt.rcParams['font.sans-serif'] = ['SimHei']\n",
    "plt.rcParams['axes.unicode_minus'] = False"
   ]
  },
  {
   "cell_type": "markdown",
   "metadata": {},
   "source": [
    "### 2. 定义仿真函数"
   ]
  },
  {
   "cell_type": "code",
   "execution_count": null,
   "metadata": {},
   "outputs": [],
   "source": [
    "def run_pressurized_control_simulation(cfg):\n",
    "    # 1. 初始化\n",
    "    bus = MessageBus()\n",
    "    sim_cfg = cfg['simulation']\n",
    "    dt = sim_cfg['dt']\n",
    "    comp_cfgs = cfg['components']\n",
    "    agent_cfg = cfg['agent_config']\n",
    "\n",
    "    # 2. 创建物理组件\n",
    "    res_cfg = comp_cfgs['upstream_reservoir']\n",
    "    upstream_reservoir = Reservoir(name=\"source_res\", initial_state={'water_level': res_cfg['initial_water_level']}, parameters={})\n",
    "\n",
    "    ps_cfg = comp_cfgs['pump_station']\n",
    "    pumps = [Pump(f\"p_{i}\", {'status': 0}, ps_cfg['pump_params'], bus, f\"{agent_cfg['control_topic_prefix']}.p_{i}\") for i in range(ps_cfg['num_pumps'])]\n",
    "    pump_station = PumpStation(name=\"main_ps\", initial_state={}, parameters={}, pumps=pumps)\n",
    "\n",
    "    pipe = Pipe(name=\"main_pipe\", initial_state={}, parameters=comp_cfgs['pipe'])\n",
    "\n",
    "    valve_cfg = comp_cfgs['demand_valve']\n",
    "    demand_valve = Valve(name=\"demand_valve\", initial_state={'opening': valve_cfg['initial_opening']}, parameters=valve_cfg)\n",
    "\n",
    "    # 3. 创建控制智能体\n",
    "    agent = PressureControlAgent(\n",
    "        agent_id=\"PressureRegulator\",\n",
    "        message_bus=bus,\n",
    "        pump_station=pump_station,\n",
    "        pressure_source_component=pipe,\n",
    "        control_topic_prefix=agent_cfg['control_topic_prefix'],\n",
    "        config={'min_pressure': agent_cfg['min_pressure'], 'max_pressure': agent_cfg['max_pressure']}\n",
    "    )\n",
    "\n",
    "    # 4. 仿真循环\n",
    "    print(\"\\n--- 开始仿真 ---\")\n",
    "    print(f\"控制目标: 维持压力在 {agent_cfg['min_pressure']}m 和 {agent_cfg['max_pressure']}m 之间。\\n\")\n",
    "    history = []\n",
    "    demand_events = {event['time_step']: event for event in cfg['demand_changes']}\n",
    "\n",
    "    for t in range(sim_cfg['num_steps']):\n",
    "        # 模拟需求变化\n",
    "        if t in demand_events:\n",
    "            opening = demand_events[t]['opening']\n",
    "            print(f\"\\n>>> 需求变化: 下游阀门开度变为 {opening}% <<<\")\n",
    "            demand_valve.step({'control_signal': opening}, dt)\n",
    "\n",
    "        # 智能体决策\n",
    "        agent.execute_control_logic()\n",
    "\n",
    "        # 系统物理状态更新（使用修正后的泵驱动系统逻辑）\n",
    "        num_active_pumps = agent.active_pumps\n",
    "        pump_head_gain = ps_cfg['pump_params']['max_head'] if num_active_pumps > 0 else 0\n",
    "        pipe_inlet_head = upstream_reservoir.get_state()['water_level'] + pump_head_gain\n",
    "        \n",
    "        # 泵决定的流量\n",
    "        pump_station_flow = num_active_pumps * ps_cfg['pump_params']['max_flow_rate']\n",
    "        pipe.set_inflow(pump_station_flow)\n",
    "        pipe.step({}, dt) # 计算该流量下的水头损失\n",
    "        pipe_head_loss = pipe.get_state()['head_loss']\n",
    "\n",
    "        # 管道末端压力 = 入口压力 - 损失\n",
    "        final_pipe_outlet_head = pipe_inlet_head - pipe_head_loss\n",
    "        pipe.set_state({'downstream_head': final_pipe_outlet_head})\n",
    "\n",
    "        # 记录日志\n",
    "        log_entry = {\n",
    "            \"time\": t * dt,\n",
    "            \"valve_opening\": demand_valve.get_state()['opening'],\n",
    "            \"active_pumps\": agent.active_pumps,\n",
    "            \"flow\": pump_station_flow,\n",
    "            \"pressure\": final_pipe_outlet_head\n",
    "        }\n",
    "        history.append(log_entry)\n",
    "        print(f\"时间: {log_entry['time']:3d}s | 运行水泵数: {log_entry['active_pumps']} | 流量: {log_entry['flow']:.2f} | 压力: {log_entry['pressure']:.2f}m\")\n",
    "        \n",
    "    return pd.DataFrame(history)"
   ]
  },
  {
   "cell_type": "markdown",
   "metadata": {},
   "source": [
    "### 3. 运行仿真并可视化结果"
   ]
  },
  {
   "cell_type": "code",
   "execution_count": null,
   "metadata": {},
   "outputs": [],
   "source": [
    "results_df = run_pressurized_control_simulation(config)\n",
    "\n",
    "fig, ax1 = plt.subplots(figsize=(15, 7))\n",
    "fig.suptitle('承压管网压力控制仿真结果', fontsize=16)\n",
    "\n",
    "ax2 = ax1.twinx() # 创建共享x轴的双y轴\n",
    "\n",
    "# 绘制压力曲线 (ax1)\n",
    "ax1.plot(results_df['time'], results_df['pressure'], 'b-', label='管道末端压力 (m)')\n",
    "ax1.axhline(y=config['agent_config']['min_pressure'], color='r', linestyle=':', label='最低压力阈值')\n",
    "ax1.axhline(y=config['agent_config']['max_pressure'], color='r', linestyle=':', label='最高压力阈值')\n",
    "ax1.set_xlabel('时间 (s)')\n",
    "ax1.set_ylabel('压力 (m)', color='b')\n",
    "ax1.tick_params(axis='y', labelcolor='b')\n",
    "ax1.grid(True)\n",
    "\n",
    "# 绘制运行水泵数量 (ax2)\n",
    "ax2.step(results_df['time'], results_df['active_pumps'], 'g-', where='post', label='运行水泵数量')\n",
    "ax2.set_ylabel('运行水泵数量', color='g')\n",
    "ax2.tick_params(axis='y', labelcolor='g')\n",
    "ax2.set_ylim(-0.5, config['components']['pump_station']['num_pumps'] + 0.5)\n",
    "\n",
    "# 合并图例\n",
    "lines, labels = ax1.get_legend_handles_labels()\n",
    "lines2, labels2 = ax2.get_legend_handles_labels()\n",
    "ax2.legend(lines + lines2, labels + labels2, loc='upper right')\n",
    "\n",
    "plt.show()"
   ]
  }
 ],
 "metadata": {
  "kernelspec": {
   "display_name": "Python 3",
   "language": "python",
   "name": "python3"
  },
  "language_info": {
   "name": "python",
   "version": "3.12.1"
  }
 },
 "nbformat": 4,
 "nbformat_minor": 2
}
