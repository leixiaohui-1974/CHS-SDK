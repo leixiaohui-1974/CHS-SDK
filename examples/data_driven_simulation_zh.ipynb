{
 "cells": [
  {
   "cell_type": "markdown",
   "metadata": {},
   "source": [
    "# 案例: 数据驱动的仿真\n",
    "\n",
    "本案例演示了如何使用外部数据（来自CSV文件）来驱动一个仿真。一个`CsvDataSourceAgent`智能体将负责读取CSV文件，并将数据发布到消息总线上，一个水库组件将订阅这些数据作为其入流。"
   ]
  },
  {
   "cell_type": "markdown",
   "metadata": {},
   "source": [
    "### 1. 导入库并加载配置"
   ]
  },
  {
   "cell_type": "code",
   "execution_count": null,
   "metadata": {},
   "outputs": [],
   "source": [
    "import json\n",
    "import pandas as pd\n",
    "import matplotlib.pyplot as plt\n",
    "\n",
    "from swp.core_engine.testing.simulation_harness import SimulationHarness\n",
    "from swp.simulation_identification.physical_objects.reservoir import Reservoir\n",
    "from swp.simulation_identification.physical_objects.gate import Gate\n",
    "from swp.data_access.csv_data_source import CsvDataSourceAgent\n",
    "\n",
    "CONFIG_PATH = 'examples/data_driven_simulation.json'\n",
    "with open(CONFIG_PATH, 'r') as f:\n",
    "    config = json.load(f)\n",
    "\n",
    "print(\"配置加载成功！\")\n",
    "\n",
    "# 设置 Matplotlib 样式\n",
    "plt.style.use('seaborn-v0_8-whitegrid')\n",
    "plt.rcParams['font.sans-serif'] = ['SimHei']\n",
    "plt.rcParams['axes.unicode_minus'] = False"
   ]
  },
  {
   "cell_type": "markdown",
   "metadata": {},
   "source": [
    "### 2. 定义并运行仿真"
   ]
  },
  {
   "cell_type": "code",
   "execution_count": null,
   "metadata": {},
   "outputs": [],
   "source": [
    "def run_data_driven_simulation(cfg):\n",
    "    print(\"\\n--- 搭建数据驱动的仿真示例 ---\")\n",
    "\n",
    "    # 1. 仿真和通信设置\n",
    "    harness = SimulationHarness(config=cfg['simulation'])\n",
    "    message_bus = harness.message_bus\n",
    "    data_topic = cfg['messaging']['inflow_data_topic']\n",
    "\n",
    "    # 2. 创建数据源智能体\n",
    "    agent_cfg = cfg['agents']['csv_data_source']\n",
    "    csv_agent = CsvDataSourceAgent(\n",
    "        agent_id=\"csv_inflow_agent\",\n",
    "        message_bus=message_bus,\n",
    "        csv_filepath=agent_cfg['csv_filepath'],\n",
    "        publish_topic=data_topic\n",
    "    )\n",
    "\n",
    "    # 3. 创建物理组件\n",
    "    res_cfg = cfg['components']['reservoir']\n",
    "    reservoir = Reservoir(\n",
    "        name=\"data_driven_reservoir\",\n",
    "        initial_state=res_cfg['initial_state'],\n",
    "        parameters=res_cfg['params'],\n",
    "        message_bus=message_bus,\n",
    "        inflow_topic=data_topic\n",
    "    )\n",
    "\n",
    "    gate_cfg = cfg['components']['gate']\n",
    "    gate = Gate(\n",
    "        name=\"outflow_gate\",\n",
    "        initial_state=gate_cfg['initial_state'],\n",
    "        parameters=gate_cfg['params']\n",
    "    )\n",
    "\n",
    "    # 4. 添加组件和智能体到仿真平台\n",
    "    harness.add_component(reservoir)\n",
    "    harness.add_component(gate)\n",
    "    harness.add_agent(csv_agent)\n",
    "\n",
    "    # 5. 定义拓扑并构建\n",
    "    harness.add_connection(\"data_driven_reservoir\", \"outflow_gate\")\n",
    "    harness.build()\n",
    "\n",
    "    # 6. 运行仿真\n",
    "    harness.run_mas_simulation()\n",
    "\n",
    "    print(\"\\n--- 仿真结束后的最终状态 ---\")\n",
    "    final_states = {cid: comp.get_state() for cid, comp in harness.components.items()}\n",
    "    for cid, state in final_states.items():\n",
    "        state_str = \", \".join(f\"{k}={v:.2f}\" for k, v in state.items())\n",
    "        print(f\"  {cid}: {state_str}\")\n",
    "        \n",
    "    return harness.history\n",
    "\n",
    "history = run_data_driven_simulation(config)"
   ]
  },
  {
   "cell_type": "markdown",
   "metadata": {},
   "source": [
    "### 3. 可视化结果\n",
    "\n",
    "我们可以绘制水库水位随时间的变化，以直观地看到CSV数据是如何影响系统状态的。"
   ]
  },
  {
   "cell_type": "code",
   "execution_count": null,
   "metadata": {},
   "outputs": [],
   "source": [
    "def plot_history(simulation_history):\n",
    "    if not simulation_history:\n",
    "        print(\"没有历史数据可供绘制。\")\n",
    "        return\n",
    "        \n",
    "    # 将历史记录转换为Pandas DataFrame以便于绘图\n",
    "    flat_history = []\n",
    "    for step in simulation_history:\n",
    "        row = {'time': step['time']}\n",
    "        for component_name, states in step.items():\n",
    "            if component_name == 'time' or not isinstance(states, dict): continue\n",
    "            for state_key, value in states.items():\n",
    "                row[f\"{component_name}.{state_key}\"] = value\n",
    "        flat_history.append(row)\n",
    "    results_df = pd.DataFrame(flat_history).set_index('time')\n",
    "    \n",
    "    plt.figure(figsize=(15, 7))\n",
    "    plt.plot(results_df.index, results_df['data_driven_reservoir.water_level'], marker='o', linestyle='-')\n",
    "    plt.title('数据驱动下水库水位的变化')\n",
    "    plt.xlabel('时间 (s)')\n",
    "    plt.ylabel('水位 (m)')\n",
    "    plt.grid(True)\n",
    "    plt.show()\n",
    "\n",
    "plot_history(history)"
   ]
  }
 ],
 "metadata": {
  "kernelspec": {
   "display_name": "Python 3",
   "language": "python",
   "name": "python3"
  },
  "language_info": {
   "name": "python",
   "version": "3.12.1"
  }
 },
 "nbformat": 4,
 "nbformat_minor": 2
}
