{
 "cells": [
  {
   "cell_type": "markdown",
   "metadata": {},
   "source": [
    "# 案例: 水泵-阀门系统仿真\n",
    "\n",
    "本案例演示了一个包含水泵和阀门的基本管网系统。系统拓扑为：\n",
    "\n",
    "`源水库 -> 水泵 -> 管道 -> 阀门 -> 目标水库`\n",
    "\n",
    "我们将通过在特定时间发布控制消息到消息总线，来手动控制水泵的启停和阀门的开合，并观察系统中水位的变化。"
   ]
  },
  {
   "cell_type": "markdown",
   "metadata": {},
   "source": [
    "### 1. 导入库并加载配置"
   ]
  },
  {
   "cell_type": "code",
   "execution_count": null,
   "metadata": {},
   "outputs": [],
   "source": [
    "import json\n",
    "import pandas as pd\n",
    "import matplotlib.pyplot as plt\n",
    "\n",
    "from swp.core_engine.testing.simulation_harness import SimulationHarness\n",
    "from swp.simulation_identification.physical_objects.reservoir import Reservoir\n",
    "from swp.simulation_identification.physical_objects.pipe import Pipe\n",
    "from swp.simulation_identification.physical_objects.valve import Valve\n",
    "from swp.simulation_identification.physical_objects.pump import Pump\n",
    "\n",
    "CONFIG_PATH = 'examples/pump_valve_simulation.json'\n",
    "with open(CONFIG_PATH, 'r') as f:\n",
    "    config = json.load(f)\n",
    "\n",
    "print(\"配置加载成功！\")\n",
    "\n",
    "plt.style.use('seaborn-v0_8-whitegrid')\n",
    "plt.rcParams['font.sans-serif'] = ['SimHei']\n",
    "plt.rcParams['axes.unicode_minus'] = False"
   ]
  },
  {
   "cell_type": "markdown",
   "metadata": {},
   "source": [
    "### 2. 定义并运行仿真"
   ]
  },
  {
   "cell_type": "code",
   "execution_count": null,
   "metadata": {},
   "outputs": [],
   "source": [
    "def run_pump_valve_simulation(cfg):\n",
    "    print(\"\\n--- 搭建水泵-阀门仿真示例 ---\")\n",
    "\n",
    "    # 1. 仿真和通信设置\n",
    "    harness = SimulationHarness(cfg['simulation'])\n",
    "    message_bus = harness.message_bus\n",
    "    \n",
    "    # 2. 创建物理组件\n",
    "    comp_cfgs = cfg['components']\n",
    "    source_reservoir = Reservoir(\"source_res\", **comp_cfgs['source_reservoir'])\n",
    "    dest_reservoir = Reservoir(\"dest_res\", **comp_cfgs['dest_reservoir'])\n",
    "    pump = Pump(\"pump1\", message_bus=message_bus, **comp_cfgs['pump'])\n",
    "    pipe = Pipe(\"pipe1\", **comp_cfgs['pipe'])\n",
    "    valve = Valve(\"valve1\", message_bus=message_bus, **comp_cfgs['valve'])\n",
    "\n",
    "    harness.add_component(source_reservoir)\n",
    "    harness.add_component(pump)\n",
    "    harness.add_component(pipe)\n",
    "    harness.add_component(valve)\n",
    "    harness.add_component(dest_reservoir)\n",
    "\n",
    "    # 3. 定义拓扑并构建\n",
    "    harness.add_connection(\"source_res\", \"pump1\")\n",
    "    harness.add_connection(\"pump1\", \"pipe1\")\n",
    "    harness.add_connection(\"pipe1\", \"valve1\")\n",
    "    harness.add_connection(\"valve1\", \"dest_res\")\n",
    "    harness.build()\n",
    "\n",
    "    # 4. 仿真循环\n",
    "    num_steps = int(harness.duration / harness.dt)\n",
    "    events = {event['time']: [] for event in cfg['control_events']}\n",
    "    for event in cfg['control_events']:\n",
    "        events[event['time']].append(event)\n",
    "        \n",
    "    for i in range(num_steps):\n",
    "        current_time = i * harness.dt\n",
    "        print(f\"--- 仿真步 {i+1}, 时间: {current_time:.2f}s ---\")\n",
    "        \n",
    "        # 检查并发布当前时间的控制指令\n",
    "        if current_time in events:\n",
    "            for event in events[current_time]:\n",
    "                if 'message' in event: print(f\"\\n>>> {event['message']} <<<\")\n",
    "                message_bus.publish(event['topic'], {'control_signal': event['control_signal']})\n",
    "        \n",
    "        # 标准化为调用 harness.step()\n",
    "        harness.step()\n",
    "        \n",
    "        print(\"  组件状态更新:\")\n",
    "        for cid in harness.sorted_components:\n",
    "            state = harness.components[cid].get_state()\n",
    "            state_str = \", \".join(f\"{k}={v:.2f}\" for k, v in state.items() if isinstance(v, (int, float)))\n",
    "            print(f\"    {cid}: {state_str}\")\n",
    "        print(\"\")\n",
    "        \n",
    "    print(\"仿真结束。\")\n",
    "    return harness.history\n",
    "\n",
    "history = run_pump_valve_simulation(config)"
   ]
  },
  {
   "cell_type": "markdown",
   "metadata": {},
   "source": [
    "### 3. 可视化结果"
   ]
  },
  {
   "cell_type": "code",
   "execution_count": null,
   "metadata": {},
   "outputs": [],
   "source": [
    "def plot_history(simulation_history):\n",
    "    if not simulation_history:\n",
    "        print(\"没有历史数据可供绘制。\")\n",
    "        return\n",
    "        \n",
    "    # 将历史记录转换为Pandas DataFrame\n",
    "    df = pd.DataFrame()\n",
    "    for step in simulation_history:\n",
    "        time = step['time']\n",
    "        row = {'time': time}\n",
    "        for comp, states in step.items():\n",
    "            if comp == 'time': continue\n",
    "            for state, value in states.items():\n",
    "                row[f\"{comp}.{state}\"] = value\n",
    "        df = pd.concat([df, pd.DataFrame([row])], ignore_index=True)\n",
    "    df = df.set_index('time')\n",
    "\n",
    "    fig, ax1 = plt.subplots(figsize=(15, 7))\n",
    "    fig.suptitle('水泵-阀门系统仿真结果', fontsize=16)\n",
    "\n",
    "    # 绘制两个水库的水位\n",
    "    ax1.plot(df.index, df['source_res.water_level'], 'b-', label='源水库水位 (m)')\n",
    "    ax1.plot(df.index, df['dest_res.water_level'], 'g-', label='目标水库水位 (m)')\n",
    "    ax1.set_xlabel('时间 (s)')\n",
    "    ax1.set_ylabel('水位 (m)', color='b')\n",
    "    ax1.tick_params(axis='y', labelcolor='b')\n",
    "    ax1.grid(True)\n",
    "\n",
    "    # 绘制泵的流量\n",
    "    ax2 = ax1.twinx()\n",
    "    ax2.plot(df.index, df['pump1.outflow'], 'r--', label='水泵流量 (m³/s)')\n",
    "    ax2.set_ylabel('流量 (m³/s)', color='r')\n",
    "    ax2.tick_params(axis='y', labelcolor='r')\n",
    "\n",
    "    lines, labels = ax1.get_legend_handles_labels()\n",
    "    lines2, labels2 = ax2.get_legend_handles_labels()\n",
    "    ax2.legend(lines + lines2, labels + labels2, loc='upper right')\n",
    "\n",
    "    plt.show()\n",
    "\n",
    "plot_history(history)"
   ]
  }
 ],
 "metadata": {
  "kernelspec": {
   "display_name": "Python 3",
   "language": "python",
   "name": "python3"
  },
  "language_info": {
   "name": "python",
   "version": "3.12.1"
  }
 },
 "nbformat": 4,
 "nbformat_minor": 2
}
