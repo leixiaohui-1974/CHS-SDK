{
 "cells": [
  {
   "cell_type": "markdown",
   "metadata": {},
   "source": [
    "# 案例 2.2: 全流域水资源联合调度\n",
    "\n",
    "本案例演示了一个包含多个智能体和一个拥有紧急否决权的中央调度中心的综合性流域调度场景。它旨在模拟在洪水和高峰用水需求同时发生时的复杂决策过程。"
   ]
  },
  {
   "cell_type": "markdown",
   "metadata": {},
   "source": [
    "### 1. 导入库并加载配置"
   ]
  },
  {
   "cell_type": "code",
   "execution_count": null,
   "metadata": {},
   "outputs": [],
   "source": [
    "import json\n",
    "import math\n",
    "\n",
    "# 导入平台组件\n",
    "from swp.central_coordination.collaboration.message_bus import MessageBus\n",
    "from swp.simulation_identification.physical_objects.reservoir import Reservoir\n",
    "from swp.simulation_identification.physical_objects.gate import Gate\n",
    "from swp.simulation_identification.physical_objects.river_channel import RiverChannel\n",
    "from swp.local_agents.control.hydropower_station_agent import HydropowerStationAgent\n",
    "from swp.local_agents.disturbances.water_use_agent import WaterUseAgent\n",
    "from swp.central_coordination.dispatch.central_dispatcher_agent import CentralDispatcherAgent\n",
    "\n",
    "CONFIG_PATH = 'examples/integrated_basin_scheduling.json'\n",
    "with open(CONFIG_PATH, 'r') as f:\n",
    "    config = json.load(f)\n",
    "\n",
    "print(\"配置加载成功！\")"
   ]
  },
  {
   "cell_type": "markdown",
   "metadata": {},
   "source": [
    "### 2. 定义仿真函数"
   ]
  },
  {
   "cell_type": "code",
   "execution_count": null,
   "metadata": {},
   "outputs": [],
   "source": [
    "def run_basin_simulation(cfg):\n",
    "    # 1. 初始化\n",
    "    bus = MessageBus()\n",
    "    sim_cfg = cfg['simulation']\n",
    "    dt = sim_cfg['dt']\n",
    "    comp_cfgs = cfg['components']\n",
    "    agent_cfgs = cfg['agents']\n",
    "\n",
    "    # 2. 创建物理组件\n",
    "    res_cfg = comp_cfgs['reservoir']\n",
    "    initial_level = res_cfg['initial_volume'] / res_cfg['surface_area']\n",
    "    reservoir = Reservoir(\"main_reservoir\", {'volume': res_cfg['initial_volume'], 'water_level': initial_level}, {'surface_area': res_cfg['surface_area']})\n",
    "\n",
    "    tg_cfg = comp_cfgs['turbine_gate']\n",
    "    turbine_gate = Gate(\"turbine_gate\", {'opening': 0}, tg_cfg, bus, \"station/tg1\")\n",
    "\n",
    "    fg_cfg = comp_cfgs['flood_gate']\n",
    "    flood_gate = Gate(\"flood_gate\", {'opening': 0}, fg_cfg, bus, \"station/flood\")\n",
    "\n",
    "    rc_cfg = comp_cfgs['river_channel']\n",
    "    channel = RiverChannel(\"main_river\", {'volume': rc_cfg['initial_volume'], 'outflow': rc_cfg['initial_outflow']}, {'k': rc_cfg['k']})\n",
    "\n",
    "    sg_cfg = comp_cfgs['supply_gate']\n",
    "    supply_gate = Gate(\"supply_gate\", {'opening': 0}, sg_cfg, bus, \"downstream/supply\")\n",
    "\n",
    "    # 3. 创建智能体\n",
    "    hp_agent = HydropowerStationAgent(\"HydropowerOps\", bus, reservoir, \"station/flood\", \"station/supply\", [\"station/tg1\"], agent_cfgs['hydropower_agent'])\n",
    "    user_agent = WaterUseAgent(\"CityWaterDept\", bus, supply_gate_topic=\"downstream/supply\")\n",
    "    dispatcher = CentralDispatcherAgent(\"BasinControlCenter\", bus, reservoir, \"downstream/supply\", agent_cfgs['dispatcher_agent'])\n",
    "\n",
    "    # 4. 仿真循环\n",
    "    print(\"\\n--- 开始仿真: 洪水与高峰用水并发场景 ---\")\n",
    "    dist_cfg = cfg['disturbance']\n",
    "    base_inflow = dist_cfg['base_inflow']\n",
    "    pulse_cfg = dist_cfg['flood_pulse']\n",
    "\n",
    "    for t in range(sim_cfg['num_steps']):\n",
    "        current_time = t * dt\n",
    "        \n",
    "        # 计算洪水扰动\n",
    "        inflow = base_inflow\n",
    "        if pulse_cfg['start_hour'] <= t < pulse_cfg['start_hour'] + pulse_cfg['duration_hours']:\n",
    "            inflow += pulse_cfg['magnitude'] * math.sin((t - pulse_cfg['start_hour']) / pulse_cfg['duration_hours'] * math.pi)\n",
    "\n",
    "        print(f\"\\n--- 小时 {t}, 来水: {inflow:.2f} m^3/s, 水库水位: {reservoir.get_state()['water_level']:.2f}m ---\")\n",
    "\n",
    "        # 5. 智能体决策 (感知 -> 本地行动 -> 全局覆盖)\n",
    "        hp_agent.run(current_time)\n",
    "        user_agent.run(current_time)\n",
    "        dispatcher.run(current_time)\n",
    "\n",
    "        # 6. 物理状态更新\n",
    "        res_level = reservoir.get_state()['water_level']\n",
    "        turbine_gate.step({'upstream_head': res_level, 'downstream_head': 10}, dt)\n",
    "        flood_gate.step({'upstream_head': res_level, 'downstream_head': 10}, dt)\n",
    "        station_outflow = turbine_gate.get_state()['outflow'] + flood_gate.get_state()['outflow']\n",
    "\n",
    "        reservoir.set_inflow(inflow)\n",
    "        reservoir.step({'outflow': station_outflow}, dt)\n",
    "\n",
    "        channel.set_inflow(station_outflow)\n",
    "        channel.step({}, dt)\n",
    "\n",
    "        channel_head = channel.get_state()['volume'] * rc_cfg['k']\n",
    "        supply_gate.step({'upstream_head': channel_head, 'downstream_head': 0}, dt)\n",
    "\n",
    "        channel.set_state({'volume': channel.get_state()['volume'] - supply_gate.get_state()['outflow'] * dt})\n",
    "\n",
    "        # 7. 日志记录\n",
    "        print(f\"  水电站决策: 发电闸开度={turbine_gate.get_state()['opening']:.2f}, 泄洪闸开度={flood_gate.get_state()['opening']:.2f}\")\n",
    "        print(f\"  城市用水决策: 供水闸开度 -> {supply_gate.get_state()['opening']:.2f}\")\n",
    "        print(f\"  调度中心状态: 监控中. 紧急水位: {dispatcher.emergency_flood_level}m\")\n",
    "        print(f\"  河道出流: {channel.get_state()['outflow']:.2f} m^3/s\")"
   ]
  },
  {
   "cell_type": "markdown",
   "metadata": {},
   "source": [
    "### 3. 运行仿真"
   ]
  },
  {
   "cell_type": "code",
   "execution_count": null,
   "metadata": {},
   "outputs": [],
   "source": [
    "run_basin_simulation(config)"
   ]
  }
 ],
 "metadata": {
  "kernelspec": {
   "display_name": "Python 3",
   "language": "python",
   "name": "python3"
  },
  "language_info": {
   "name": "python",
   "version": "3.12.1"
  }
 },
 "nbformat": 4,
 "nbformat_minor": 2
}
