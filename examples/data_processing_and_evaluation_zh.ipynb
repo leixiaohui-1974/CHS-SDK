{
 "cells": [
  {
   "cell_type": "markdown",
   "metadata": {},
   "source": [
    "# 案例 1.4: 数据清洗与评估诊断\n",
    "\n",
    "本案例演示了平台的数据处理能力。我们将创建一个时间序列，手动为其添加缺陷（缺失值和异常值），然后使用平台的工具进行清洗，并最终评估清洗的效果。"
   ]
  },
  {
   "cell_type": "markdown",
   "metadata": {},
   "source": [
    "### 1. 导入库并加载配置"
   ]
  },
  {
   "cell_type": "code",
   "execution_count": null,
   "metadata": {},
   "outputs": [],
   "source": [
    "import json\n",
    "import numpy as np\n",
    "import pandas as pd\n",
    "import matplotlib.pyplot as plt\n",
    "\n",
    "# 导入平台模块\n",
    "from swp.data_processing.cleaner import fill_missing_with_interpolation\n",
    "from swp.data_processing.evaluator import calculate_rmse, calculate_nse, calculate_kge\n",
    "\n",
    "CONFIG_PATH = 'examples/data_processing_and_evaluation.json'\n",
    "\n",
    "with open(CONFIG_PATH, 'r') as f:\n",
    "    config = json.load(f)\n",
    "\n",
    "print(\"配置加载成功！\")\n",
    "\n",
    "# 设置 Matplotlib 样式\n",
    "plt.style.use('seaborn-v0_8-whitegrid')\n",
    "plt.rcParams['font.sans-serif'] = ['SimHei']\n",
    "plt.rcParams['axes.unicode_minus'] = False"
   ]
  },
  {
   "cell_type": "markdown",
   "metadata": {},
   "source": [
    "### 2. 生成和“污染”数据\n",
    "\n",
    "我们首先根据配置生成一套“完美”的基准数据，然后根据配置中的定义，向其中添加缺失值和异常值，以模拟真实世界中不完美的数据。"
   ]
  },
  {
   "cell_type": "code",
   "execution_count": null,
   "metadata": {},
   "outputs": [],
   "source": [
    "def generate_data(cfg):\n",
    "    gen_cfg = cfg['data_generation']\n",
    "    imp_cfg = cfg['imperfections']\n",
    "    \n",
    "    # 生成基准数据\n",
    "    true_values = pd.Series(\n",
    "        np.sin(np.linspace(0, gen_cfg['sin_wave_end'], gen_cfg['num_points'])) * gen_cfg['sin_wave_multiplier'] + gen_cfg['base_value']\n",
    "    )\n",
    "\n",
    "    # 复制一份用于“污染”\n",
    "    imperfect_values = true_values.copy()\n",
    "\n",
    "    # 添加缺失值\n",
    "    imperfect_values.iloc[imp_cfg['missing_indices']] = np.nan\n",
    "\n",
    "    # 添加异常值\n",
    "    for outlier in imp_cfg['outliers']:\n",
    "        if outlier.get('operation') == 'multiply':\n",
    "            imperfect_values.iloc[outlier['index']] *= outlier['value']\n",
    "        else:\n",
    "            imperfect_values.iloc[outlier['index']] = outlier['value']\n",
    "            \n",
    "    print(f\"生成了 {gen_cfg['num_points']} 个数据点。\")\n",
    "    print(f\"原始数据有 {imperfect_values.isna().sum()} 个缺失值和 {len(imp_cfg['outliers'])} 个异常值。\\n\")\n",
    "    \n",
    "    return true_values, imperfect_values\n",
    "\n",
    "true_data, imperfect_data = generate_data(config)"
   ]
  },
  {
   "cell_type": "markdown",
   "metadata": {},
   "source": [
    "### 3. 清洗数据并进行评估\n",
    "\n",
    "我们使用平台的 `fill_missing_with_interpolation` 函数来填充缺失值，然后将清洗前后的数据与“完美”数据进行比较，以量化清洗效果和异常值的影响。"
   ]
  },
  {
   "cell_type": "code",
   "execution_count": null,
   "metadata": {},
   "outputs": [],
   "source": [
    "# 使用线性插值填充缺失值\n",
    "cleaned_data = fill_missing_with_interpolation(imperfect_data.copy())\n",
    "print(\"步骤 1: 使用插值法填充缺失值完成。\")\n",
    "print(f\"数据现在有 {cleaned_data.isna().sum()} 个缺失值。\\n\")\n",
    "\n",
    "# 评估 '不完美' 数据作为基线\n",
    "print(\"--- 评估不完美数据 (含异常值, 为计算指标已去除NaN) ---\")\n",
    "imperfect_subset = imperfect_data.dropna()\n",
    "true_subset_for_imperfect = true_data[imperfect_subset.index]\n",
    "rmse_before = calculate_rmse(true_subset_for_imperfect, imperfect_subset)\n",
    "nse_before = calculate_nse(true_subset_for_imperfect, imperfect_subset)\n",
    "kge_before = calculate_kge(true_subset_for_imperfect, imperfect_subset)\n",
    "print(f\"基线 RMSE: {rmse_before:.4f}\")\n",
    "print(f\"基线 NSE: {nse_before:.4f}\")\n",
    "print(f\"基线 KGE: {kge_before:.4f}\\n\")\n",
    "\n",
    "# 评估清洗后的数据\n",
    "print(\"--- 评估清洗后数据 ---\")\n",
    "rmse_after = calculate_rmse(true_data, cleaned_data)\n",
    "nse_after = calculate_nse(true_data, cleaned_data)\n",
    "kge_after = calculate_kge(true_data, cleaned_data)\n",
    "\n",
    "print(f\"清洗后 RMSE: {rmse_after:.4f}\")\n",
    "print(f\"清洗后 NSE: {nse_after:.4f} (越接近1越好)\")\n",
    "print(f\"清洗后 KGE: {kge_after:.4f} (越接近1越好)\\n\")\n",
    "print(\"结论: 插值法修复了缺失值，但异常值仍然严重影响了性能指标（例如高RMSE，低NSE/KGE）。\")"
   ]
  },
  {
   "cell_type": "markdown",
   "metadata": {},
   "source": [
    "### 4. 可视化对比"
   ]
  },
  {
   "cell_type": "code",
   "execution_count": null,
   "metadata": {},
   "outputs": [],
   "source": [
    "plt.figure(figsize=(15, 7))\n",
    "plt.plot(true_data, 'g-', label='完美数据 (Ground Truth)', linewidth=2)\n",
    "plt.plot(imperfect_data, 'ro', label='不完美数据 (Imperfect)', markersize=5, alpha=0.6)\n",
    "plt.plot(cleaned_data, 'b--', label='清洗后数据 (Cleaned)', linewidth=2)\n",
    "plt.title('数据清洗效果对比')\n",
    "plt.xlabel('数据点索引')\n",
    "plt.ylabel('数值')\n",
    "plt.legend()\n",
    "plt.grid(True)\n",
    "plt.show()"
   ]
  }
 ],
 "metadata": {
  "kernelspec": {
   "display_name": "Python 3",
   "language": "python",
   "name": "python3"
  },
  "language_info": {
   "name": "python",
   "version": "3.12.1"
  }
 },
 "nbformat": 4,
 "nbformat_minor": 2
}
